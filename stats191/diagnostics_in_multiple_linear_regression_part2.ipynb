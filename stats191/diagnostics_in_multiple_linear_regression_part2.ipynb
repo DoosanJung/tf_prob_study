{
 "cells": [
  {
   "cell_type": "markdown",
   "metadata": {},
   "source": [
    "R => Python  \n",
    "Source: https://web.stanford.edu/class/stats191/notebooks/Diagnostics_for_multiple_regression.html"
   ]
  },
  {
   "cell_type": "markdown",
   "metadata": {},
   "source": [
    "## Diagnostics in multiple linear regression - Part 2\n",
    "(The original document has part 1 and part 2 together)"
   ]
  },
  {
   "cell_type": "markdown",
   "metadata": {},
   "source": [
    "### Outline\n",
    "\n",
    "-   Diagnostics â€“ again\n",
    "\n",
    "-   Different types of residuals\n",
    "\n",
    "-   Influence\n",
    "\n",
    "-   Outlier detection\n",
    "\n",
    "-   Residual plots:\n",
    "\n",
    "    -   partial regression (added variable) plot,\n",
    "\n",
    "    -   partial residual (residual plus component) plot."
   ]
  },
  {
   "cell_type": "code",
   "execution_count": 1,
   "metadata": {
    "collapsed": false
   },
   "outputs": [],
   "source": [
    "import numpy as np\n",
    "import pandas as pd\n",
    "from scipy import stats\n",
    "import statsmodels.api as sm\n",
    "from statsmodels.formula.api import ols\n",
    "import matplotlib.pyplot as plt\n",
    "import seaborn as sns\n",
    "from statsmodels.graphics.gofplots import qqplot\n",
    "from statsmodels.stats.diagnostic import linear_harvey_collier\n",
    "from statsmodels.stats.diagnostic import het_breuschpagan, het_white, het_goldfeldquandt\n",
    "from statsmodels.compat import lzip\n",
    "from statsmodels.stats.outliers_influence import variance_inflation_factor"
   ]
  },
  {
   "cell_type": "code",
   "execution_count": 2,
   "metadata": {
    "collapsed": false
   },
   "outputs": [
    {
     "data": {
      "text/plain": [
       "'0.9.0'"
      ]
     },
     "execution_count": 2,
     "metadata": {},
     "output_type": "execute_result"
    }
   ],
   "source": [
    "sm.version.version"
   ]
  },
  {
   "cell_type": "code",
   "execution_count": 3,
   "metadata": {
    "collapsed": false
   },
   "outputs": [
    {
     "data": {
      "text/plain": [
       "'0.18.1'"
      ]
     },
     "execution_count": 3,
     "metadata": {},
     "output_type": "execute_result"
    }
   ],
   "source": [
    "import scipy; scipy.__version__"
   ]
  },
  {
   "cell_type": "markdown",
   "metadata": {},
   "source": [
    "## Continued from diagnostics_in_multiple_linear_regression_part1.ipynb"
   ]
  },
  {
   "cell_type": "markdown",
   "metadata": {},
   "source": [
    "## Scottish hill races data\n",
    "\n",
    "The dataset we will use is based on record times on [Scottish hill races](http://www.statsci.org/data/general/hills.html).\n",
    "\n",
    "<table>\n",
    "<tr><td><b>Variable</b></td><td><b>Description</b></td></tr>\n",
    "<tr><td>Time</td><td>Record time to complete course</td></tr>\n",
    "<tr><td>Distance</td><td>Distance in the course</td></tr>\n",
    "<tr><td>Climb</td><td>Vertical climb in the course</td></tr>\n",
    "</table>\n"
   ]
  },
  {
   "cell_type": "code",
   "execution_count": 4,
   "metadata": {
    "collapsed": true
   },
   "outputs": [],
   "source": [
    "url = \"http://www.statsci.org/data/general/hills.txt\""
   ]
  },
  {
   "cell_type": "code",
   "execution_count": 5,
   "metadata": {
    "collapsed": false
   },
   "outputs": [
    {
     "name": "stderr",
     "output_type": "stream",
     "text": [
      "/home/doojung/anaconda3/lib/python3.6/site-packages/ipykernel/__main__.py:1: FutureWarning: read_table is deprecated, use read_csv instead, passing sep='\\t'.\n",
      "  if __name__ == '__main__':\n"
     ]
    },
    {
     "data": {
      "text/html": [
       "<div>\n",
       "<style scoped>\n",
       "    .dataframe tbody tr th:only-of-type {\n",
       "        vertical-align: middle;\n",
       "    }\n",
       "\n",
       "    .dataframe tbody tr th {\n",
       "        vertical-align: top;\n",
       "    }\n",
       "\n",
       "    .dataframe thead th {\n",
       "        text-align: right;\n",
       "    }\n",
       "</style>\n",
       "<table border=\"1\" class=\"dataframe\">\n",
       "  <thead>\n",
       "    <tr style=\"text-align: right;\">\n",
       "      <th></th>\n",
       "      <th>Distance</th>\n",
       "      <th>Climb</th>\n",
       "      <th>Time</th>\n",
       "    </tr>\n",
       "    <tr>\n",
       "      <th>Race</th>\n",
       "      <th></th>\n",
       "      <th></th>\n",
       "      <th></th>\n",
       "    </tr>\n",
       "  </thead>\n",
       "  <tbody>\n",
       "    <tr>\n",
       "      <th>Greenmantle</th>\n",
       "      <td>2.5</td>\n",
       "      <td>650</td>\n",
       "      <td>16.083</td>\n",
       "    </tr>\n",
       "    <tr>\n",
       "      <th>Carnethy</th>\n",
       "      <td>6.0</td>\n",
       "      <td>2500</td>\n",
       "      <td>48.350</td>\n",
       "    </tr>\n",
       "    <tr>\n",
       "      <th>CraigDunain</th>\n",
       "      <td>6.0</td>\n",
       "      <td>900</td>\n",
       "      <td>33.650</td>\n",
       "    </tr>\n",
       "    <tr>\n",
       "      <th>BenRha</th>\n",
       "      <td>7.5</td>\n",
       "      <td>800</td>\n",
       "      <td>45.600</td>\n",
       "    </tr>\n",
       "    <tr>\n",
       "      <th>BenLomond</th>\n",
       "      <td>8.0</td>\n",
       "      <td>3070</td>\n",
       "      <td>62.267</td>\n",
       "    </tr>\n",
       "  </tbody>\n",
       "</table>\n",
       "</div>"
      ],
      "text/plain": [
       "             Distance  Climb    Time\n",
       "Race                                \n",
       "Greenmantle       2.5    650  16.083\n",
       "Carnethy          6.0   2500  48.350\n",
       "CraigDunain       6.0    900  33.650\n",
       "BenRha            7.5    800  45.600\n",
       "BenLomond         8.0   3070  62.267"
      ]
     },
     "execution_count": 5,
     "metadata": {},
     "output_type": "execute_result"
    }
   ],
   "source": [
    "data = pd.read_table(url, header=[0], index_col=0)\n",
    "data.head()"
   ]
  },
  {
   "cell_type": "code",
   "execution_count": 6,
   "metadata": {
    "collapsed": false
   },
   "outputs": [
    {
     "data": {
      "text/plain": [
       "Index(['Distance', 'Climb', 'Time'], dtype='object')"
      ]
     },
     "execution_count": 6,
     "metadata": {},
     "output_type": "execute_result"
    }
   ],
   "source": [
    "data.columns"
   ]
  },
  {
   "cell_type": "code",
   "execution_count": 7,
   "metadata": {
    "collapsed": true
   },
   "outputs": [],
   "source": [
    "formula = 'Time ~ Distance + Climb'"
   ]
  },
  {
   "cell_type": "code",
   "execution_count": 8,
   "metadata": {
    "collapsed": false
   },
   "outputs": [
    {
     "data": {
      "text/html": [
       "<table class=\"simpletable\">\n",
       "<caption>OLS Regression Results</caption>\n",
       "<tr>\n",
       "  <th>Dep. Variable:</th>          <td>Time</td>       <th>  R-squared:         </th> <td>   0.919</td>\n",
       "</tr>\n",
       "<tr>\n",
       "  <th>Model:</th>                   <td>OLS</td>       <th>  Adj. R-squared:    </th> <td>   0.914</td>\n",
       "</tr>\n",
       "<tr>\n",
       "  <th>Method:</th>             <td>Least Squares</td>  <th>  F-statistic:       </th> <td>   181.7</td>\n",
       "</tr>\n",
       "<tr>\n",
       "  <th>Date:</th>             <td>Wed, 12 Jun 2019</td> <th>  Prob (F-statistic):</th> <td>3.40e-18</td>\n",
       "</tr>\n",
       "<tr>\n",
       "  <th>Time:</th>                 <td>12:03:37</td>     <th>  Log-Likelihood:    </th> <td> -142.11</td>\n",
       "</tr>\n",
       "<tr>\n",
       "  <th>No. Observations:</th>      <td>    35</td>      <th>  AIC:               </th> <td>   290.2</td>\n",
       "</tr>\n",
       "<tr>\n",
       "  <th>Df Residuals:</th>          <td>    32</td>      <th>  BIC:               </th> <td>   294.9</td>\n",
       "</tr>\n",
       "<tr>\n",
       "  <th>Df Model:</th>              <td>     2</td>      <th>                     </th>     <td> </td>   \n",
       "</tr>\n",
       "<tr>\n",
       "  <th>Covariance Type:</th>      <td>nonrobust</td>    <th>                     </th>     <td> </td>   \n",
       "</tr>\n",
       "</table>\n",
       "<table class=\"simpletable\">\n",
       "<tr>\n",
       "      <td></td>         <th>coef</th>     <th>std err</th>      <th>t</th>      <th>P>|t|</th>  <th>[0.025</th>    <th>0.975]</th>  \n",
       "</tr>\n",
       "<tr>\n",
       "  <th>Intercept</th> <td>   -8.9920</td> <td>    4.303</td> <td>   -2.090</td> <td> 0.045</td> <td>  -17.756</td> <td>   -0.228</td>\n",
       "</tr>\n",
       "<tr>\n",
       "  <th>Distance</th>  <td>    6.2180</td> <td>    0.601</td> <td>   10.343</td> <td> 0.000</td> <td>    4.993</td> <td>    7.442</td>\n",
       "</tr>\n",
       "<tr>\n",
       "  <th>Climb</th>     <td>    0.0110</td> <td>    0.002</td> <td>    5.387</td> <td> 0.000</td> <td>    0.007</td> <td>    0.015</td>\n",
       "</tr>\n",
       "</table>\n",
       "<table class=\"simpletable\">\n",
       "<tr>\n",
       "  <th>Omnibus:</th>       <td>47.910</td> <th>  Durbin-Watson:     </th> <td>   2.249</td>\n",
       "</tr>\n",
       "<tr>\n",
       "  <th>Prob(Omnibus):</th> <td> 0.000</td> <th>  Jarque-Bera (JB):  </th> <td> 233.976</td>\n",
       "</tr>\n",
       "<tr>\n",
       "  <th>Skew:</th>          <td> 3.026</td> <th>  Prob(JB):          </th> <td>1.56e-51</td>\n",
       "</tr>\n",
       "<tr>\n",
       "  <th>Kurtosis:</th>      <td>14.127</td> <th>  Cond. No.          </th> <td>4.20e+03</td>\n",
       "</tr>\n",
       "</table><br/><br/>Warnings:<br/>[1] Standard Errors assume that the covariance matrix of the errors is correctly specified.<br/>[2] The condition number is large, 4.2e+03. This might indicate that there are<br/>strong multicollinearity or other numerical problems."
      ],
      "text/plain": [
       "<class 'statsmodels.iolib.summary.Summary'>\n",
       "\"\"\"\n",
       "                            OLS Regression Results                            \n",
       "==============================================================================\n",
       "Dep. Variable:                   Time   R-squared:                       0.919\n",
       "Model:                            OLS   Adj. R-squared:                  0.914\n",
       "Method:                 Least Squares   F-statistic:                     181.7\n",
       "Date:                Wed, 12 Jun 2019   Prob (F-statistic):           3.40e-18\n",
       "Time:                        12:03:37   Log-Likelihood:                -142.11\n",
       "No. Observations:                  35   AIC:                             290.2\n",
       "Df Residuals:                      32   BIC:                             294.9\n",
       "Df Model:                           2                                         \n",
       "Covariance Type:            nonrobust                                         \n",
       "==============================================================================\n",
       "                 coef    std err          t      P>|t|      [0.025      0.975]\n",
       "------------------------------------------------------------------------------\n",
       "Intercept     -8.9920      4.303     -2.090      0.045     -17.756      -0.228\n",
       "Distance       6.2180      0.601     10.343      0.000       4.993       7.442\n",
       "Climb          0.0110      0.002      5.387      0.000       0.007       0.015\n",
       "==============================================================================\n",
       "Omnibus:                       47.910   Durbin-Watson:                   2.249\n",
       "Prob(Omnibus):                  0.000   Jarque-Bera (JB):              233.976\n",
       "Skew:                           3.026   Prob(JB):                     1.56e-51\n",
       "Kurtosis:                      14.127   Cond. No.                     4.20e+03\n",
       "==============================================================================\n",
       "\n",
       "Warnings:\n",
       "[1] Standard Errors assume that the covariance matrix of the errors is correctly specified.\n",
       "[2] The condition number is large, 4.2e+03. This might indicate that there are\n",
       "strong multicollinearity or other numerical problems.\n",
       "\"\"\""
      ]
     },
     "execution_count": 8,
     "metadata": {},
     "output_type": "execute_result"
    }
   ],
   "source": [
    "res = ols(formula, data=data).fit()\n",
    "res.summary()"
   ]
  },
  {
   "cell_type": "markdown",
   "metadata": {
    "collapsed": true
   },
   "source": [
    "But is this a good model? \n",
    "\n",
    "## Diagnostics\n",
    "\n",
    "### What can go wrong?\n",
    "\n",
    "-   Regression function can be wrong: maybe regression function should\n",
    "    have some other form (see diagnostics for simple linear regression).\n",
    "\n",
    "-   Model for the errors may be incorrect:\n",
    "\n",
    "    -   may not be normally distributed.\n",
    "\n",
    "    -   may not be independent.\n",
    "\n",
    "    -   may not have the same variance.\n",
    "\n",
    "-   Detecting problems is more *art* then *science*, i.e. we cannot\n",
    "    *test* for all possible problems in a regression model.\n",
    "\n",
    "## Diagnostics\n",
    "\n",
    "-   Basic idea of diagnostic measures: if model is correct then\n",
    "    residuals $e_i = Y_i -\\widehat{Y}_i, 1 \\leq i \\leq n$ should look\n",
    "    like a sample of (not quite independent) $N(0, \\sigma^2)$ random\n",
    "    variables."
   ]
  },
  {
   "cell_type": "markdown",
   "metadata": {},
   "source": [
    "## Standard diagnostic plots\n",
    "please refer to diagnostics_in_multiple_linear_regression_part1.ipynb"
   ]
  },
  {
   "cell_type": "markdown",
   "metadata": {},
   "source": [
    "## Problems with the errors\n",
    "\n",
    "### Possible problems & diagnostic checks\n",
    "\n",
    "-   Errors may not be normally distributed or may not have the same\n",
    "    variance â€“ qqnorm can help with this. This may not be too important\n",
    "    in large samples.\n",
    "\n",
    "-   Variance may not be constant. Can also be addressed in a plot of $X$ vs. $e$\n",
    ": *fan shape* or other trend indicate\n",
    "    non-constant variance.\n",
    "\n",
    "-   Influential observations. Which points â€œaffectâ€ the regression line\n",
    "    the most?\n",
    "\n",
    "-   Outliers: points where the model really does not fit! Possibly\n",
    "    mistakes in data transcription, lab errors, who knows? Should be\n",
    "    recognized and (hopefully) explained.\n",
    "\n",
    "## Types of residuals\n",
    "\n",
    "-   Ordinary residuals: $e_i = Y_i - \\widehat{Y}_i$. These measure the\n",
    "    deviation of predicted value from observed value, but their\n",
    "    distribution depends on unknown scale, $\\sigma$.\n",
    "\n",
    "-   Internally studentized residuals (`rstandard` in R):\n",
    "    $$r_i = e_i / SE(e_i) = \\frac{e_i}{\\widehat{\\sigma} \\sqrt{1 - H_{ii}}}$$\n",
    "    \n",
    "- Above, $H$ is the \"hat\" matrix $H=X(X^TX)^{-1}X^T$. These are almost $t$-distributed, except\n",
    "    $\\widehat{\\sigma}$ depends on $e_i$.\n",
    "\n",
    "## Types of residuals\n",
    "\n",
    "- Externally studentized residuals (`rstudent` in R):\n",
    "    $$t_i = \\frac{e_i}{\\widehat{\\sigma_{(i)}} \\sqrt{1 - H_{ii}}} \\sim t_{n-p-2}.$$\n",
    "    These are exactly $t$ distributed so we know their distribution and\n",
    "    can use them for tests, if desired.\n",
    "    \n",
    "- The quantity $\\hat{\\sigma}^2_{(i)}$ is the MSE of the model fit to all data except case $i$ (i.e. it has $n-1$ observations and $p$ features).\n",
    "\n",
    "- Numerically, these residuals are highly correlated, as we would expect.\n"
   ]
  },
  {
   "cell_type": "markdown",
   "metadata": {},
   "source": [
    "* `rstandard()` produces standardised residuals via normalisation to unit variance using the overall error variance of the residuals/model.\n",
    "\n",
    "* `rstudent()` produces Studentized residuals in the same way, but it uses a leave-one-out estimate of the error variance.\n",
    "\n",
    "Source: https://stats.stackexchange.com/questions/63503/does-rstandard-standardize-in-z"
   ]
  },
  {
   "cell_type": "code",
   "execution_count": 9,
   "metadata": {
    "collapsed": false
   },
   "outputs": [
    {
     "name": "stdout",
     "output_type": "stream",
     "text": [
      "resid_studentized_internal: \n",
      " [ 0.16454678 -0.53015742 -0.32025768 -0.06153956 -0.86942853  0.0559802\n",
      "  2.79819456 -0.05476367 -0.08249712  0.29667307  0.53290726 -0.07967326\n",
      " -0.65001853  0.72009604 -0.59963166 -0.9815245  -0.2809337   4.56558067\n",
      " -0.87696131  0.05103257  0.20862403 -0.10076608 -0.34686042  0.31923417\n",
      "  0.16732023 -0.82422465 -0.18933769 -0.27965703 -0.01788515 -0.46599435\n",
      " -1.17891252 -0.17883396  0.73890152 -0.01944034 -0.81619003]\n",
      "resid_studentized_external: \n",
      " [ 0.16202389 -0.52411478 -0.31572031 -0.06057395 -0.86602567  0.05510126\n",
      "  3.16897977 -0.05390372 -0.08120651  0.29240316  0.52685755 -0.07842627\n",
      " -0.64404747  0.71456843 -0.59353199 -0.98094545 -0.27685089  7.61084489\n",
      " -0.87371292  0.0502309   0.20547819 -0.09919485 -0.34204132  0.31470807\n",
      "  0.16475719 -0.81999469 -0.18646028 -0.27558968 -0.01760356 -0.46021957\n",
      " -1.18639577 -0.17610553  0.73354928 -0.01913429 -0.8118305 ]\n"
     ]
    }
   ],
   "source": [
    "infl = res.get_influence()\n",
    "# Studentized residuals using variance from OLS\n",
    "# This uses sigma from original estimate does not require leave one out loop\n",
    "print(\"resid_studentized_internal: \\n\", infl.resid_studentized_internal)\n",
    "\n",
    "# Studentized residuals using LOOO variance\n",
    "# This uses sigma from leave-one-out estimates requires leave one out loop for observations\n",
    "print(\"resid_studentized_external: \\n\", infl.resid_studentized_external)\n",
    "\n",
    "# Source: https://www.statsmodels.org/dev/generated/statsmodels.stats.outliers_influence.OLSInfluence.html#statsmodels.stats.outliers_influence.OLSInfluence"
   ]
  },
  {
   "cell_type": "code",
   "execution_count": 10,
   "metadata": {
    "collapsed": false
   },
   "outputs": [
    {
     "data": {
      "image/png": "[encoded data removed]",
      "text/plain": [
       "<matplotlib.figure.Figure at 0x7f7646a30320>"
      ]
     },
     "metadata": {},
     "output_type": "display_data"
    }
   ],
   "source": [
    "plt.scatter(res.resid, infl.resid_studentized_external)\n",
    "plt.xlabel(\"Residuals\")\n",
    "plt.ylabel(\"Studentized residuals using LOOO variance\")\n",
    "plt.title(\"Residuals vs. Studentized residuals using LOOO variance\")\n",
    "plt.show()"
   ]
  },
  {
   "cell_type": "code",
   "execution_count": 11,
   "metadata": {
    "collapsed": false
   },
   "outputs": [
    {
     "data": {
      "image/png": "[encoded data removed]",
      "text/plain": [
       "<matplotlib.figure.Figure at 0x7f76461766a0>"
      ]
     },
     "metadata": {},
     "output_type": "display_data"
    }
   ],
   "source": [
    "plt.scatter(infl.resid_studentized_internal, infl.resid_studentized_external)\n",
    "plt.xlabel(\"Studentized residuals using variance from OLS\")\n",
    "plt.ylabel(\"Studentized residuals using LOOO variance\")\n",
    "plt.title(\"Studentized residuals using variance from OLS vs. using LOOO variance\")\n",
    "plt.show()"
   ]
  },
  {
   "cell_type": "markdown",
   "metadata": {},
   "source": [
    "## Standard diagnostic plots\n",
    "\n",
    "The first plot is the quantile plot for the residuals, that compares their distribution\n",
    "to that of a sample of independent normals."
   ]
  },
  {
   "cell_type": "code",
   "execution_count": 12,
   "metadata": {
    "collapsed": false
   },
   "outputs": [
    {
     "name": "stderr",
     "output_type": "stream",
     "text": [
      "/home/doojung/anaconda3/lib/python3.6/site-packages/scipy/stats/stats.py:1626: FutureWarning: Using a non-tuple sequence for multidimensional indexing is deprecated; use `arr[tuple(seq)]` instead of `arr[seq]`. In the future this will be interpreted as an array index, `arr[np.array(seq)]`, which will result either in an error or a different result.\n",
      "  return np.add.reduce(sorted[indexer] * weights, axis=axis) / sumval\n"
     ]
    },
    {
     "data": {
      "image/png": "[encoded data removed]",
      "text/plain": [
       "<matplotlib.figure.Figure at 0x7f76438b7f60>"
      ]
     },
     "metadata": {},
     "output_type": "display_data"
    }
   ],
   "source": [
    "# Normal Q-Q Plot\n",
    "# how well the distribution of resid fit the normal distribution\n",
    "# the standardized residuals vs. normal quantiles\n",
    "qqplot(res.resid, line='q', alpha=0.5)\n",
    "plt.title('Normal Q-Q')\n",
    "plt.show()"
   ]
  },
  {
   "cell_type": "markdown",
   "metadata": {},
   "source": [
    "If the residuals were really normal we'd expect this plot to be roughly on the diagonal."
   ]
  },
  {
   "cell_type": "code",
   "execution_count": 13,
   "metadata": {
    "collapsed": false
   },
   "outputs": [
    {
     "name": "stderr",
     "output_type": "stream",
     "text": [
      "/home/doojung/anaconda3/lib/python3.6/site-packages/scipy/stats/stats.py:1626: FutureWarning: Using a non-tuple sequence for multidimensional indexing is deprecated; use `arr[tuple(seq)]` instead of `arr[seq]`. In the future this will be interpreted as an array index, `arr[np.array(seq)]`, which will result either in an error or a different result.\n",
      "  return np.add.reduce(sorted[indexer] * weights, axis=axis) / sumval\n"
     ]
    },
    {
     "data": {
      "image/png": "[encoded data removed]",
      "text/plain": [
       "<matplotlib.figure.Figure at 0x7f7643754780>"
      ]
     },
     "metadata": {},
     "output_type": "display_data"
    }
   ],
   "source": [
    "rv = np.random.normal(loc=0, scale=1, size=500)\n",
    "qqplot(rv, line='q', alpha=0.5)\n",
    "plt.title('Normal Q-Q')\n",
    "plt.show()"
   ]
  },
  {
   "cell_type": "markdown",
   "metadata": {},
   "source": [
    "Two other plots try address the constant variance assumptions. If these plots\n",
    "have a particular shape (maybe the spread increases with $\\hat{Y}$) then maybe the variance is not constant."
   ]
  },
  {
   "cell_type": "code",
   "execution_count": 14,
   "metadata": {
    "collapsed": false
   },
   "outputs": [
    {
     "data": {
      "image/png": "[encoded data removed]",
      "text/plain": [
       "<matplotlib.figure.Figure at 0x7f76438dd438>"
      ]
     },
     "metadata": {},
     "output_type": "display_data"
    }
   ],
   "source": [
    "# Scale-location\n",
    "# abs sqrt(Standardized residuals) vs. Fitted values\n",
    "norm_resid = res.get_influence().resid_studentized_internal\n",
    "abs_sqrt_norm_resid = np.sqrt(np.abs(norm_resid))\n",
    "plt.scatter(res.fittedvalues, abs_sqrt_norm_resid, alpha=0.5)\n",
    "g = sns.regplot(res.fittedvalues, abs_sqrt_norm_resid, scatter=False, ci=False, lowess=True,\n",
    "             line_kws={'color': 'red', 'alpha':0.5})\n",
    "g.set(ylim=(0, 1))\n",
    "plt.xlabel('Fitted values')\n",
    "plt.ylabel('Residuals')\n",
    "plt.title('Residuals vs. Fitted')\n",
    "plt.show()"
   ]
  },
  {
   "cell_type": "code",
   "execution_count": 15,
   "metadata": {
    "collapsed": false
   },
   "outputs": [
    {
     "data": {
      "image/png": "[encoded data removed]",
      "text/plain": [
       "<matplotlib.figure.Figure at 0x7f76436f1b70>"
      ]
     },
     "metadata": {},
     "output_type": "display_data"
    }
   ],
   "source": [
    "# Residuals vs. Fitted\n",
    "# with a 'locally weighted scatterplot smoothing (lowess)' regression line \n",
    "sns.residplot(res.fittedvalues, 'Time', data=data, lowess=True,\n",
    "             scatter_kws={'alpha': 0.5},\n",
    "             line_kws={'color': 'red', 'alpha':0.5})\n",
    "plt.xlabel('Fitted values')\n",
    "plt.ylabel('Residuals')\n",
    "plt.title('Residuals vs. Fitted')\n",
    "plt.show()"
   ]
  },
  {
   "cell_type": "markdown",
   "metadata": {},
   "source": [
    "## Influence of an observation\n",
    "\n",
    "Other plots provide an assessment of the `influence` of each observation.\n",
    "Usually, this is done by dropping an entire case $(y_i, x_i)$ from the dataset and\n",
    "refitting the model.\n",
    "\n",
    "-   In this setting, a $\\cdot_{(i)}$ indicates $i$-th observation was\n",
    "    not used in fitting the model.\n",
    "\n",
    "-   For example: $\\widehat{Y}_{j(i)}$ is the regression function\n",
    "    evaluated at the $j$-th observation predictors BUT the coefficients\n",
    "    $(\\widehat{\\beta}_{0(i)}, \\dots, \\widehat{\\beta}_{p(i)})$ were fit\n",
    "    after deleting $i$-th case from the data.\n",
    "\n",
    "## Influence of an observation\n",
    "\n",
    "-   Idea: if $\\widehat{Y}_{j(i)}$ is very different than $\\widehat{Y}_j$\n",
    "    (using all the data) then $i$ is an influential point, at least for\n",
    "    estimating the regression function at $(X_{1,j}, \\dots, X_{p,j})$.\n",
    "    \n",
    "- Could also look at difference between $\\widehat{Y}_{i(i)} - \\widehat{Y}_i$, or any other measure.\n",
    "    \n",
    "-  There are various standard measures of influence.\n",
    "\n",
    "## DFFITS\n",
    "\n",
    "-   $$DFFITS_i = \\frac{\\widehat{Y}_i - \\widehat{Y}_{i(i)}}{\\widehat{\\sigma}_{(i)} \\sqrt{H_{ii}}}$$\n",
    "\n",
    "-   This quantity measures how much the regression function changes at\n",
    "    the $i$-th case / observation when the $i$-th case / observation is\n",
    "    deleted.\n",
    "\n",
    "-   For small/medium datasets: value of 1 or greater is â€œsuspiciousâ€ (RABE).\n",
    "    For large dataset: value of $2 \\sqrt{(p+1)/n}$.\n",
    "    \n",
    "- `R` has its own standard rules similar to the above for marking an observation\n",
    "as influential.\n",
    "\n"
   ]
  },
  {
   "cell_type": "code",
   "execution_count": 16,
   "metadata": {
    "collapsed": false
   },
   "outputs": [
    {
     "name": "stdout",
     "output_type": "stream",
     "text": [
      "aux_regression_endog\n",
      "aux_regression_exog\n",
      "cooks_distance\n",
      "cov_ratio\n",
      "det_cov_params_not_obsi\n",
      "dfbetas\n",
      "dffits\n",
      "dffits_internal\n",
      "endog\n",
      "ess_press\n",
      "exog\n",
      "get_resid_studentized_external\n",
      "hat_diag_factor\n",
      "hat_matrix_diag\n",
      "influence\n",
      "k_vars\n",
      "model_class\n",
      "nobs\n",
      "params_not_obsi\n",
      "resid_press\n",
      "resid_std\n",
      "resid_studentized_external\n",
      "resid_studentized_internal\n",
      "resid_var\n",
      "results\n",
      "sigma2_not_obsi\n",
      "sigma_est\n",
      "summary_frame\n",
      "summary_table\n"
     ]
    }
   ],
   "source": [
    "for attr in dir(infl):\n",
    "    if not attr.startswith(\"_\"):\n",
    "        print(attr)"
   ]
  },
  {
   "cell_type": "code",
   "execution_count": 17,
   "metadata": {
    "collapsed": false
   },
   "outputs": [
    {
     "data": {
      "image/png": "[encoded data removed]",
      "text/plain": [
       "<matplotlib.figure.Figure at 0x7f7643709358>"
      ]
     },
     "metadata": {},
     "output_type": "display_data"
    }
   ],
   "source": [
    "# infl.dffits\n",
    "\"\"\"\n",
    "- dffits measure for influence of an observation.\n",
    "- based on resid_studentized_external, uses results from \n",
    "leave-one-observation-out loop\n",
    "- It is recommended that observations with dffits large than a threshold of \n",
    "2 sqrt{k / n} where k is the number of parameters, should be investigated.\n",
    "\"\"\"\n",
    "# infl.dffits_internal\n",
    "\"\"\"\n",
    "- dffits measure for influence of an observation\n",
    "- based on resid_studentized_internal, uses original results, \n",
    "no nobs loop\n",
    "\"\"\"\n",
    "plt.scatter(range(data.shape[0]), infl.dffits[0])\n",
    "plt.xlabel(\"Index\")\n",
    "plt.ylabel(\"DFFITS\")\n",
    "plt.title(\"Index vs. DFFITS\")\n",
    "plt.show()\n",
    "# Source: https://www.statsmodels.org/stable/generated/statsmodels.stats.outliers_influence.OLSInfluence.html"
   ]
  },
  {
   "cell_type": "markdown",
   "metadata": {},
   "source": [
    "It seems that some observations had a high influence measured by $DFFITS$:"
   ]
  },
  {
   "cell_type": "code",
   "execution_count": 18,
   "metadata": {
    "collapsed": false
   },
   "outputs": [
    {
     "data": {
      "text/plain": [
       "Index(['dfb_Intercept', 'dfb_Distance', 'dfb_Climb', 'cooks_d',\n",
       "       'standard_resid', 'hat_diag', 'dffits_internal', 'student_resid',\n",
       "       'dffits'],\n",
       "      dtype='object')"
      ]
     },
     "execution_count": 18,
     "metadata": {},
     "output_type": "execute_result"
    }
   ],
   "source": [
    "df = infl.summary_frame()\n",
    "df.columns"
   ]
  },
  {
   "cell_type": "code",
   "execution_count": 19,
   "metadata": {
    "collapsed": false
   },
   "outputs": [
    {
     "data": {
      "text/html": [
       "<div>\n",
       "<style scoped>\n",
       "    .dataframe tbody tr th:only-of-type {\n",
       "        vertical-align: middle;\n",
       "    }\n",
       "\n",
       "    .dataframe tbody tr th {\n",
       "        vertical-align: top;\n",
       "    }\n",
       "\n",
       "    .dataframe thead th {\n",
       "        text-align: right;\n",
       "    }\n",
       "</style>\n",
       "<table border=\"1\" class=\"dataframe\">\n",
       "  <thead>\n",
       "    <tr style=\"text-align: right;\">\n",
       "      <th></th>\n",
       "      <th>dfb_Intercept</th>\n",
       "      <th>dfb_Distance</th>\n",
       "      <th>dfb_Climb</th>\n",
       "      <th>cooks_d</th>\n",
       "      <th>standard_resid</th>\n",
       "      <th>hat_diag</th>\n",
       "      <th>dffits_internal</th>\n",
       "      <th>student_resid</th>\n",
       "      <th>dffits</th>\n",
       "    </tr>\n",
       "    <tr>\n",
       "      <th>Race</th>\n",
       "      <th></th>\n",
       "      <th></th>\n",
       "      <th></th>\n",
       "      <th></th>\n",
       "      <th></th>\n",
       "      <th></th>\n",
       "      <th></th>\n",
       "      <th></th>\n",
       "      <th></th>\n",
       "    </tr>\n",
       "  </thead>\n",
       "  <tbody>\n",
       "    <tr>\n",
       "      <th>BensofJura</th>\n",
       "      <td>-0.890655</td>\n",
       "      <td>-0.712774</td>\n",
       "      <td>2.364618</td>\n",
       "      <td>1.893349</td>\n",
       "      <td>2.798195</td>\n",
       "      <td>0.420435</td>\n",
       "      <td>2.383285</td>\n",
       "      <td>3.168980</td>\n",
       "      <td>2.699091</td>\n",
       "    </tr>\n",
       "    <tr>\n",
       "      <th>LairigGhru</th>\n",
       "      <td>-0.301182</td>\n",
       "      <td>0.768716</td>\n",
       "      <td>-0.479849</td>\n",
       "      <td>0.210521</td>\n",
       "      <td>0.532907</td>\n",
       "      <td>0.689816</td>\n",
       "      <td>0.794710</td>\n",
       "      <td>0.526858</td>\n",
       "      <td>0.785688</td>\n",
       "    </tr>\n",
       "    <tr>\n",
       "      <th>KnockHill</th>\n",
       "      <td>1.758275</td>\n",
       "      <td>-0.406545</td>\n",
       "      <td>-0.655934</td>\n",
       "      <td>0.407156</td>\n",
       "      <td>4.565581</td>\n",
       "      <td>0.055355</td>\n",
       "      <td>1.105200</td>\n",
       "      <td>7.610845</td>\n",
       "      <td>1.842375</td>\n",
       "    </tr>\n",
       "  </tbody>\n",
       "</table>\n",
       "</div>"
      ],
      "text/plain": [
       "            dfb_Intercept  dfb_Distance  dfb_Climb   cooks_d  standard_resid  \\\n",
       "Race                                                                           \n",
       "BensofJura      -0.890655     -0.712774   2.364618  1.893349        2.798195   \n",
       "LairigGhru      -0.301182      0.768716  -0.479849  0.210521        0.532907   \n",
       "KnockHill        1.758275     -0.406545  -0.655934  0.407156        4.565581   \n",
       "\n",
       "            hat_diag  dffits_internal  student_resid    dffits  \n",
       "Race                                                            \n",
       "BensofJura  0.420435         2.383285       3.168980  2.699091  \n",
       "LairigGhru  0.689816         0.794710       0.526858  0.785688  \n",
       "KnockHill   0.055355         1.105200       7.610845  1.842375  "
      ]
     },
     "execution_count": 19,
     "metadata": {},
     "output_type": "execute_result"
    }
   ],
   "source": [
    "df[df[\"dffits\"] > 0.5]"
   ]
  },
  {
   "cell_type": "code",
   "execution_count": 20,
   "metadata": {
    "collapsed": false
   },
   "outputs": [
    {
     "data": {
      "text/html": [
       "<div>\n",
       "<style scoped>\n",
       "    .dataframe tbody tr th:only-of-type {\n",
       "        vertical-align: middle;\n",
       "    }\n",
       "\n",
       "    .dataframe tbody tr th {\n",
       "        vertical-align: top;\n",
       "    }\n",
       "\n",
       "    .dataframe thead th {\n",
       "        text-align: right;\n",
       "    }\n",
       "</style>\n",
       "<table border=\"1\" class=\"dataframe\">\n",
       "  <thead>\n",
       "    <tr style=\"text-align: right;\">\n",
       "      <th></th>\n",
       "      <th>Distance</th>\n",
       "      <th>Climb</th>\n",
       "      <th>Time</th>\n",
       "    </tr>\n",
       "    <tr>\n",
       "      <th>Race</th>\n",
       "      <th></th>\n",
       "      <th></th>\n",
       "      <th></th>\n",
       "    </tr>\n",
       "  </thead>\n",
       "  <tbody>\n",
       "    <tr>\n",
       "      <th>BensofJura</th>\n",
       "      <td>16.0</td>\n",
       "      <td>7500</td>\n",
       "      <td>204.617</td>\n",
       "    </tr>\n",
       "    <tr>\n",
       "      <th>LairigGhru</th>\n",
       "      <td>28.0</td>\n",
       "      <td>2100</td>\n",
       "      <td>192.667</td>\n",
       "    </tr>\n",
       "    <tr>\n",
       "      <th>KnockHill</th>\n",
       "      <td>3.0</td>\n",
       "      <td>350</td>\n",
       "      <td>78.650</td>\n",
       "    </tr>\n",
       "  </tbody>\n",
       "</table>\n",
       "</div>"
      ],
      "text/plain": [
       "            Distance  Climb     Time\n",
       "Race                                \n",
       "BensofJura      16.0   7500  204.617\n",
       "LairigGhru      28.0   2100  192.667\n",
       "KnockHill        3.0    350   78.650"
      ]
     },
     "execution_count": 20,
     "metadata": {},
     "output_type": "execute_result"
    }
   ],
   "source": [
    "data.loc[df[df[\"dffits\"] > 0.5].index]"
   ]
  },
  {
   "cell_type": "markdown",
   "metadata": {},
   "source": [
    "It is perhaps not surprising that the longest course and the course with the most elevation gain seemed to have a strong effect on the fitted values. What about `Knock Hill`? We'll come back to this later."
   ]
  },
  {
   "cell_type": "markdown",
   "metadata": {},
   "source": [
    "## Cook's distance\n",
    "\n",
    "Cook's distance measures how much the entire regression function\n",
    "    changes when the $i$-th case is deleted.\n",
    "\n",
    "-   $$D_i = \\frac{\\sum_{j=1}^n(\\widehat{Y}_j - \\widehat{Y}_{j(i)})^2}{(p+1) \\, \\widehat{\\sigma}^2}$$\n",
    "\n",
    "-   Should be comparable to $F_{p+1,n-p-1}$: if the â€œ$p$-valueâ€ of $D_i$\n",
    "    is 50 percent or more, then the $i$-th case is likely influential:\n",
    "    investigate further. (RABE)\n",
    "    \n",
    "- Again, `R` has its own rules similar to the above for marking an observation\n",
    "as influential.\n",
    "\n",
    "- What to do after investigation? No easy answer.\n",
    "    "
   ]
  },
  {
   "cell_type": "code",
   "execution_count": 21,
   "metadata": {
    "collapsed": false
   },
   "outputs": [
    {
     "data": {
      "image/png": "[encoded data removed]",
      "text/plain": [
       "<matplotlib.figure.Figure at 0x7f76436d9240>"
      ]
     },
     "metadata": {},
     "output_type": "display_data"
    }
   ],
   "source": [
    "# c: distance\n",
    "# p: p-value\n",
    "(c, p) = infl.cooks_distance\n",
    "plt.stem(np.arange(len(c)), c, markerfmt=\",\")\n",
    "plt.xlabel(\"Index\")\n",
    "plt.ylabel(\"Cook'\\s distance\")\n",
    "plt.title(\"Cook's distance plot\")\n",
    "plt.show()"
   ]
  },
  {
   "cell_type": "code",
   "execution_count": 22,
   "metadata": {
    "collapsed": false
   },
   "outputs": [
    {
     "data": {
      "text/html": [
       "<div>\n",
       "<style scoped>\n",
       "    .dataframe tbody tr th:only-of-type {\n",
       "        vertical-align: middle;\n",
       "    }\n",
       "\n",
       "    .dataframe tbody tr th {\n",
       "        vertical-align: top;\n",
       "    }\n",
       "\n",
       "    .dataframe thead th {\n",
       "        text-align: right;\n",
       "    }\n",
       "</style>\n",
       "<table border=\"1\" class=\"dataframe\">\n",
       "  <thead>\n",
       "    <tr style=\"text-align: right;\">\n",
       "      <th></th>\n",
       "      <th>dfb_Intercept</th>\n",
       "      <th>dfb_Distance</th>\n",
       "      <th>dfb_Climb</th>\n",
       "      <th>cooks_d</th>\n",
       "      <th>standard_resid</th>\n",
       "      <th>hat_diag</th>\n",
       "      <th>dffits_internal</th>\n",
       "      <th>student_resid</th>\n",
       "      <th>dffits</th>\n",
       "    </tr>\n",
       "    <tr>\n",
       "      <th>Race</th>\n",
       "      <th></th>\n",
       "      <th></th>\n",
       "      <th></th>\n",
       "      <th></th>\n",
       "      <th></th>\n",
       "      <th></th>\n",
       "      <th></th>\n",
       "      <th></th>\n",
       "      <th></th>\n",
       "    </tr>\n",
       "  </thead>\n",
       "  <tbody>\n",
       "    <tr>\n",
       "      <th>BensofJura</th>\n",
       "      <td>-0.890655</td>\n",
       "      <td>-0.712774</td>\n",
       "      <td>2.364618</td>\n",
       "      <td>1.893349</td>\n",
       "      <td>2.798195</td>\n",
       "      <td>0.420435</td>\n",
       "      <td>2.383285</td>\n",
       "      <td>3.168980</td>\n",
       "      <td>2.699091</td>\n",
       "    </tr>\n",
       "    <tr>\n",
       "      <th>LairigGhru</th>\n",
       "      <td>-0.301182</td>\n",
       "      <td>0.768716</td>\n",
       "      <td>-0.479849</td>\n",
       "      <td>0.210521</td>\n",
       "      <td>0.532907</td>\n",
       "      <td>0.689816</td>\n",
       "      <td>0.794710</td>\n",
       "      <td>0.526858</td>\n",
       "      <td>0.785688</td>\n",
       "    </tr>\n",
       "    <tr>\n",
       "      <th>KnockHill</th>\n",
       "      <td>1.758275</td>\n",
       "      <td>-0.406545</td>\n",
       "      <td>-0.655934</td>\n",
       "      <td>0.407156</td>\n",
       "      <td>4.565581</td>\n",
       "      <td>0.055355</td>\n",
       "      <td>1.105200</td>\n",
       "      <td>7.610845</td>\n",
       "      <td>1.842375</td>\n",
       "    </tr>\n",
       "  </tbody>\n",
       "</table>\n",
       "</div>"
      ],
      "text/plain": [
       "            dfb_Intercept  dfb_Distance  dfb_Climb   cooks_d  standard_resid  \\\n",
       "Race                                                                           \n",
       "BensofJura      -0.890655     -0.712774   2.364618  1.893349        2.798195   \n",
       "LairigGhru      -0.301182      0.768716  -0.479849  0.210521        0.532907   \n",
       "KnockHill        1.758275     -0.406545  -0.655934  0.407156        4.565581   \n",
       "\n",
       "            hat_diag  dffits_internal  student_resid    dffits  \n",
       "Race                                                            \n",
       "BensofJura  0.420435         2.383285       3.168980  2.699091  \n",
       "LairigGhru  0.689816         0.794710       0.526858  0.785688  \n",
       "KnockHill   0.055355         1.105200       7.610845  1.842375  "
      ]
     },
     "execution_count": 22,
     "metadata": {},
     "output_type": "execute_result"
    }
   ],
   "source": [
    "df[df[\"cooks_d\"] > 0.1]"
   ]
  },
  {
   "cell_type": "code",
   "execution_count": 23,
   "metadata": {
    "collapsed": false
   },
   "outputs": [
    {
     "data": {
      "text/html": [
       "<div>\n",
       "<style scoped>\n",
       "    .dataframe tbody tr th:only-of-type {\n",
       "        vertical-align: middle;\n",
       "    }\n",
       "\n",
       "    .dataframe tbody tr th {\n",
       "        vertical-align: top;\n",
       "    }\n",
       "\n",
       "    .dataframe thead th {\n",
       "        text-align: right;\n",
       "    }\n",
       "</style>\n",
       "<table border=\"1\" class=\"dataframe\">\n",
       "  <thead>\n",
       "    <tr style=\"text-align: right;\">\n",
       "      <th></th>\n",
       "      <th>Distance</th>\n",
       "      <th>Climb</th>\n",
       "      <th>Time</th>\n",
       "    </tr>\n",
       "    <tr>\n",
       "      <th>Race</th>\n",
       "      <th></th>\n",
       "      <th></th>\n",
       "      <th></th>\n",
       "    </tr>\n",
       "  </thead>\n",
       "  <tbody>\n",
       "    <tr>\n",
       "      <th>BensofJura</th>\n",
       "      <td>16.0</td>\n",
       "      <td>7500</td>\n",
       "      <td>204.617</td>\n",
       "    </tr>\n",
       "    <tr>\n",
       "      <th>LairigGhru</th>\n",
       "      <td>28.0</td>\n",
       "      <td>2100</td>\n",
       "      <td>192.667</td>\n",
       "    </tr>\n",
       "    <tr>\n",
       "      <th>KnockHill</th>\n",
       "      <td>3.0</td>\n",
       "      <td>350</td>\n",
       "      <td>78.650</td>\n",
       "    </tr>\n",
       "  </tbody>\n",
       "</table>\n",
       "</div>"
      ],
      "text/plain": [
       "            Distance  Climb     Time\n",
       "Race                                \n",
       "BensofJura      16.0   7500  204.617\n",
       "LairigGhru      28.0   2100  192.667\n",
       "KnockHill        3.0    350   78.650"
      ]
     },
     "execution_count": 23,
     "metadata": {},
     "output_type": "execute_result"
    }
   ],
   "source": [
    "data.loc[df[df[\"cooks_d\"] > 0.1].index]"
   ]
  },
  {
   "cell_type": "markdown",
   "metadata": {},
   "source": [
    "Again, the same 3 races. This is not surprising as both $DFFITS$ and Cook's distance measure changes in fitted values. The difference is that one measures the influence on one fitted value, while the other measures the influence on the entire vector of fitted values.\n"
   ]
  },
  {
   "cell_type": "markdown",
   "metadata": {},
   "source": [
    "## DFBETAS\n",
    "\n",
    "This quantity measures how much the coefficients change when the\n",
    "    $i$-th case is deleted.\n",
    "\n",
    "\n",
    "-   $$DFBETAS_{j(i)} = \\frac{\\widehat{\\beta}_j - \\widehat{\\beta}_{j(i)}}{\\sqrt{\\widehat{\\sigma}^2_{(i)} (X^TX)^{-1}_{jj}}}.$$\n",
    "\n",
    "   \n",
    "-   For small/medium datasets: absolute value of 1 or greater is\n",
    "    \"suspicious\". For large dataset: absolute value of $2 /  \\sqrt{n}$."
   ]
  },
  {
   "cell_type": "code",
   "execution_count": 24,
   "metadata": {
    "collapsed": false
   },
   "outputs": [
    {
     "data": {
      "text/html": [
       "<div>\n",
       "<style scoped>\n",
       "    .dataframe tbody tr th:only-of-type {\n",
       "        vertical-align: middle;\n",
       "    }\n",
       "\n",
       "    .dataframe tbody tr th {\n",
       "        vertical-align: top;\n",
       "    }\n",
       "\n",
       "    .dataframe thead th {\n",
       "        text-align: right;\n",
       "    }\n",
       "</style>\n",
       "<table border=\"1\" class=\"dataframe\">\n",
       "  <thead>\n",
       "    <tr style=\"text-align: right;\">\n",
       "      <th></th>\n",
       "      <th>Intercept</th>\n",
       "      <th>Distance</th>\n",
       "      <th>Climb</th>\n",
       "    </tr>\n",
       "    <tr>\n",
       "      <th>Race</th>\n",
       "      <th></th>\n",
       "      <th></th>\n",
       "      <th></th>\n",
       "    </tr>\n",
       "  </thead>\n",
       "  <tbody>\n",
       "    <tr>\n",
       "      <th>Greenmantle</th>\n",
       "      <td>0.037811</td>\n",
       "      <td>-0.016614</td>\n",
       "      <td>-0.004744</td>\n",
       "    </tr>\n",
       "    <tr>\n",
       "      <th>Carnethy</th>\n",
       "      <td>-0.059580</td>\n",
       "      <td>0.067215</td>\n",
       "      <td>-0.073396</td>\n",
       "    </tr>\n",
       "    <tr>\n",
       "      <th>CraigDunain</th>\n",
       "      <td>-0.048577</td>\n",
       "      <td>-0.006707</td>\n",
       "      <td>0.028033</td>\n",
       "    </tr>\n",
       "    <tr>\n",
       "      <th>BenRha</th>\n",
       "      <td>-0.007665</td>\n",
       "      <td>-0.005675</td>\n",
       "      <td>0.008764</td>\n",
       "    </tr>\n",
       "    <tr>\n",
       "      <th>BenLomond</th>\n",
       "      <td>-0.050461</td>\n",
       "      <td>0.084709</td>\n",
       "      <td>-0.145005</td>\n",
       "    </tr>\n",
       "  </tbody>\n",
       "</table>\n",
       "</div>"
      ],
      "text/plain": [
       "             Intercept  Distance     Climb\n",
       "Race                                      \n",
       "Greenmantle   0.037811 -0.016614 -0.004744\n",
       "Carnethy     -0.059580  0.067215 -0.073396\n",
       "CraigDunain  -0.048577 -0.006707  0.028033\n",
       "BenRha       -0.007665 -0.005675  0.008764\n",
       "BenLomond    -0.050461  0.084709 -0.145005"
      ]
     },
     "execution_count": 24,
     "metadata": {},
     "output_type": "execute_result"
    }
   ],
   "source": [
    "dfbetas_df = pd.DataFrame(infl.dfbetas, columns=[\"Intercept\",\"Distance\",\"Climb\"])\n",
    "dfbetas_df.index = data.index\n",
    "dfbetas_df.head()"
   ]
  },
  {
   "cell_type": "code",
   "execution_count": 25,
   "metadata": {
    "collapsed": false
   },
   "outputs": [],
   "source": [
    "def DFBETAS_plot_show_table(dfbetas_df, col_name, threshold=1):\n",
    "    # dfbetass\n",
    "    plt.scatter(range(data.shape[0]), dfbetas_df[col_name])\n",
    "    plt.xlabel(\"Index\")\n",
    "    plt.ylabel(\"DFBETA ({})\".format(col_name))\n",
    "    plt.title(\"Index vs. DFBETA ({})\".format(col_name))\n",
    "    plt.show()\n",
    "    \n",
    "    # mask\n",
    "    mask = dfbetas_df[np.abs(dfbetas_df[col_name]) > threshold]\n",
    "    print(mask)\n",
    "    \n",
    "    # table\n",
    "    return data.loc[mask.index]"
   ]
  },
  {
   "cell_type": "code",
   "execution_count": 26,
   "metadata": {
    "collapsed": false
   },
   "outputs": [
    {
     "data": {
      "image/png": "[encoded data removed]",
      "text/plain": [
       "<matplotlib.figure.Figure at 0x7f764356e7b8>"
      ]
     },
     "metadata": {},
     "output_type": "display_data"
    },
    {
     "name": "stdout",
     "output_type": "stream",
     "text": [
      "            Intercept  Distance     Climb\n",
      "Race                                     \n",
      "BensofJura  -0.890655 -0.712774  2.364618\n"
     ]
    },
    {
     "data": {
      "text/html": [
       "<div>\n",
       "<style scoped>\n",
       "    .dataframe tbody tr th:only-of-type {\n",
       "        vertical-align: middle;\n",
       "    }\n",
       "\n",
       "    .dataframe tbody tr th {\n",
       "        vertical-align: top;\n",
       "    }\n",
       "\n",
       "    .dataframe thead th {\n",
       "        text-align: right;\n",
       "    }\n",
       "</style>\n",
       "<table border=\"1\" class=\"dataframe\">\n",
       "  <thead>\n",
       "    <tr style=\"text-align: right;\">\n",
       "      <th></th>\n",
       "      <th>Distance</th>\n",
       "      <th>Climb</th>\n",
       "      <th>Time</th>\n",
       "    </tr>\n",
       "    <tr>\n",
       "      <th>Race</th>\n",
       "      <th></th>\n",
       "      <th></th>\n",
       "      <th></th>\n",
       "    </tr>\n",
       "  </thead>\n",
       "  <tbody>\n",
       "    <tr>\n",
       "      <th>BensofJura</th>\n",
       "      <td>16.0</td>\n",
       "      <td>7500</td>\n",
       "      <td>204.617</td>\n",
       "    </tr>\n",
       "  </tbody>\n",
       "</table>\n",
       "</div>"
      ],
      "text/plain": [
       "            Distance  Climb     Time\n",
       "Race                                \n",
       "BensofJura      16.0   7500  204.617"
      ]
     },
     "execution_count": 26,
     "metadata": {},
     "output_type": "execute_result"
    }
   ],
   "source": [
    "DFBETAS_plot_show_table(dfbetas_df, \"Climb\")"
   ]
  },
  {
   "cell_type": "code",
   "execution_count": 27,
   "metadata": {
    "collapsed": false
   },
   "outputs": [
    {
     "data": {
      "image/png": "[encoded data removed]",
      "text/plain": [
       "<matplotlib.figure.Figure at 0x7f76438c5a58>"
      ]
     },
     "metadata": {},
     "output_type": "display_data"
    },
    {
     "name": "stdout",
     "output_type": "stream",
     "text": [
      "            Intercept  Distance     Climb\n",
      "Race                                     \n",
      "BensofJura  -0.890655 -0.712774  2.364618\n",
      "LairigGhru  -0.301182  0.768716 -0.479849\n"
     ]
    },
    {
     "data": {
      "text/html": [
       "<div>\n",
       "<style scoped>\n",
       "    .dataframe tbody tr th:only-of-type {\n",
       "        vertical-align: middle;\n",
       "    }\n",
       "\n",
       "    .dataframe tbody tr th {\n",
       "        vertical-align: top;\n",
       "    }\n",
       "\n",
       "    .dataframe thead th {\n",
       "        text-align: right;\n",
       "    }\n",
       "</style>\n",
       "<table border=\"1\" class=\"dataframe\">\n",
       "  <thead>\n",
       "    <tr style=\"text-align: right;\">\n",
       "      <th></th>\n",
       "      <th>Distance</th>\n",
       "      <th>Climb</th>\n",
       "      <th>Time</th>\n",
       "    </tr>\n",
       "    <tr>\n",
       "      <th>Race</th>\n",
       "      <th></th>\n",
       "      <th></th>\n",
       "      <th></th>\n",
       "    </tr>\n",
       "  </thead>\n",
       "  <tbody>\n",
       "    <tr>\n",
       "      <th>BensofJura</th>\n",
       "      <td>16.0</td>\n",
       "      <td>7500</td>\n",
       "      <td>204.617</td>\n",
       "    </tr>\n",
       "    <tr>\n",
       "      <th>LairigGhru</th>\n",
       "      <td>28.0</td>\n",
       "      <td>2100</td>\n",
       "      <td>192.667</td>\n",
       "    </tr>\n",
       "  </tbody>\n",
       "</table>\n",
       "</div>"
      ],
      "text/plain": [
       "            Distance  Climb     Time\n",
       "Race                                \n",
       "BensofJura      16.0   7500  204.617\n",
       "LairigGhru      28.0   2100  192.667"
      ]
     },
     "execution_count": 27,
     "metadata": {},
     "output_type": "execute_result"
    }
   ],
   "source": [
    "DFBETAS_plot_show_table(dfbetas_df, \"Distance\", threshold=0.5)"
   ]
  },
  {
   "cell_type": "markdown",
   "metadata": {},
   "source": [
    "## Outliers\n",
    "\n",
    "The essential definition of an *outlier* is an observation pair $(Y, X_1, \\dots, X_p)$ that does not follow the model, while most other observations seem to follow the model.\n",
    "\n",
    "-   Outlier in *predictors*: the $X$ values of the observation may lie\n",
    "    outside the â€œcloudâ€ of other $X$ values. This means you may be\n",
    "    extrapolating your model inappropriately. The values $H_{ii}$ can be\n",
    "    used to measure how â€œoutlyingâ€ the $X$ values are.\n",
    "\n",
    "-   Outlier in *response*: the $Y$ value of the observation may lie very\n",
    "    far from the fitted model. If the studentized residuals are large:\n",
    "    observation may be an outlier.\n",
    "    \n",
    "- The races at `Bens of Jura` and `Lairig Ghru` seem to be outliers in *predictors*\n",
    "as they were the highest and longest races, respectively.\n",
    "\n",
    "- How can we tell if the `Knock Hill` result is an outlier? It seems to have taken much\n",
    "longer than it should have so maybe it is an outlier in the *response*.\n",
    "\n",
    "\n",
    "## Outlying $X$ values\n",
    "\n",
    "One way to detect outliers in the *predictors*, besides just looking at the actual values themselves, is through their leverage values, defined by\n",
    "$$\n",
    "\\text{leverage}_i = H_{ii} = (X(X^TX)^{-1}X^T)_{ii}.\n",
    "$$\n",
    "\n",
    "Not surprisingly, our longest and highest courses show up again. This at least\n",
    "reassures us that the leverage is capturing some of this \"outlying in $X$ space\"."
   ]
  },
  {
   "cell_type": "code",
   "execution_count": 28,
   "metadata": {
    "collapsed": false
   },
   "outputs": [
    {
     "data": {
      "image/png": "[encoded data removed]",
      "text/plain": [
       "<matplotlib.figure.Figure at 0x7f76434c0908>"
      ]
     },
     "metadata": {},
     "output_type": "display_data"
    }
   ],
   "source": [
    "# infl.hat_matrix_diag\n",
    "\"\"\"\n",
    "\"\"\"\n",
    "plt.scatter(range(data.shape[0]), infl.hat_matrix_diag)\n",
    "plt.xlabel(\"Index\")\n",
    "plt.ylabel(\"leverage (hatvalues in R)\")\n",
    "plt.title(\"Index vs. leverage (hatvalues in R)\")\n",
    "plt.show()"
   ]
  },
  {
   "cell_type": "markdown",
   "metadata": {},
   "source": [
    "## Outliers in the response\n",
    "\n",
    "We will consider a crude outlier test that tries to find residuals that are\n",
    "\"larger\" than they should be.\n",
    "\n",
    "- Since `rstudent` are $t$ distributed, we could just compare them to the $T$ distribution and reject if their absolute value is too large.\n",
    "\n",
    "- Doing this for every observation results in $n$ different hypothesis tests.\n",
    "\n",
    "-   This causes a problem: if $n$ is large, if we \"threshold\" at\n",
    "    $t_{1-\\alpha/2, n-p-2}$ we will get many outliers by chance even if\n",
    "    model is correct. \n",
    "    \n",
    "- In fact, we expect to see $n \\cdot \\alpha$\n",
    "    \"outliers\" by this test. Every large data set would have outliers in\n",
    "    it, even if model was entirely correct!\n",
    "    \n",
    "    \n",
    "\n",
    "Let's sample some data from our model to convince ourselves that this is a real problem."
   ]
  },
  {
   "cell_type": "code",
   "execution_count": 29,
   "metadata": {
    "collapsed": false
   },
   "outputs": [],
   "source": [
    "X = np.random.normal(loc=0, scale=1, size=100)\n",
    "Y = 2 * X + 0.5 + np.random.normal(loc=0, scale=1, size=100)\n",
    "alpha = 0.1\n",
    "X = sm.add_constant(X)"
   ]
  },
  {
   "cell_type": "code",
   "execution_count": 30,
   "metadata": {
    "collapsed": false
   },
   "outputs": [],
   "source": [
    "res_outliers = sm.OLS(Y, X).fit()"
   ]
  },
  {
   "cell_type": "code",
   "execution_count": 31,
   "metadata": {
    "collapsed": true
   },
   "outputs": [],
   "source": [
    "infl_outliers = res_outliers.get_influence()"
   ]
  },
  {
   "cell_type": "code",
   "execution_count": 32,
   "metadata": {
    "collapsed": false
   },
   "outputs": [
    {
     "name": "stdout",
     "output_type": "stream",
     "text": [
      "cutoff:  1.6607146101002037\n"
     ]
    },
    {
     "data": {
      "text/plain": [
       "12"
      ]
     },
     "execution_count": 32,
     "metadata": {},
     "output_type": "execute_result"
    }
   ],
   "source": [
    "cutoff = stats.t.ppf(1 - alpha/2, 97)\n",
    "print(\"cutoff: \", cutoff)\n",
    "np.sum(np.abs(infl_outliers.resid_studentized_external) > cutoff)"
   ]
  },
  {
   "cell_type": "code",
   "execution_count": 33,
   "metadata": {
    "collapsed": false
   },
   "outputs": [
    {
     "name": "stdout",
     "output_type": "stream",
     "text": [
      "new_cutoff:  3.176387362804584\n"
     ]
    },
    {
     "data": {
      "text/plain": [
       "0"
      ]
     },
     "execution_count": 33,
     "metadata": {},
     "output_type": "execute_result"
    }
   ],
   "source": [
    "# Bonferroni correction\n",
    "new_cutoff = stats.t.ppf(1 - alpha/100, 97)\n",
    "print(\"new_cutoff: \", new_cutoff)\n",
    "np.sum(np.abs(infl_outliers.resid_studentized_external) > new_cutoff)"
   ]
  },
  {
   "cell_type": "markdown",
   "metadata": {},
   "source": [
    "### Multiple comparisons\n",
    "\n",
    "-   This problem we identified is known as *multiple comparisons* or *simultaneous inference.* \n",
    "\n",
    "- When performing many tests (say $m$) each at level $\\alpha$, we expect at least $\\alpha m$ rejections\n",
    "even when *all* null hypotheses are true!\n",
    "\n",
    "- In outlier detection, we are performing $m=n$ hypothesis tests, but might still\n",
    "like to control the probability of making *any* false positive\n",
    "errors.\n",
    "    \n",
    "- The reason we don't want to make errors here is that we don't\n",
    "want to throw away data unnecessarily.\n",
    "\n",
    "- One solution: Bonferroni correction, threshold at\n",
    "$t_{1 - \\alpha/(2*n), n-p-2}$.\n",
    "    \n",
    "\n",
    "### Bonferroni correction\n",
    "\n",
    "- Dividing $\\alpha$ by $n$, the number of tests, is known as a *Bonferroni* correction.\n",
    "\n",
    "-  If we are doing many $t$ (or other) tests, say $m \\gg 1$ we can\n",
    "  control overall false positive rate at $\\alpha$ by testing each one\n",
    "  at level $\\alpha/m$. \n",
    "  \n",
    "- In this case $m=n$, but other times we might look at a different number of tests.\n",
    "\n",
    "### Bonferroni correction\n",
    "\n",
    "- Essentially the *union bound* for probability.\n",
    "\n",
    "- **Proof:** when the model is correct, with studentized residuals $T_i$:\n",
    "\n",
    "    $$\\begin{aligned}\n",
    "        P\\left( \\text{at least one false positive} \\right)\n",
    "        &  = P \\left(\\cup_{i=1}^m |T_i| \\geq t_{1 - \\alpha/(2*m), n-p-2} \\right) \\\\\n",
    "        & \\leq \\sum_{i=1}^m P \\left( |T_i| \\geq t_{1 - \\alpha/(2*m), n-p-2} \\right) \\\\\n",
    "        &  = \\sum_{i=1}^m  \\frac{\\alpha}{m} = \\alpha. \\\\\n",
    "       \\end{aligned}$$\n",
    "\n",
    "Let's apply this to our data. It turns out that `KnockHill` is a [known error](http://www.statsci.org/data/general/hills.html)."
   ]
  },
  {
   "cell_type": "code",
   "execution_count": 34,
   "metadata": {
    "collapsed": false
   },
   "outputs": [],
   "source": [
    "n = data.shape[0]\n",
    "bonferroni_cutoff = stats.t.ppf(1 - alpha/(2*n), (n-4))"
   ]
  },
  {
   "cell_type": "code",
   "execution_count": 35,
   "metadata": {
    "collapsed": false
   },
   "outputs": [
    {
     "name": "stdout",
     "output_type": "stream",
     "text": [
      "Race\n",
      "KnockHill    7.610845\n",
      "Name: student_resid, dtype: float64\n"
     ]
    }
   ],
   "source": [
    "# mask\n",
    "student_resid_df = df[\"student_resid\"]\n",
    "bonferroni_mask = student_resid_df[np.abs(infl.resid_studentized_external) > bonferroni_cutoff]\n",
    "print(bonferroni_mask)"
   ]
  },
  {
   "cell_type": "code",
   "execution_count": 36,
   "metadata": {
    "collapsed": false
   },
   "outputs": [
    {
     "data": {
      "text/html": [
       "<div>\n",
       "<style scoped>\n",
       "    .dataframe tbody tr th:only-of-type {\n",
       "        vertical-align: middle;\n",
       "    }\n",
       "\n",
       "    .dataframe tbody tr th {\n",
       "        vertical-align: top;\n",
       "    }\n",
       "\n",
       "    .dataframe thead th {\n",
       "        text-align: right;\n",
       "    }\n",
       "</style>\n",
       "<table border=\"1\" class=\"dataframe\">\n",
       "  <thead>\n",
       "    <tr style=\"text-align: right;\">\n",
       "      <th></th>\n",
       "      <th>Distance</th>\n",
       "      <th>Climb</th>\n",
       "      <th>Time</th>\n",
       "    </tr>\n",
       "    <tr>\n",
       "      <th>Race</th>\n",
       "      <th></th>\n",
       "      <th></th>\n",
       "      <th></th>\n",
       "    </tr>\n",
       "  </thead>\n",
       "  <tbody>\n",
       "    <tr>\n",
       "      <th>KnockHill</th>\n",
       "      <td>3.0</td>\n",
       "      <td>350</td>\n",
       "      <td>78.65</td>\n",
       "    </tr>\n",
       "  </tbody>\n",
       "</table>\n",
       "</div>"
      ],
      "text/plain": [
       "           Distance  Climb   Time\n",
       "Race                             \n",
       "KnockHill       3.0    350  78.65"
      ]
     },
     "execution_count": 36,
     "metadata": {},
     "output_type": "execute_result"
    }
   ],
   "source": [
    "# table\n",
    "data.loc[bonferroni_mask.index]"
   ]
  },
  {
   "cell_type": "markdown",
   "metadata": {},
   "source": [
    "### Final plot\n",
    "\n",
    "The last plot that `R` produces is a plot of residuals against leverage. Points that have\n",
    "high leverage and large residuals are particularly influential."
   ]
  },
  {
   "cell_type": "code",
   "execution_count": 37,
   "metadata": {
    "collapsed": false
   },
   "outputs": [
    {
     "data": {
      "image/png": "[encoded data removed]",
      "text/plain": [
       "<matplotlib.figure.Figure at 0x7f7643502390>"
      ]
     },
     "metadata": {},
     "output_type": "display_data"
    }
   ],
   "source": [
    "# hat_matrix_diag vs. resid_studentized_internal(rstandard in R)\n",
    "\"\"\"\n",
    "\"\"\"\n",
    "plt.scatter(infl.hat_matrix_diag, infl.resid_studentized_internal)\n",
    "plt.xlabel(\"hat_matrix_diag\")\n",
    "plt.ylabel(\"resid_studentized_internal\")\n",
    "plt.title(\"hat_matrix_diag vs. resid_studentized_internal\")\n",
    "plt.show()"
   ]
  },
  {
   "cell_type": "markdown",
   "metadata": {},
   "source": [
    "`R` will put the IDs of cases that seem to be influential in these (and other plots). Not surprisingly, we see our usual three suspects.\n"
   ]
  },
  {
   "cell_type": "code",
   "execution_count": 38,
   "metadata": {
    "collapsed": false
   },
   "outputs": [
    {
     "name": "stderr",
     "output_type": "stream",
     "text": [
      "/home/doojung/anaconda3/lib/python3.6/site-packages/ipykernel/__main__.py:13: RuntimeWarning: divide by zero encountered in true_divide\n"
     ]
    },
    {
     "data": {
      "image/png": "[encoded data removed]",
      "text/plain": [
       "<matplotlib.figure.Figure at 0x7f7643923278>"
      ]
     },
     "metadata": {},
     "output_type": "display_data"
    }
   ],
   "source": [
    "# Residuals vs. Leverage\n",
    "# See whether an outlier has influence. \n",
    "norm_resid = res.get_influence().resid_studentized_internal\n",
    "leverage = res.get_influence().hat_matrix_diag\n",
    "plt.scatter(leverage, norm_resid, alpha=0.5)\n",
    "sns.regplot(leverage, norm_resid, scatter=False, ci=False, lowess=True,\n",
    "             line_kws={'color': 'red', 'alpha':0.5})\n",
    "plt.xlabel('Leverage (Time ~ Distance + Climb)')\n",
    "plt.ylabel('Standardized Residuals')\n",
    "plt.title('Residuals vs. Leverage')\n",
    "\n",
    "x = np.linspace(0, 1, 50)\n",
    "y = np.sqrt((0.5 * len(res.params) * (1 - x)) / x)\n",
    "plt.plot(x, y, label='Cook\\'s distance', ls='--', color='red')\n",
    "plt.show()"
   ]
  },
  {
   "cell_type": "markdown",
   "metadata": {},
   "source": [
    "## Influence measures\n",
    "\n",
    "As mentioned above, `R` has its own rules for flagging points as being influential. To\n",
    "see a summary of these, one can use the `influence.measures` function.\n"
   ]
  },
  {
   "cell_type": "code",
   "execution_count": 39,
   "metadata": {
    "collapsed": false
   },
   "outputs": [
    {
     "name": "stdout",
     "output_type": "stream",
     "text": [
      "aux_regression_endog\n",
      "aux_regression_exog\n",
      "cooks_distance\n",
      "cov_ratio\n",
      "det_cov_params_not_obsi\n",
      "dfbetas\n",
      "dffits\n",
      "dffits_internal\n",
      "endog\n",
      "ess_press\n",
      "exog\n",
      "get_resid_studentized_external\n",
      "hat_diag_factor\n",
      "hat_matrix_diag\n",
      "influence\n",
      "k_vars\n",
      "model_class\n",
      "nobs\n",
      "params_not_obsi\n",
      "resid_press\n",
      "resid_std\n",
      "resid_studentized_external\n",
      "resid_studentized_internal\n",
      "resid_var\n",
      "results\n",
      "sigma2_not_obsi\n",
      "sigma_est\n",
      "summary_frame\n",
      "summary_table\n"
     ]
    }
   ],
   "source": [
    "for attr in dir(infl):\n",
    "    if not attr.startswith(\"_\"):\n",
    "        print(attr)"
   ]
  },
  {
   "cell_type": "code",
   "execution_count": 40,
   "metadata": {
    "collapsed": false
   },
   "outputs": [
    {
     "data": {
      "text/plain": [
       "array([ 1.33446110e-01, -3.94733949e-01, -1.84067983e-01, -4.48933048e-02,\n",
       "       -7.25559049e-01,  3.93845885e-02,  2.26787251e+01, -3.36759985e-02,\n",
       "       -4.97514075e-02,  2.03719236e-01,  9.68654372e+00, -5.19491539e-02,\n",
       "       -3.13406212e-01,  5.56183790e-01, -3.47997029e-01, -6.53679332e-01,\n",
       "       -3.57974944e-01,  3.81604818e+00, -5.05340390e-01,  3.51998414e-02,\n",
       "        1.78330636e-01, -7.31502260e-02, -2.06613466e-01,  2.82083033e-01,\n",
       "        1.27834678e-01, -6.84316307e-01, -1.16430037e-01, -1.57220650e-01,\n",
       "       -7.97561906e-03, -3.38209103e-01, -2.24436861e+00, -1.27630775e-01,\n",
       "        2.04425400e+00, -1.17439674e-02, -2.54340837e+00])"
      ]
     },
     "execution_count": 40,
     "metadata": {},
     "output_type": "execute_result"
    }
   ],
   "source": [
    "\n",
    "infl.influence\n",
    "\n",
    "# Source: https://www.statsmodels.org/dev/generated/statsmodels.stats.outliers_influence.OLSInfluence.influence.html#statsmodels.stats.outliers_influence.OLSInfluence.influence"
   ]
  },
  {
   "cell_type": "code",
   "execution_count": 41,
   "metadata": {
    "collapsed": false
   },
   "outputs": [
    {
     "data": {
      "text/html": [
       "<div>\n",
       "<style scoped>\n",
       "    .dataframe tbody tr th:only-of-type {\n",
       "        vertical-align: middle;\n",
       "    }\n",
       "\n",
       "    .dataframe tbody tr th {\n",
       "        vertical-align: top;\n",
       "    }\n",
       "\n",
       "    .dataframe thead th {\n",
       "        text-align: right;\n",
       "    }\n",
       "</style>\n",
       "<table border=\"1\" class=\"dataframe\">\n",
       "  <thead>\n",
       "    <tr style=\"text-align: right;\">\n",
       "      <th></th>\n",
       "      <th>dfb_Intercept</th>\n",
       "      <th>dfb_Distance</th>\n",
       "      <th>dfb_Climb</th>\n",
       "      <th>cooks_d</th>\n",
       "      <th>standard_resid</th>\n",
       "      <th>hat_diag</th>\n",
       "      <th>dffits_internal</th>\n",
       "      <th>student_resid</th>\n",
       "      <th>dffits</th>\n",
       "    </tr>\n",
       "    <tr>\n",
       "      <th>Race</th>\n",
       "      <th></th>\n",
       "      <th></th>\n",
       "      <th></th>\n",
       "      <th></th>\n",
       "      <th></th>\n",
       "      <th></th>\n",
       "      <th></th>\n",
       "      <th></th>\n",
       "      <th></th>\n",
       "    </tr>\n",
       "  </thead>\n",
       "  <tbody>\n",
       "    <tr>\n",
       "      <th>Greenmantle</th>\n",
       "      <td>0.037811</td>\n",
       "      <td>-0.016614</td>\n",
       "      <td>-0.004744</td>\n",
       "      <td>0.000513</td>\n",
       "      <td>0.164547</td>\n",
       "      <td>0.053756</td>\n",
       "      <td>0.039219</td>\n",
       "      <td>0.162024</td>\n",
       "      <td>0.038618</td>\n",
       "    </tr>\n",
       "    <tr>\n",
       "      <th>Carnethy</th>\n",
       "      <td>-0.059580</td>\n",
       "      <td>0.067215</td>\n",
       "      <td>-0.073396</td>\n",
       "      <td>0.004875</td>\n",
       "      <td>-0.530157</td>\n",
       "      <td>0.049464</td>\n",
       "      <td>-0.120939</td>\n",
       "      <td>-0.524115</td>\n",
       "      <td>-0.119560</td>\n",
       "    </tr>\n",
       "    <tr>\n",
       "      <th>CraigDunain</th>\n",
       "      <td>-0.048577</td>\n",
       "      <td>-0.006707</td>\n",
       "      <td>0.028033</td>\n",
       "      <td>0.001365</td>\n",
       "      <td>-0.320258</td>\n",
       "      <td>0.038404</td>\n",
       "      <td>-0.064002</td>\n",
       "      <td>-0.315720</td>\n",
       "      <td>-0.063095</td>\n",
       "    </tr>\n",
       "    <tr>\n",
       "      <th>BenRha</th>\n",
       "      <td>-0.007665</td>\n",
       "      <td>-0.005675</td>\n",
       "      <td>0.008764</td>\n",
       "      <td>0.000064</td>\n",
       "      <td>-0.061540</td>\n",
       "      <td>0.048489</td>\n",
       "      <td>-0.013892</td>\n",
       "      <td>-0.060574</td>\n",
       "      <td>-0.013674</td>\n",
       "    </tr>\n",
       "    <tr>\n",
       "      <th>BenLomond</th>\n",
       "      <td>-0.050461</td>\n",
       "      <td>0.084709</td>\n",
       "      <td>-0.145005</td>\n",
       "      <td>0.014741</td>\n",
       "      <td>-0.869429</td>\n",
       "      <td>0.055271</td>\n",
       "      <td>-0.210295</td>\n",
       "      <td>-0.866026</td>\n",
       "      <td>-0.209472</td>\n",
       "    </tr>\n",
       "    <tr>\n",
       "      <th>Goatfell</th>\n",
       "      <td>0.003484</td>\n",
       "      <td>-0.004316</td>\n",
       "      <td>0.007576</td>\n",
       "      <td>0.000051</td>\n",
       "      <td>0.055980</td>\n",
       "      <td>0.046805</td>\n",
       "      <td>0.012405</td>\n",
       "      <td>0.055101</td>\n",
       "      <td>0.012210</td>\n",
       "    </tr>\n",
       "    <tr>\n",
       "      <th>BensofJura</th>\n",
       "      <td>-0.890655</td>\n",
       "      <td>-0.712774</td>\n",
       "      <td>2.364618</td>\n",
       "      <td>1.893349</td>\n",
       "      <td>2.798195</td>\n",
       "      <td>0.420435</td>\n",
       "      <td>2.383285</td>\n",
       "      <td>3.168980</td>\n",
       "      <td>2.699091</td>\n",
       "    </tr>\n",
       "    <tr>\n",
       "      <th>Cairnpapple</th>\n",
       "      <td>-0.008443</td>\n",
       "      <td>-0.001648</td>\n",
       "      <td>0.005562</td>\n",
       "      <td>0.000043</td>\n",
       "      <td>-0.054764</td>\n",
       "      <td>0.041033</td>\n",
       "      <td>-0.011328</td>\n",
       "      <td>-0.053904</td>\n",
       "      <td>-0.011150</td>\n",
       "    </tr>\n",
       "    <tr>\n",
       "      <th>Scolty</th>\n",
       "      <td>-0.014369</td>\n",
       "      <td>0.000913</td>\n",
       "      <td>0.006161</td>\n",
       "      <td>0.000095</td>\n",
       "      <td>-0.082497</td>\n",
       "      <td>0.040258</td>\n",
       "      <td>-0.016896</td>\n",
       "      <td>-0.081207</td>\n",
       "      <td>-0.016632</td>\n",
       "    </tr>\n",
       "    <tr>\n",
       "      <th>Traprain</th>\n",
       "      <td>0.047034</td>\n",
       "      <td>0.013057</td>\n",
       "      <td>-0.036519</td>\n",
       "      <td>0.001405</td>\n",
       "      <td>0.296673</td>\n",
       "      <td>0.045709</td>\n",
       "      <td>0.064929</td>\n",
       "      <td>0.292403</td>\n",
       "      <td>0.063994</td>\n",
       "    </tr>\n",
       "    <tr>\n",
       "      <th>LairigGhru</th>\n",
       "      <td>-0.301182</td>\n",
       "      <td>0.768716</td>\n",
       "      <td>-0.479849</td>\n",
       "      <td>0.210521</td>\n",
       "      <td>0.532907</td>\n",
       "      <td>0.689816</td>\n",
       "      <td>0.794710</td>\n",
       "      <td>0.526858</td>\n",
       "      <td>0.785688</td>\n",
       "    </tr>\n",
       "    <tr>\n",
       "      <th>Dollar</th>\n",
       "      <td>-0.011492</td>\n",
       "      <td>0.009656</td>\n",
       "      <td>-0.007488</td>\n",
       "      <td>0.000096</td>\n",
       "      <td>-0.079673</td>\n",
       "      <td>0.043454</td>\n",
       "      <td>-0.016981</td>\n",
       "      <td>-0.078426</td>\n",
       "      <td>-0.016716</td>\n",
       "    </tr>\n",
       "    <tr>\n",
       "      <th>Lomonds</th>\n",
       "      <td>-0.031729</td>\n",
       "      <td>-0.029911</td>\n",
       "      <td>-0.000707</td>\n",
       "      <td>0.004704</td>\n",
       "      <td>-0.650019</td>\n",
       "      <td>0.032319</td>\n",
       "      <td>-0.118792</td>\n",
       "      <td>-0.644047</td>\n",
       "      <td>-0.117701</td>\n",
       "    </tr>\n",
       "    <tr>\n",
       "      <th>CairnTable</th>\n",
       "      <td>0.118031</td>\n",
       "      <td>0.042034</td>\n",
       "      <td>-0.104884</td>\n",
       "      <td>0.009339</td>\n",
       "      <td>0.720096</td>\n",
       "      <td>0.051263</td>\n",
       "      <td>0.167387</td>\n",
       "      <td>0.714568</td>\n",
       "      <td>0.166102</td>\n",
       "    </tr>\n",
       "    <tr>\n",
       "      <th>EildonTwo</th>\n",
       "      <td>-0.100376</td>\n",
       "      <td>0.057701</td>\n",
       "      <td>-0.022317</td>\n",
       "      <td>0.004834</td>\n",
       "      <td>-0.599632</td>\n",
       "      <td>0.038771</td>\n",
       "      <td>-0.120428</td>\n",
       "      <td>-0.593532</td>\n",
       "      <td>-0.119203</td>\n",
       "    </tr>\n",
       "    <tr>\n",
       "      <th>Cairngorm</th>\n",
       "      <td>-0.018520</td>\n",
       "      <td>0.006789</td>\n",
       "      <td>-0.099862</td>\n",
       "      <td>0.014907</td>\n",
       "      <td>-0.981525</td>\n",
       "      <td>0.044363</td>\n",
       "      <td>-0.211477</td>\n",
       "      <td>-0.980945</td>\n",
       "      <td>-0.211352</td>\n",
       "    </tr>\n",
       "    <tr>\n",
       "      <th>SevenHills</th>\n",
       "      <td>0.011964</td>\n",
       "      <td>-0.066505</td>\n",
       "      <td>0.034455</td>\n",
       "      <td>0.002386</td>\n",
       "      <td>-0.280934</td>\n",
       "      <td>0.083139</td>\n",
       "      <td>-0.084597</td>\n",
       "      <td>-0.276851</td>\n",
       "      <td>-0.083368</td>\n",
       "    </tr>\n",
       "    <tr>\n",
       "      <th>KnockHill</th>\n",
       "      <td>1.758275</td>\n",
       "      <td>-0.406545</td>\n",
       "      <td>-0.655934</td>\n",
       "      <td>0.407156</td>\n",
       "      <td>4.565581</td>\n",
       "      <td>0.055355</td>\n",
       "      <td>1.105200</td>\n",
       "      <td>7.610845</td>\n",
       "      <td>1.842375</td>\n",
       "    </tr>\n",
       "    <tr>\n",
       "      <th>BlackHill</th>\n",
       "      <td>-0.158890</td>\n",
       "      <td>0.044311</td>\n",
       "      <td>0.029414</td>\n",
       "      <td>0.010265</td>\n",
       "      <td>-0.876961</td>\n",
       "      <td>0.038502</td>\n",
       "      <td>-0.175488</td>\n",
       "      <td>-0.873713</td>\n",
       "      <td>-0.174838</td>\n",
       "    </tr>\n",
       "    <tr>\n",
       "      <th>CreagBeag</th>\n",
       "      <td>0.008658</td>\n",
       "      <td>0.001424</td>\n",
       "      <td>-0.005946</td>\n",
       "      <td>0.000042</td>\n",
       "      <td>0.051033</td>\n",
       "      <td>0.045909</td>\n",
       "      <td>0.011194</td>\n",
       "      <td>0.050231</td>\n",
       "      <td>0.011019</td>\n",
       "    </tr>\n",
       "    <tr>\n",
       "      <th>KildconHill</th>\n",
       "      <td>0.047765</td>\n",
       "      <td>-0.010019</td>\n",
       "      <td>-0.019199</td>\n",
       "      <td>0.000870</td>\n",
       "      <td>0.208624</td>\n",
       "      <td>0.056575</td>\n",
       "      <td>0.051088</td>\n",
       "      <td>0.205478</td>\n",
       "      <td>0.050318</td>\n",
       "    </tr>\n",
       "    <tr>\n",
       "      <th>MeallAnt-Suidhe</th>\n",
       "      <td>-0.018889</td>\n",
       "      <td>0.013856</td>\n",
       "      <td>-0.006465</td>\n",
       "      <td>0.000172</td>\n",
       "      <td>-0.100766</td>\n",
       "      <td>0.048258</td>\n",
       "      <td>-0.022690</td>\n",
       "      <td>-0.099195</td>\n",
       "      <td>-0.022336</td>\n",
       "    </tr>\n",
       "    <tr>\n",
       "      <th>HalfBenNevis</th>\n",
       "      <td>-0.041306</td>\n",
       "      <td>0.034097</td>\n",
       "      <td>-0.033022</td>\n",
       "      <td>0.001661</td>\n",
       "      <td>-0.346860</td>\n",
       "      <td>0.039774</td>\n",
       "      <td>-0.070594</td>\n",
       "      <td>-0.342041</td>\n",
       "      <td>-0.069613</td>\n",
       "    </tr>\n",
       "    <tr>\n",
       "      <th>CowHill</th>\n",
       "      <td>0.074833</td>\n",
       "      <td>-0.046385</td>\n",
       "      <td>0.006428</td>\n",
       "      <td>0.002108</td>\n",
       "      <td>0.319234</td>\n",
       "      <td>0.058425</td>\n",
       "      <td>0.079521</td>\n",
       "      <td>0.314708</td>\n",
       "      <td>0.078394</td>\n",
       "    </tr>\n",
       "    <tr>\n",
       "      <th>NBerwickLaw</th>\n",
       "      <td>0.036911</td>\n",
       "      <td>-0.012633</td>\n",
       "      <td>-0.008257</td>\n",
       "      <td>0.000499</td>\n",
       "      <td>0.167320</td>\n",
       "      <td>0.050723</td>\n",
       "      <td>0.038677</td>\n",
       "      <td>0.164757</td>\n",
       "      <td>0.038085</td>\n",
       "    </tr>\n",
       "    <tr>\n",
       "      <th>CreagDubh</th>\n",
       "      <td>-0.137724</td>\n",
       "      <td>0.136124</td>\n",
       "      <td>-0.101306</td>\n",
       "      <td>0.013179</td>\n",
       "      <td>-0.824225</td>\n",
       "      <td>0.054996</td>\n",
       "      <td>-0.198837</td>\n",
       "      <td>-0.819995</td>\n",
       "      <td>-0.197816</td>\n",
       "    </tr>\n",
       "    <tr>\n",
       "      <th>Burnswark</th>\n",
       "      <td>-0.029205</td>\n",
       "      <td>-0.005702</td>\n",
       "      <td>0.019239</td>\n",
       "      <td>0.000511</td>\n",
       "      <td>-0.189338</td>\n",
       "      <td>0.041033</td>\n",
       "      <td>-0.039165</td>\n",
       "      <td>-0.186460</td>\n",
       "      <td>-0.038570</td>\n",
       "    </tr>\n",
       "    <tr>\n",
       "      <th>LargoLaw</th>\n",
       "      <td>-0.047641</td>\n",
       "      <td>0.006936</td>\n",
       "      <td>0.014990</td>\n",
       "      <td>0.001018</td>\n",
       "      <td>-0.279657</td>\n",
       "      <td>0.037581</td>\n",
       "      <td>-0.055262</td>\n",
       "      <td>-0.275590</td>\n",
       "      <td>-0.054459</td>\n",
       "    </tr>\n",
       "    <tr>\n",
       "      <th>Criffel</th>\n",
       "      <td>-0.002138</td>\n",
       "      <td>0.000647</td>\n",
       "      <td>-0.000328</td>\n",
       "      <td>0.000003</td>\n",
       "      <td>-0.017885</td>\n",
       "      <td>0.029928</td>\n",
       "      <td>-0.003141</td>\n",
       "      <td>-0.017604</td>\n",
       "      <td>-0.003092</td>\n",
       "    </tr>\n",
       "    <tr>\n",
       "      <th>Acmony</th>\n",
       "      <td>-0.085316</td>\n",
       "      <td>-0.007705</td>\n",
       "      <td>0.054838</td>\n",
       "      <td>0.003669</td>\n",
       "      <td>-0.465994</td>\n",
       "      <td>0.048247</td>\n",
       "      <td>-0.104919</td>\n",
       "      <td>-0.460220</td>\n",
       "      <td>-0.103619</td>\n",
       "    </tr>\n",
       "    <tr>\n",
       "      <th>BenNevis</th>\n",
       "      <td>0.020994</td>\n",
       "      <td>0.170124</td>\n",
       "      <td>-0.373634</td>\n",
       "      <td>0.064123</td>\n",
       "      <td>-1.178913</td>\n",
       "      <td>0.121582</td>\n",
       "      <td>-0.438597</td>\n",
       "      <td>-1.186396</td>\n",
       "      <td>-0.441381</td>\n",
       "    </tr>\n",
       "    <tr>\n",
       "      <th>Knockfarrel</th>\n",
       "      <td>-0.028579</td>\n",
       "      <td>-0.008694</td>\n",
       "      <td>0.023275</td>\n",
       "      <td>0.000531</td>\n",
       "      <td>-0.178834</td>\n",
       "      <td>0.047463</td>\n",
       "      <td>-0.039920</td>\n",
       "      <td>-0.176106</td>\n",
       "      <td>-0.039310</td>\n",
       "    </tr>\n",
       "    <tr>\n",
       "      <th>TwoBreweries</th>\n",
       "      <td>-0.158227</td>\n",
       "      <td>0.097014</td>\n",
       "      <td>0.155702</td>\n",
       "      <td>0.037695</td>\n",
       "      <td>0.738902</td>\n",
       "      <td>0.171585</td>\n",
       "      <td>0.336281</td>\n",
       "      <td>0.733549</td>\n",
       "      <td>0.333845</td>\n",
       "    </tr>\n",
       "    <tr>\n",
       "      <th>Cockleroi</th>\n",
       "      <td>-0.003556</td>\n",
       "      <td>0.000704</td>\n",
       "      <td>0.001054</td>\n",
       "      <td>0.000005</td>\n",
       "      <td>-0.019440</td>\n",
       "      <td>0.040325</td>\n",
       "      <td>-0.003985</td>\n",
       "      <td>-0.019134</td>\n",
       "      <td>-0.003922</td>\n",
       "    </tr>\n",
       "    <tr>\n",
       "      <th>MoffatChase</th>\n",
       "      <td>0.208722</td>\n",
       "      <td>-0.199048</td>\n",
       "      <td>-0.100907</td>\n",
       "      <td>0.052422</td>\n",
       "      <td>-0.816190</td>\n",
       "      <td>0.190989</td>\n",
       "      <td>-0.396569</td>\n",
       "      <td>-0.811830</td>\n",
       "      <td>-0.394450</td>\n",
       "    </tr>\n",
       "  </tbody>\n",
       "</table>\n",
       "</div>"
      ],
      "text/plain": [
       "                 dfb_Intercept  dfb_Distance  dfb_Climb   cooks_d  \\\n",
       "Race                                                                \n",
       "Greenmantle           0.037811     -0.016614  -0.004744  0.000513   \n",
       "Carnethy             -0.059580      0.067215  -0.073396  0.004875   \n",
       "CraigDunain          -0.048577     -0.006707   0.028033  0.001365   \n",
       "BenRha               -0.007665     -0.005675   0.008764  0.000064   \n",
       "BenLomond            -0.050461      0.084709  -0.145005  0.014741   \n",
       "Goatfell              0.003484     -0.004316   0.007576  0.000051   \n",
       "BensofJura           -0.890655     -0.712774   2.364618  1.893349   \n",
       "Cairnpapple          -0.008443     -0.001648   0.005562  0.000043   \n",
       "Scolty               -0.014369      0.000913   0.006161  0.000095   \n",
       "Traprain              0.047034      0.013057  -0.036519  0.001405   \n",
       "LairigGhru           -0.301182      0.768716  -0.479849  0.210521   \n",
       "Dollar               -0.011492      0.009656  -0.007488  0.000096   \n",
       "Lomonds              -0.031729     -0.029911  -0.000707  0.004704   \n",
       "CairnTable            0.118031      0.042034  -0.104884  0.009339   \n",
       "EildonTwo            -0.100376      0.057701  -0.022317  0.004834   \n",
       "Cairngorm            -0.018520      0.006789  -0.099862  0.014907   \n",
       "SevenHills            0.011964     -0.066505   0.034455  0.002386   \n",
       "KnockHill             1.758275     -0.406545  -0.655934  0.407156   \n",
       "BlackHill            -0.158890      0.044311   0.029414  0.010265   \n",
       "CreagBeag             0.008658      0.001424  -0.005946  0.000042   \n",
       "KildconHill           0.047765     -0.010019  -0.019199  0.000870   \n",
       "MeallAnt-Suidhe      -0.018889      0.013856  -0.006465  0.000172   \n",
       "HalfBenNevis         -0.041306      0.034097  -0.033022  0.001661   \n",
       "CowHill               0.074833     -0.046385   0.006428  0.002108   \n",
       "NBerwickLaw           0.036911     -0.012633  -0.008257  0.000499   \n",
       "CreagDubh            -0.137724      0.136124  -0.101306  0.013179   \n",
       "Burnswark            -0.029205     -0.005702   0.019239  0.000511   \n",
       "LargoLaw             -0.047641      0.006936   0.014990  0.001018   \n",
       "Criffel              -0.002138      0.000647  -0.000328  0.000003   \n",
       "Acmony               -0.085316     -0.007705   0.054838  0.003669   \n",
       "BenNevis              0.020994      0.170124  -0.373634  0.064123   \n",
       "Knockfarrel          -0.028579     -0.008694   0.023275  0.000531   \n",
       "TwoBreweries         -0.158227      0.097014   0.155702  0.037695   \n",
       "Cockleroi            -0.003556      0.000704   0.001054  0.000005   \n",
       "MoffatChase           0.208722     -0.199048  -0.100907  0.052422   \n",
       "\n",
       "                 standard_resid  hat_diag  dffits_internal  student_resid  \\\n",
       "Race                                                                        \n",
       "Greenmantle            0.164547  0.053756         0.039219       0.162024   \n",
       "Carnethy              -0.530157  0.049464        -0.120939      -0.524115   \n",
       "CraigDunain           -0.320258  0.038404        -0.064002      -0.315720   \n",
       "BenRha                -0.061540  0.048489        -0.013892      -0.060574   \n",
       "BenLomond             -0.869429  0.055271        -0.210295      -0.866026   \n",
       "Goatfell               0.055980  0.046805         0.012405       0.055101   \n",
       "BensofJura             2.798195  0.420435         2.383285       3.168980   \n",
       "Cairnpapple           -0.054764  0.041033        -0.011328      -0.053904   \n",
       "Scolty                -0.082497  0.040258        -0.016896      -0.081207   \n",
       "Traprain               0.296673  0.045709         0.064929       0.292403   \n",
       "LairigGhru             0.532907  0.689816         0.794710       0.526858   \n",
       "Dollar                -0.079673  0.043454        -0.016981      -0.078426   \n",
       "Lomonds               -0.650019  0.032319        -0.118792      -0.644047   \n",
       "CairnTable             0.720096  0.051263         0.167387       0.714568   \n",
       "EildonTwo             -0.599632  0.038771        -0.120428      -0.593532   \n",
       "Cairngorm             -0.981525  0.044363        -0.211477      -0.980945   \n",
       "SevenHills            -0.280934  0.083139        -0.084597      -0.276851   \n",
       "KnockHill              4.565581  0.055355         1.105200       7.610845   \n",
       "BlackHill             -0.876961  0.038502        -0.175488      -0.873713   \n",
       "CreagBeag              0.051033  0.045909         0.011194       0.050231   \n",
       "KildconHill            0.208624  0.056575         0.051088       0.205478   \n",
       "MeallAnt-Suidhe       -0.100766  0.048258        -0.022690      -0.099195   \n",
       "HalfBenNevis          -0.346860  0.039774        -0.070594      -0.342041   \n",
       "CowHill                0.319234  0.058425         0.079521       0.314708   \n",
       "NBerwickLaw            0.167320  0.050723         0.038677       0.164757   \n",
       "CreagDubh             -0.824225  0.054996        -0.198837      -0.819995   \n",
       "Burnswark             -0.189338  0.041033        -0.039165      -0.186460   \n",
       "LargoLaw              -0.279657  0.037581        -0.055262      -0.275590   \n",
       "Criffel               -0.017885  0.029928        -0.003141      -0.017604   \n",
       "Acmony                -0.465994  0.048247        -0.104919      -0.460220   \n",
       "BenNevis              -1.178913  0.121582        -0.438597      -1.186396   \n",
       "Knockfarrel           -0.178834  0.047463        -0.039920      -0.176106   \n",
       "TwoBreweries           0.738902  0.171585         0.336281       0.733549   \n",
       "Cockleroi             -0.019440  0.040325        -0.003985      -0.019134   \n",
       "MoffatChase           -0.816190  0.190989        -0.396569      -0.811830   \n",
       "\n",
       "                   dffits  \n",
       "Race                       \n",
       "Greenmantle      0.038618  \n",
       "Carnethy        -0.119560  \n",
       "CraigDunain     -0.063095  \n",
       "BenRha          -0.013674  \n",
       "BenLomond       -0.209472  \n",
       "Goatfell         0.012210  \n",
       "BensofJura       2.699091  \n",
       "Cairnpapple     -0.011150  \n",
       "Scolty          -0.016632  \n",
       "Traprain         0.063994  \n",
       "LairigGhru       0.785688  \n",
       "Dollar          -0.016716  \n",
       "Lomonds         -0.117701  \n",
       "CairnTable       0.166102  \n",
       "EildonTwo       -0.119203  \n",
       "Cairngorm       -0.211352  \n",
       "SevenHills      -0.083368  \n",
       "KnockHill        1.842375  \n",
       "BlackHill       -0.174838  \n",
       "CreagBeag        0.011019  \n",
       "KildconHill      0.050318  \n",
       "MeallAnt-Suidhe -0.022336  \n",
       "HalfBenNevis    -0.069613  \n",
       "CowHill          0.078394  \n",
       "NBerwickLaw      0.038085  \n",
       "CreagDubh       -0.197816  \n",
       "Burnswark       -0.038570  \n",
       "LargoLaw        -0.054459  \n",
       "Criffel         -0.003092  \n",
       "Acmony          -0.103619  \n",
       "BenNevis        -0.441381  \n",
       "Knockfarrel     -0.039310  \n",
       "TwoBreweries     0.333845  \n",
       "Cockleroi       -0.003922  \n",
       "MoffatChase     -0.394450  "
      ]
     },
     "execution_count": 41,
     "metadata": {},
     "output_type": "execute_result"
    }
   ],
   "source": [
    "infl.summary_frame()"
   ]
  },
  {
   "cell_type": "code",
   "execution_count": 42,
   "metadata": {
    "collapsed": true
   },
   "outputs": [],
   "source": [
    "# R has asterisks but I could not find in statsmodels"
   ]
  },
  {
   "cell_type": "markdown",
   "metadata": {},
   "source": [
    "While not specified in the documentation, the meaning of the asterisks can be found\n",
    "by reading the code. The function `is.influential` makes the decisions\n",
    "to flag cases as influential or not. \n",
    "\n",
    "- We see that the `DFBETAS` are thresholded at 1.\n",
    "\n",
    "- We see that `DFFITS` is thresholded at `3 * sqrt((p+1)/(n-p-1))`.\n",
    "\n",
    "- Etc. "
   ]
  },
  {
   "cell_type": "markdown",
   "metadata": {},
   "source": [
    "## Problems in the regression function\n",
    "\n",
    "-   True regression function may have higher-order non-linear terms,\n",
    "    polynomial or otherwise.\n",
    "\n",
    "-   We may be missing terms involving more than one ${X}_{(\\cdot)}$,\n",
    "    i.e. ${X}_i \\cdot {X}_j$ (called an *interaction*).\n",
    "\n",
    "-   Some simple plots: *added-variable* and *component plus residual*\n",
    "    plots can help to find nonlinear functions of *one variable*.\n",
    "    \n",
    "- I find these plots of somewhat limited use in practice, but we will go over them as\n",
    "possibly useful diagnostic tools.\n",
    "\n",
    "\n",
    "### Added variable plots\n",
    "\n",
    "- The plots can be helpful for finding influential points, outliers. The functions can \n",
    "be found in the `car` package.\n",
    "\n",
    "-   Procedure:\n",
    "\n",
    "    -   Let $\\tilde{e}_{X_j,i}, 1\\leq i \\leq n$ be the residuals after\n",
    "        regressing $X_j$ onto all columns of $X$ except\n",
    "        $X_j$;\n",
    "\n",
    "    -   Let $e_{X_j,i}$ be the residuals after regressing ${Y}$ onto\n",
    "        all columns of ${X}$ except ${X}_j$;\n",
    "\n",
    "    -   Plot $\\tilde{e}_{X_j}$ against $e_{X_j}$.\n",
    "    \n",
    "    - If the (partial regression) relationship is linear this plot should look linear.\n"
   ]
  },
  {
   "cell_type": "code",
   "execution_count": 43,
   "metadata": {
    "collapsed": false
   },
   "outputs": [
    {
     "data": {
      "image/png": "[encoded data removed]",
      "text/plain": [
       "<matplotlib.figure.Figure at 0x7f76434075c0>"
      ]
     },
     "metadata": {},
     "output_type": "display_data"
    }
   ],
   "source": [
    "# Added variable plots grid (Partial regression plot grid)\n",
    "fig = sm.graphics.plot_partregress_grid(res)\n",
    "plt.show()"
   ]
  },
  {
   "cell_type": "code",
   "execution_count": 44,
   "metadata": {
    "collapsed": false
   },
   "outputs": [
    {
     "data": {
      "image/png": "[encoded data removed]",
      "text/plain": [
       "<matplotlib.figure.Figure at 0x7f7643407588>"
      ]
     },
     "metadata": {},
     "output_type": "display_data"
    }
   ],
   "source": [
    "# Added variable plots (Partial regression plots)\n",
    "\"\"\"\n",
    "endog      : endogenous or response variable. \n",
    "exog_i     : exogenous, explanatory variable. \n",
    "exog_others: other exogenous, explanatory variables. \n",
    "\"\"\"\n",
    "fig = sm.graphics.plot_partregress(endog=\"Time\", \n",
    "                                   exog_i=\"Distance\", \n",
    "                                   exog_others=[\"Climb\"], \n",
    "                                   data=data)\n",
    "plt.show()\n",
    "# Source: https://www.statsmodels.org/devel/generated/statsmodels.graphics.regressionplots.plot_partregress.html"
   ]
  },
  {
   "cell_type": "code",
   "execution_count": 45,
   "metadata": {
    "collapsed": false
   },
   "outputs": [
    {
     "data": {
      "image/png": "[encoded data removed]",
      "text/plain": [
       "<matplotlib.figure.Figure at 0x7f7643273a58>"
      ]
     },
     "metadata": {},
     "output_type": "display_data"
    }
   ],
   "source": [
    "# Added variable plots (Partial regression plots)\n",
    "\"\"\"\n",
    "endog      : endogenous or response variable. \n",
    "exog_i     : exogenous, explanatory variable. \n",
    "exog_others: other exogenous, explanatory variables. \n",
    "\"\"\"\n",
    "fig = sm.graphics.plot_partregress(endog=\"Time\", \n",
    "                                   exog_i=\"Climb\", \n",
    "                                   exog_others=[\"Distance\"], \n",
    "                                   data=data)\n",
    "plt.show()\n",
    "# Source: https://www.statsmodels.org/devel/generated/statsmodels.graphics.regressionplots.plot_partregress.html"
   ]
  },
  {
   "cell_type": "markdown",
   "metadata": {},
   "source": [
    "### Component + residual plots\n",
    "\n",
    "-   Similar to added variable, but may be more helpful in identifying nonlinear relationships.\n",
    "\n",
    "-   Procedure: plot $X_{ij}, 1 \\leq i \\leq n$ vs.\n",
    "    $e_i + \\widehat{\\beta}_j \\cdot X_{ij} , 1 \\leq i \\leq n$.\n",
    "   \n",
    "- The green line is a non-parametric smooth of the scatter plot that may suggest\n",
    "relationships other than linear."
   ]
  },
  {
   "cell_type": "code",
   "execution_count": 46,
   "metadata": {
    "collapsed": false
   },
   "outputs": [
    {
     "data": {
      "image/png": "[encoded data removed]",
      "text/plain": [
       "<matplotlib.figure.Figure at 0x7f7643389470>"
      ]
     },
     "metadata": {},
     "output_type": "display_data"
    }
   ],
   "source": [
    "# CCPR(Component-Component plus Residual)\n",
    "\"\"\"\n",
    "results : uses exog and params of the result instance\n",
    "exog_idx: Exogenous, explanatory variable\n",
    "\"\"\"\n",
    "fig = sm.graphics.plot_ccpr(results=res, exog_idx=1)\n",
    "plt.show()\n",
    "# Source: https://www.statsmodels.org/dev/generated/statsmodels.graphics.regressionplots.plot_ccpr.html"
   ]
  },
  {
   "cell_type": "code",
   "execution_count": 47,
   "metadata": {
    "collapsed": false
   },
   "outputs": [
    {
     "data": {
      "image/png": "[encoded data removed]",
      "text/plain": [
       "<matplotlib.figure.Figure at 0x7f76461977b8>"
      ]
     },
     "metadata": {},
     "output_type": "display_data"
    }
   ],
   "source": [
    "# CCPR(Component-Component plus Residual)\n",
    "\"\"\"\n",
    "results : uses exog and params of the result instance\n",
    "exog_idx: Exogenous, explanatory variable\n",
    "\"\"\"\n",
    "fig = sm.graphics.plot_ccpr(results=res, exog_idx=2)\n",
    "plt.show()\n",
    "# Source: https://www.statsmodels.org/dev/generated/statsmodels.graphics.regressionplots.plot_ccpr.html"
   ]
  }
 ],
 "metadata": {
  "kernelspec": {
   "display_name": "Python 3",
   "language": "python",
   "name": "python3"
  },
  "language_info": {
   "codemirror_mode": {
    "name": "ipython",
    "version": 3
   },
   "file_extension": ".py",
   "mimetype": "text/x-python",
   "name": "python",
   "nbconvert_exporter": "python",
   "pygments_lexer": "ipython3",
   "version": "3.6.0"
  }
 },
 "nbformat": 4,
 "nbformat_minor": 2
}

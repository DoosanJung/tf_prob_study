{
 "cells": [
  {
   "cell_type": "markdown",
   "metadata": {},
   "source": [
    "\n",
    "R => Python  \n",
    "Source: https://web.stanford.edu/class/stats191/notebooks/Multiple_linear_regression.html"
   ]
  },
  {
   "cell_type": "markdown",
   "metadata": {},
   "source": [
    "# Multiple linear regression"
   ]
  },
  {
   "cell_type": "markdown",
   "metadata": {},
   "source": [
    "## Outline\n",
    "\n",
    "-   Specifying the model.\n",
    "\n",
    "-   Fitting the model: least squares.\n",
    "\n",
    "-   Interpretation of the coefficients.\n",
    "\n",
    "-   More on $F$-statistics.\n",
    "\n",
    "-   Matrix approach to linear regression.\n",
    "\n",
    "-   $T$-statistics revisited.\n",
    "\n",
    "-   More $F$ statistics.\n",
    "\n",
    "-   Tests involving more than one $\\beta$."
   ]
  },
  {
   "cell_type": "code",
   "execution_count": 1,
   "metadata": {
    "collapsed": true
   },
   "outputs": [],
   "source": [
    "import numpy as np\n",
    "import pandas as pd\n",
    "from scipy import stats\n",
    "import statsmodels.api as sm\n",
    "from statsmodels.formula.api import ols\n",
    "import matplotlib.pyplot as plt\n",
    "import seaborn as sns"
   ]
  },
  {
   "cell_type": "code",
   "execution_count": 2,
   "metadata": {
    "collapsed": false
   },
   "outputs": [
    {
     "data": {
      "text/plain": [
       "'0.9.0'"
      ]
     },
     "execution_count": 2,
     "metadata": {},
     "output_type": "execute_result"
    }
   ],
   "source": [
    "sm.version.version"
   ]
  },
  {
   "cell_type": "markdown",
   "metadata": {},
   "source": [
    "## prostate cancer data\n",
    "\n",
    "These data come from a study that examined the correlation between the level of prostate specific antigen and a number of clinical measures in men who were about to receive a radical prostatectomy. It is data frame with 97 rows and 9 columns.\n",
    "\n",
    "Source:  \n",
    "Stamey, T.A., Kabalin, J.N., McNeal, J.E., Johnstone, I.M., Freiha, F., Redwine, E.A. and Yang, N. (1989)  \n",
    "Prostate specific antigen in the diagnosis and treatment of adenocarcinoma of the prostate: II. radical prostatectomy treated patients, Journal of Urology 141(5), 1076–1083.  \n",
    "https://rafalab.github.io/pages/649/prostate.html  \n",
    "http://www.stat.cmu.edu/~ryantibs/statcomp-F15/lectures/getting-data.html  "
   ]
  },
  {
   "cell_type": "markdown",
   "metadata": {},
   "source": [
    "For more information on the [Gleason score](http://en.wikipedia.org/wiki/Gleason_Grading_System).\n",
    "\n",
    "<table>\n",
    "<tr><td><b>Variable</b></td><td><b>Description</b></td></tr>\n",
    "<tr><td>lcavol</td><td>(log) Cancer Volume</td></tr>\n",
    "<tr><td>lweight</td><td>(log) Weight</td></tr>\n",
    "<tr><td>age</td><td>Patient age</td></tr>\n",
    "<tr><td>lbph</td><td>(log) Vening Prostatic Hyperplasia</td></tr>\n",
    "<tr><td>svi</td><td>Seminal Vesicle Invasion</td></tr>\n",
    "<tr><td>lcp</td><td>(log) Capsular Penetration</td></tr>\n",
    "<tr><td>gleason</td><td>Gleason score</td></tr>\n",
    "<tr><td>pgg45</td><td>Percent of Gleason score 4 or 5</td></tr>\n",
    "<tr><td>lpsa</td><td>(log) Prostate Specific Antigen</td></tr>\n",
    "<tr><td>train</td><td>Label for test / training split</td></tr>\n",
    "</table>\n"
   ]
  },
  {
   "cell_type": "code",
   "execution_count": 3,
   "metadata": {
    "collapsed": true
   },
   "outputs": [],
   "source": [
    "url = \"http://statweb.stanford.edu/~tibs/ElemStatLearn/datasets/prostate.data\""
   ]
  },
  {
   "cell_type": "code",
   "execution_count": 4,
   "metadata": {
    "collapsed": false
   },
   "outputs": [
    {
     "name": "stderr",
     "output_type": "stream",
     "text": [
      "/home/doojung/anaconda3/lib/python3.6/site-packages/ipykernel/__main__.py:1: FutureWarning: read_table is deprecated, use read_csv instead, passing sep='\\t'.\n",
      "  if __name__ == '__main__':\n"
     ]
    },
    {
     "data": {
      "text/html": [
       "<div>\n",
       "<style scoped>\n",
       "    .dataframe tbody tr th:only-of-type {\n",
       "        vertical-align: middle;\n",
       "    }\n",
       "\n",
       "    .dataframe tbody tr th {\n",
       "        vertical-align: top;\n",
       "    }\n",
       "\n",
       "    .dataframe thead th {\n",
       "        text-align: right;\n",
       "    }\n",
       "</style>\n",
       "<table border=\"1\" class=\"dataframe\">\n",
       "  <thead>\n",
       "    <tr style=\"text-align: right;\">\n",
       "      <th></th>\n",
       "      <th>lcavol</th>\n",
       "      <th>lweight</th>\n",
       "      <th>age</th>\n",
       "      <th>lbph</th>\n",
       "      <th>svi</th>\n",
       "      <th>lcp</th>\n",
       "      <th>gleason</th>\n",
       "      <th>pgg45</th>\n",
       "      <th>lpsa</th>\n",
       "      <th>train</th>\n",
       "    </tr>\n",
       "  </thead>\n",
       "  <tbody>\n",
       "    <tr>\n",
       "      <th>1</th>\n",
       "      <td>-0.579818</td>\n",
       "      <td>2.769459</td>\n",
       "      <td>50</td>\n",
       "      <td>-1.386294</td>\n",
       "      <td>0</td>\n",
       "      <td>-1.386294</td>\n",
       "      <td>6</td>\n",
       "      <td>0</td>\n",
       "      <td>-0.430783</td>\n",
       "      <td>T</td>\n",
       "    </tr>\n",
       "    <tr>\n",
       "      <th>2</th>\n",
       "      <td>-0.994252</td>\n",
       "      <td>3.319626</td>\n",
       "      <td>58</td>\n",
       "      <td>-1.386294</td>\n",
       "      <td>0</td>\n",
       "      <td>-1.386294</td>\n",
       "      <td>6</td>\n",
       "      <td>0</td>\n",
       "      <td>-0.162519</td>\n",
       "      <td>T</td>\n",
       "    </tr>\n",
       "    <tr>\n",
       "      <th>3</th>\n",
       "      <td>-0.510826</td>\n",
       "      <td>2.691243</td>\n",
       "      <td>74</td>\n",
       "      <td>-1.386294</td>\n",
       "      <td>0</td>\n",
       "      <td>-1.386294</td>\n",
       "      <td>7</td>\n",
       "      <td>20</td>\n",
       "      <td>-0.162519</td>\n",
       "      <td>T</td>\n",
       "    </tr>\n",
       "    <tr>\n",
       "      <th>4</th>\n",
       "      <td>-1.203973</td>\n",
       "      <td>3.282789</td>\n",
       "      <td>58</td>\n",
       "      <td>-1.386294</td>\n",
       "      <td>0</td>\n",
       "      <td>-1.386294</td>\n",
       "      <td>6</td>\n",
       "      <td>0</td>\n",
       "      <td>-0.162519</td>\n",
       "      <td>T</td>\n",
       "    </tr>\n",
       "    <tr>\n",
       "      <th>5</th>\n",
       "      <td>0.751416</td>\n",
       "      <td>3.432373</td>\n",
       "      <td>62</td>\n",
       "      <td>-1.386294</td>\n",
       "      <td>0</td>\n",
       "      <td>-1.386294</td>\n",
       "      <td>6</td>\n",
       "      <td>0</td>\n",
       "      <td>0.371564</td>\n",
       "      <td>T</td>\n",
       "    </tr>\n",
       "  </tbody>\n",
       "</table>\n",
       "</div>"
      ],
      "text/plain": [
       "     lcavol   lweight  age      lbph  svi       lcp  gleason  pgg45      lpsa  \\\n",
       "1 -0.579818  2.769459   50 -1.386294    0 -1.386294        6      0 -0.430783   \n",
       "2 -0.994252  3.319626   58 -1.386294    0 -1.386294        6      0 -0.162519   \n",
       "3 -0.510826  2.691243   74 -1.386294    0 -1.386294        7     20 -0.162519   \n",
       "4 -1.203973  3.282789   58 -1.386294    0 -1.386294        6      0 -0.162519   \n",
       "5  0.751416  3.432373   62 -1.386294    0 -1.386294        6      0  0.371564   \n",
       "\n",
       "  train  \n",
       "1     T  \n",
       "2     T  \n",
       "3     T  \n",
       "4     T  \n",
       "5     T  "
      ]
     },
     "execution_count": 4,
     "metadata": {},
     "output_type": "execute_result"
    }
   ],
   "source": [
    "data = pd.read_table(url, index_col=0)\n",
    "data.head()"
   ]
  },
  {
   "cell_type": "code",
   "execution_count": 5,
   "metadata": {
    "collapsed": false
   },
   "outputs": [
    {
     "data": {
      "text/plain": [
       "(97, 10)"
      ]
     },
     "execution_count": 5,
     "metadata": {},
     "output_type": "execute_result"
    }
   ],
   "source": [
    "data.shape"
   ]
  },
  {
   "cell_type": "code",
   "execution_count": 6,
   "metadata": {
    "collapsed": false
   },
   "outputs": [
    {
     "data": {
      "text/plain": [
       "(67, 10)"
      ]
     },
     "execution_count": 6,
     "metadata": {},
     "output_type": "execute_result"
    }
   ],
   "source": [
    "# the number of training set\n",
    "data[data[\"train\"]==\"T\"].shape"
   ]
  },
  {
   "cell_type": "code",
   "execution_count": 7,
   "metadata": {
    "collapsed": false
   },
   "outputs": [
    {
     "data": {
      "text/plain": [
       "(30, 10)"
      ]
     },
     "execution_count": 7,
     "metadata": {},
     "output_type": "execute_result"
    }
   ],
   "source": [
    "# the number of test set\n",
    "data[data[\"train\"]==\"F\"].shape"
   ]
  },
  {
   "cell_type": "code",
   "execution_count": 8,
   "metadata": {
    "collapsed": false
   },
   "outputs": [
    {
     "data": {
      "image/png": "[encoded data removed]",
      "text/plain": [
       "<matplotlib.figure.Figure at 0x7fbac6922748>"
      ]
     },
     "metadata": {},
     "output_type": "display_data"
    }
   ],
   "source": [
    "sns.pairplot(data)\n",
    "plt.show()"
   ]
  },
  {
   "cell_type": "markdown",
   "metadata": {},
   "source": [
    "## Specifying the model\n",
    "\n",
    "- We will use variables `lcavol, lweight, age, lbph, svi, lcp` and `pgg45` to predict `lpsa`.\n",
    "\n",
    "-   Rather than one predictor, we have $p=7$ predictors.\n",
    "\n",
    "### Model\n",
    "\n",
    "-   $$Y_i = \\beta_0 + \\beta_1 X_{i1} + \\dots + \\beta_p X_{ip} + \\varepsilon_i$$\n",
    "\n",
    "-   Errors $\\varepsilon$ are assumed independent $N(0,\\sigma^2)$, as in\n",
    "    simple linear regression.\n",
    "\n",
    "-   Coefficients are called (partial) regression coefficients because\n",
    "    they â€œallowâ€ for the effect of other variables."
   ]
  },
  {
   "cell_type": "markdown",
   "metadata": {},
   "source": [
    "   Just as in simple linear regression, model is fit by minimizing\n",
    "    $$\\begin{aligned}\n",
    "       SSE(\\beta_0, \\dots, \\beta_p) &= \\sum_{i=1}^n\\left(Y_i - \\left(\\beta_0 + \\sum_{j=1}^p \\beta_j \\\n",
    "X_{ij} \\right) \\right)^2 \\\\\n",
    "       &= \\|Y - \\widehat{Y}(\\beta)\\|^2\n",
    "       \\end{aligned}$$\n",
    "\n",
    "-   Minimizers:\n",
    "    $\\widehat{\\beta} = (\\widehat{\\beta}_0, \\dots, \\widehat{\\beta}_p)$\n",
    "    are the â€œleast squares estimatesâ€: are also normally distributed as\n",
    "    in simple linear regression.\n"
   ]
  },
  {
   "cell_type": "code",
   "execution_count": 9,
   "metadata": {
    "collapsed": false
   },
   "outputs": [],
   "source": [
    "formula = 'lpsa ~ lcavol + lweight + age + lbph + svi + lcp + pgg45'"
   ]
  },
  {
   "cell_type": "code",
   "execution_count": 10,
   "metadata": {
    "collapsed": false
   },
   "outputs": [
    {
     "data": {
      "text/html": [
       "<table class=\"simpletable\">\n",
       "<caption>OLS Regression Results</caption>\n",
       "<tr>\n",
       "  <th>Dep. Variable:</th>          <td>lpsa</td>       <th>  R-squared:         </th> <td>   0.663</td>\n",
       "</tr>\n",
       "<tr>\n",
       "  <th>Model:</th>                   <td>OLS</td>       <th>  Adj. R-squared:    </th> <td>   0.637</td>\n",
       "</tr>\n",
       "<tr>\n",
       "  <th>Method:</th>             <td>Least Squares</td>  <th>  F-statistic:       </th> <td>   25.01</td>\n",
       "</tr>\n",
       "<tr>\n",
       "  <th>Date:</th>             <td>Tue, 11 Jun 2019</td> <th>  Prob (F-statistic):</th> <td>1.54e-18</td>\n",
       "</tr>\n",
       "<tr>\n",
       "  <th>Time:</th>                 <td>13:53:06</td>     <th>  Log-Likelihood:    </th> <td> -98.303</td>\n",
       "</tr>\n",
       "<tr>\n",
       "  <th>No. Observations:</th>      <td>    97</td>      <th>  AIC:               </th> <td>   212.6</td>\n",
       "</tr>\n",
       "<tr>\n",
       "  <th>Df Residuals:</th>          <td>    89</td>      <th>  BIC:               </th> <td>   233.2</td>\n",
       "</tr>\n",
       "<tr>\n",
       "  <th>Df Model:</th>              <td>     7</td>      <th>                     </th>     <td> </td>   \n",
       "</tr>\n",
       "<tr>\n",
       "  <th>Covariance Type:</th>      <td>nonrobust</td>    <th>                     </th>     <td> </td>   \n",
       "</tr>\n",
       "</table>\n",
       "<table class=\"simpletable\">\n",
       "<tr>\n",
       "      <td></td>         <th>coef</th>     <th>std err</th>      <th>t</th>      <th>P>|t|</th>  <th>[0.025</th>    <th>0.975]</th>  \n",
       "</tr>\n",
       "<tr>\n",
       "  <th>Intercept</th> <td>    0.4942</td> <td>    0.874</td> <td>    0.566</td> <td> 0.573</td> <td>   -1.242</td> <td>    2.230</td>\n",
       "</tr>\n",
       "<tr>\n",
       "  <th>lcavol</th>    <td>    0.5695</td> <td>    0.086</td> <td>    6.634</td> <td> 0.000</td> <td>    0.399</td> <td>    0.740</td>\n",
       "</tr>\n",
       "<tr>\n",
       "  <th>lweight</th>   <td>    0.6144</td> <td>    0.198</td> <td>    3.096</td> <td> 0.003</td> <td>    0.220</td> <td>    1.009</td>\n",
       "</tr>\n",
       "<tr>\n",
       "  <th>age</th>       <td>   -0.0209</td> <td>    0.011</td> <td>   -1.905</td> <td> 0.060</td> <td>   -0.043</td> <td>    0.001</td>\n",
       "</tr>\n",
       "<tr>\n",
       "  <th>lbph</th>      <td>    0.0974</td> <td>    0.058</td> <td>    1.691</td> <td> 0.094</td> <td>   -0.017</td> <td>    0.212</td>\n",
       "</tr>\n",
       "<tr>\n",
       "  <th>svi</th>       <td>    0.7524</td> <td>    0.238</td> <td>    3.159</td> <td> 0.002</td> <td>    0.279</td> <td>    1.226</td>\n",
       "</tr>\n",
       "<tr>\n",
       "  <th>lcp</th>       <td>   -0.1050</td> <td>    0.089</td> <td>   -1.175</td> <td> 0.243</td> <td>   -0.282</td> <td>    0.073</td>\n",
       "</tr>\n",
       "<tr>\n",
       "  <th>pgg45</th>     <td>    0.0053</td> <td>    0.003</td> <td>    1.573</td> <td> 0.119</td> <td>   -0.001</td> <td>    0.012</td>\n",
       "</tr>\n",
       "</table>\n",
       "<table class=\"simpletable\">\n",
       "<tr>\n",
       "  <th>Omnibus:</th>       <td> 0.550</td> <th>  Durbin-Watson:     </th> <td>   1.543</td>\n",
       "</tr>\n",
       "<tr>\n",
       "  <th>Prob(Omnibus):</th> <td> 0.759</td> <th>  Jarque-Bera (JB):  </th> <td>   0.175</td>\n",
       "</tr>\n",
       "<tr>\n",
       "  <th>Skew:</th>          <td> 0.018</td> <th>  Prob(JB):          </th> <td>   0.916</td>\n",
       "</tr>\n",
       "<tr>\n",
       "  <th>Kurtosis:</th>      <td> 3.205</td> <th>  Cond. No.          </th> <td>    875.</td>\n",
       "</tr>\n",
       "</table><br/><br/>Warnings:<br/>[1] Standard Errors assume that the covariance matrix of the errors is correctly specified."
      ],
      "text/plain": [
       "<class 'statsmodels.iolib.summary.Summary'>\n",
       "\"\"\"\n",
       "                            OLS Regression Results                            \n",
       "==============================================================================\n",
       "Dep. Variable:                   lpsa   R-squared:                       0.663\n",
       "Model:                            OLS   Adj. R-squared:                  0.637\n",
       "Method:                 Least Squares   F-statistic:                     25.01\n",
       "Date:                Tue, 11 Jun 2019   Prob (F-statistic):           1.54e-18\n",
       "Time:                        13:53:06   Log-Likelihood:                -98.303\n",
       "No. Observations:                  97   AIC:                             212.6\n",
       "Df Residuals:                      89   BIC:                             233.2\n",
       "Df Model:                           7                                         \n",
       "Covariance Type:            nonrobust                                         \n",
       "==============================================================================\n",
       "                 coef    std err          t      P>|t|      [0.025      0.975]\n",
       "------------------------------------------------------------------------------\n",
       "Intercept      0.4942      0.874      0.566      0.573      -1.242       2.230\n",
       "lcavol         0.5695      0.086      6.634      0.000       0.399       0.740\n",
       "lweight        0.6144      0.198      3.096      0.003       0.220       1.009\n",
       "age           -0.0209      0.011     -1.905      0.060      -0.043       0.001\n",
       "lbph           0.0974      0.058      1.691      0.094      -0.017       0.212\n",
       "svi            0.7524      0.238      3.159      0.002       0.279       1.226\n",
       "lcp           -0.1050      0.089     -1.175      0.243      -0.282       0.073\n",
       "pgg45          0.0053      0.003      1.573      0.119      -0.001       0.012\n",
       "==============================================================================\n",
       "Omnibus:                        0.550   Durbin-Watson:                   1.543\n",
       "Prob(Omnibus):                  0.759   Jarque-Bera (JB):                0.175\n",
       "Skew:                           0.018   Prob(JB):                        0.916\n",
       "Kurtosis:                       3.205   Cond. No.                         875.\n",
       "==============================================================================\n",
       "\n",
       "Warnings:\n",
       "[1] Standard Errors assume that the covariance matrix of the errors is correctly specified.\n",
       "\"\"\""
      ]
     },
     "execution_count": 10,
     "metadata": {},
     "output_type": "execute_result"
    }
   ],
   "source": [
    "prostate_res = ols(formula, data=data).fit()\n",
    "prostate_res.summary()"
   ]
  },
  {
   "cell_type": "code",
   "execution_count": 11,
   "metadata": {
    "collapsed": false,
    "scrolled": true
   },
   "outputs": [
    {
     "name": "stdout",
     "output_type": "stream",
     "text": [
      "HC0_se\n",
      "HC1_se\n",
      "HC2_se\n",
      "HC3_se\n",
      "aic\n",
      "bic\n",
      "bse\n",
      "centered_tss\n",
      "compare_f_test\n",
      "compare_lm_test\n",
      "compare_lr_test\n",
      "condition_number\n",
      "conf_int\n",
      "conf_int_el\n",
      "cov_HC0\n",
      "cov_HC1\n",
      "cov_HC2\n",
      "cov_HC3\n",
      "cov_kwds\n",
      "cov_params\n",
      "cov_type\n",
      "df_model\n",
      "df_resid\n",
      "diagn\n",
      "eigenvals\n",
      "el_test\n",
      "ess\n",
      "f_pvalue\n",
      "f_test\n",
      "fittedvalues\n",
      "fvalue\n",
      "get_influence\n",
      "get_prediction\n",
      "get_robustcov_results\n",
      "initialize\n",
      "k_constant\n",
      "llf\n",
      "load\n",
      "model\n",
      "mse_model\n",
      "mse_resid\n",
      "mse_total\n",
      "nobs\n",
      "normalized_cov_params\n",
      "outlier_test\n",
      "params\n",
      "predict\n",
      "pvalues\n",
      "remove_data\n",
      "resid\n",
      "resid_pearson\n",
      "rsquared\n",
      "rsquared_adj\n",
      "save\n",
      "scale\n",
      "ssr\n",
      "summary\n",
      "summary2\n",
      "t_test\n",
      "t_test_pairwise\n",
      "tvalues\n",
      "uncentered_tss\n",
      "use_t\n",
      "wald_test\n",
      "wald_test_terms\n",
      "wresid\n"
     ]
    }
   ],
   "source": [
    "for attr in dir(prostate_res):\n",
    "    if not attr.startswith('_'):\n",
    "        print(attr)"
   ]
  },
  {
   "cell_type": "markdown",
   "metadata": {},
   "source": [
    "## Estimating $\\sigma^2$\n",
    "\n",
    "-   As in simple regression\n",
    "    $$\\widehat{\\sigma}^2 = \\frac{SSE}{n-p-1} \\sim \\sigma^2 \\cdot \\frac{\\chi^2_{n-p-1}}{n-p\\\n",
    "-1}$$\n",
    "    independent of $\\widehat{\\beta}$.\n",
    "\n",
    "-   Why $\\chi^2_{n-p-1}$? Typically, the degrees of freedom in the\n",
    "    estimate of $\\sigma^2$ is\n",
    "    $n-\\# \\text{number of parameters in regression function}$.\n",
    "\n"
   ]
  },
  {
   "cell_type": "code",
   "execution_count": 12,
   "metadata": {
    "collapsed": false
   },
   "outputs": [
    {
     "name": "stdout",
     "output_type": "stream",
     "text": [
      "Residual degrees of freedom:  89.0\n",
      "sigma_hat                  :  0.6959558777863034\n"
     ]
    }
   ],
   "source": [
    "# residual degrees of freedom\n",
    "# n-p-1 if a constant is present\n",
    "print(\"Residual degrees of freedom: \",prostate_res.df_resid)\n",
    "\n",
    "# sigma_hat\n",
    "sigma_hat = np.sqrt((prostate_res.resid**2).sum() / prostate_res.df_resid)\n",
    "print(\"sigma_hat                  : \",sigma_hat)"
   ]
  },
  {
   "cell_type": "markdown",
   "metadata": {},
   "source": [
    "## Interpretation of $\\beta_j$'s\n",
    "\n",
    "- Take $\\beta_1=\\beta_{\\tt{lcavol}}$ for example. This is the amount the average `lpsa` rating increases for one **unit** of increase in `lcavol`, keeping everything else constant.\n",
    "\n",
    "- We refer to this as the effect of `lcavol` *allowing for* or *controlling for* the other variables.\n",
    "    \n",
    "- For example, let's take the 10th case in our data and change `lcavol` by 1 unit."
   ]
  },
  {
   "cell_type": "code",
   "execution_count": 13,
   "metadata": {
    "collapsed": false
   },
   "outputs": [
    {
     "data": {
      "text/plain": [
       "lcavol     0.223144\n",
       "lweight     3.24454\n",
       "age              63\n",
       "lbph       -1.38629\n",
       "svi               0\n",
       "lcp        -1.38629\n",
       "gleason           6\n",
       "pgg45             0\n",
       "lpsa        1.04732\n",
       "train             F\n",
       "Name: 10, dtype: object"
      ]
     },
     "execution_count": 13,
     "metadata": {},
     "output_type": "execute_result"
    }
   ],
   "source": [
    "data.loc[10,:]"
   ]
  },
  {
   "cell_type": "code",
   "execution_count": 14,
   "metadata": {
    "collapsed": false
   },
   "outputs": [],
   "source": [
    "test_beta_df = pd.concat([data.loc[[10],:]]*2).reset_index(drop=True)"
   ]
  },
  {
   "cell_type": "code",
   "execution_count": 15,
   "metadata": {
    "collapsed": false
   },
   "outputs": [],
   "source": [
    "test_beta_df.loc[1,'lcavol']+=1"
   ]
  },
  {
   "cell_type": "code",
   "execution_count": 16,
   "metadata": {
    "collapsed": false
   },
   "outputs": [
    {
     "data": {
      "text/html": [
       "<div>\n",
       "<style scoped>\n",
       "    .dataframe tbody tr th:only-of-type {\n",
       "        vertical-align: middle;\n",
       "    }\n",
       "\n",
       "    .dataframe tbody tr th {\n",
       "        vertical-align: top;\n",
       "    }\n",
       "\n",
       "    .dataframe thead th {\n",
       "        text-align: right;\n",
       "    }\n",
       "</style>\n",
       "<table border=\"1\" class=\"dataframe\">\n",
       "  <thead>\n",
       "    <tr style=\"text-align: right;\">\n",
       "      <th></th>\n",
       "      <th>lcavol</th>\n",
       "      <th>lweight</th>\n",
       "      <th>age</th>\n",
       "      <th>lbph</th>\n",
       "      <th>svi</th>\n",
       "      <th>lcp</th>\n",
       "      <th>gleason</th>\n",
       "      <th>pgg45</th>\n",
       "      <th>lpsa</th>\n",
       "      <th>train</th>\n",
       "    </tr>\n",
       "  </thead>\n",
       "  <tbody>\n",
       "    <tr>\n",
       "      <th>0</th>\n",
       "      <td>0.223144</td>\n",
       "      <td>3.244544</td>\n",
       "      <td>63</td>\n",
       "      <td>-1.386294</td>\n",
       "      <td>0</td>\n",
       "      <td>-1.386294</td>\n",
       "      <td>6</td>\n",
       "      <td>0</td>\n",
       "      <td>1.047319</td>\n",
       "      <td>F</td>\n",
       "    </tr>\n",
       "    <tr>\n",
       "      <th>1</th>\n",
       "      <td>1.223144</td>\n",
       "      <td>3.244544</td>\n",
       "      <td>63</td>\n",
       "      <td>-1.386294</td>\n",
       "      <td>0</td>\n",
       "      <td>-1.386294</td>\n",
       "      <td>6</td>\n",
       "      <td>0</td>\n",
       "      <td>1.047319</td>\n",
       "      <td>F</td>\n",
       "    </tr>\n",
       "  </tbody>\n",
       "</table>\n",
       "</div>"
      ],
      "text/plain": [
       "     lcavol   lweight  age      lbph  svi       lcp  gleason  pgg45      lpsa  \\\n",
       "0  0.223144  3.244544   63 -1.386294    0 -1.386294        6      0  1.047319   \n",
       "1  1.223144  3.244544   63 -1.386294    0 -1.386294        6      0  1.047319   \n",
       "\n",
       "  train  \n",
       "0     F  \n",
       "1     F  "
      ]
     },
     "execution_count": 16,
     "metadata": {},
     "output_type": "execute_result"
    }
   ],
   "source": [
    "test_beta_df"
   ]
  },
  {
   "cell_type": "code",
   "execution_count": 17,
   "metadata": {
    "collapsed": false
   },
   "outputs": [
    {
     "data": {
      "text/plain": [
       "0    1.307754\n",
       "1    1.877300\n",
       "dtype: float64"
      ]
     },
     "execution_count": 17,
     "metadata": {},
     "output_type": "execute_result"
    }
   ],
   "source": [
    "Y_hat = prostate_res.predict(exog=test_beta_df)\n",
    "Y_hat"
   ]
  },
  {
   "cell_type": "code",
   "execution_count": 18,
   "metadata": {
    "collapsed": false
   },
   "outputs": [
    {
     "name": "stdout",
     "output_type": "stream",
     "text": [
      "0.5695460324644492\n"
     ]
    }
   ],
   "source": [
    "print(Y_hat[1]-Y_hat[0])"
   ]
  },
  {
   "cell_type": "markdown",
   "metadata": {},
   "source": [
    "same as beta estimate for lcavol"
   ]
  },
  {
   "cell_type": "code",
   "execution_count": 19,
   "metadata": {
    "collapsed": false
   },
   "outputs": [
    {
     "name": "stdout",
     "output_type": "stream",
     "text": [
      "0.5695460324644493\n"
     ]
    }
   ],
   "source": [
    "print(prostate_res.params['lcavol'])"
   ]
  },
  {
   "cell_type": "markdown",
   "metadata": {
    "collapsed": true
   },
   "source": [
    "## Partial regression coefficients\n",
    "\n",
    "-   The term *partial* refers to the fact that the coefficient $\\beta_j$\n",
    "    represent the partial effect of ${X}_j$ on ${Y}$, i.e. after\n",
    "    the effect of all other variables have been removed.\n",
    "\n",
    "-   Specifically,\n",
    "    $$Y_i - \\sum_{l=1, l \\neq j}^k X_{il} \\beta_l = \\beta_0 + \\beta_j X_{ij} + \\varepsilon_i.$$\n",
    "\n",
    "-   Let $e_{i,(j)}$ be the residuals from regressing ${Y}$ onto all\n",
    "    ${X}_{\\cdot}$â€™s except ${X}_j$, and let $X_{i,(j)}$ be the\n",
    "    residuals from regressing ${X}_j$ onto all ${X}_{\\cdot}$â€™s\n",
    "    except ${X}_j$, and let $X_{i,(j)}$.\n",
    "\n",
    "-   If we regress $e_{i,(j)}$ against $X_{i,(j)}$, the coefficient is\n",
    "    *exactly* the same as in the original model."
   ]
  },
  {
   "cell_type": "code",
   "execution_count": 20,
   "metadata": {
    "collapsed": true
   },
   "outputs": [],
   "source": [
    "formula_lcavol = 'lcavol ~ lweight + age + lbph + svi + lcp + pgg45'\n",
    "formula_lpsa   = 'lpsa   ~ lweight + age + lbph + svi + lcp + pgg45'"
   ]
  },
  {
   "cell_type": "code",
   "execution_count": 21,
   "metadata": {
    "collapsed": false
   },
   "outputs": [],
   "source": [
    "d={}\n",
    "d['partial_resid_lcavol'] = ols(formula_lcavol, data=data).fit().resid\n",
    "d['partial_resid_lpsa'] = ols(formula_lpsa, data=data).fit().resid"
   ]
  },
  {
   "cell_type": "code",
   "execution_count": 22,
   "metadata": {
    "collapsed": false,
    "scrolled": true
   },
   "outputs": [
    {
     "data": {
      "text/html": [
       "<div>\n",
       "<style scoped>\n",
       "    .dataframe tbody tr th:only-of-type {\n",
       "        vertical-align: middle;\n",
       "    }\n",
       "\n",
       "    .dataframe tbody tr th {\n",
       "        vertical-align: top;\n",
       "    }\n",
       "\n",
       "    .dataframe thead th {\n",
       "        text-align: right;\n",
       "    }\n",
       "</style>\n",
       "<table border=\"1\" class=\"dataframe\">\n",
       "  <thead>\n",
       "    <tr style=\"text-align: right;\">\n",
       "      <th></th>\n",
       "      <th>partial_resid_lcavol</th>\n",
       "      <th>partial_resid_lpsa</th>\n",
       "    </tr>\n",
       "  </thead>\n",
       "  <tbody>\n",
       "    <tr>\n",
       "      <th>1</th>\n",
       "      <td>-0.755936</td>\n",
       "      <td>-1.691727</td>\n",
       "    </tr>\n",
       "    <tr>\n",
       "      <th>2</th>\n",
       "      <td>-1.555857</td>\n",
       "      <td>-1.813741</td>\n",
       "    </tr>\n",
       "    <tr>\n",
       "      <th>3</th>\n",
       "      <td>-1.057639</td>\n",
       "      <td>-1.191100</td>\n",
       "    </tr>\n",
       "    <tr>\n",
       "      <th>4</th>\n",
       "      <td>-1.749243</td>\n",
       "      <td>-1.781805</td>\n",
       "    </tr>\n",
       "    <tr>\n",
       "      <th>5</th>\n",
       "      <td>0.069052</td>\n",
       "      <td>-1.334057</td>\n",
       "    </tr>\n",
       "  </tbody>\n",
       "</table>\n",
       "</div>"
      ],
      "text/plain": [
       "   partial_resid_lcavol  partial_resid_lpsa\n",
       "1             -0.755936           -1.691727\n",
       "2             -1.555857           -1.813741\n",
       "3             -1.057639           -1.191100\n",
       "4             -1.749243           -1.781805\n",
       "5              0.069052           -1.334057"
      ]
     },
     "execution_count": 22,
     "metadata": {},
     "output_type": "execute_result"
    }
   ],
   "source": [
    "formula_partial_resid = 'partial_resid_lcavol ~ partial_resid_lpsa'\n",
    "partial_resid = pd.DataFrame(d)\n",
    "partial_resid.head()"
   ]
  },
  {
   "cell_type": "code",
   "execution_count": 23,
   "metadata": {
    "collapsed": false
   },
   "outputs": [
    {
     "data": {
      "text/html": [
       "<table class=\"simpletable\">\n",
       "<caption>OLS Regression Results</caption>\n",
       "<tr>\n",
       "  <th>Dep. Variable:</th>    <td>partial_resid_lcavol</td> <th>  R-squared:         </th> <td>   0.331</td>\n",
       "</tr>\n",
       "<tr>\n",
       "  <th>Model:</th>                     <td>OLS</td>         <th>  Adj. R-squared:    </th> <td>   0.324</td>\n",
       "</tr>\n",
       "<tr>\n",
       "  <th>Method:</th>               <td>Least Squares</td>    <th>  F-statistic:       </th> <td>   46.98</td>\n",
       "</tr>\n",
       "<tr>\n",
       "  <th>Date:</th>               <td>Tue, 11 Jun 2019</td>   <th>  Prob (F-statistic):</th> <td>7.15e-10</td>\n",
       "</tr>\n",
       "<tr>\n",
       "  <th>Time:</th>                   <td>13:53:07</td>       <th>  Log-Likelihood:    </th> <td> -99.268</td>\n",
       "</tr>\n",
       "<tr>\n",
       "  <th>No. Observations:</th>        <td>    97</td>        <th>  AIC:               </th> <td>   202.5</td>\n",
       "</tr>\n",
       "<tr>\n",
       "  <th>Df Residuals:</th>            <td>    95</td>        <th>  BIC:               </th> <td>   207.7</td>\n",
       "</tr>\n",
       "<tr>\n",
       "  <th>Df Model:</th>                <td>     1</td>        <th>                     </th>     <td> </td>   \n",
       "</tr>\n",
       "<tr>\n",
       "  <th>Covariance Type:</th>        <td>nonrobust</td>      <th>                     </th>     <td> </td>   \n",
       "</tr>\n",
       "</table>\n",
       "<table class=\"simpletable\">\n",
       "<tr>\n",
       "           <td></td>             <th>coef</th>     <th>std err</th>      <th>t</th>      <th>P>|t|</th>  <th>[0.025</th>    <th>0.975]</th>  \n",
       "</tr>\n",
       "<tr>\n",
       "  <th>Intercept</th>          <td> 2.116e-15</td> <td>    0.069</td> <td> 3.06e-14</td> <td> 1.000</td> <td>   -0.137</td> <td>    0.137</td>\n",
       "</tr>\n",
       "<tr>\n",
       "  <th>partial_resid_lpsa</th> <td>    0.5810</td> <td>    0.085</td> <td>    6.854</td> <td> 0.000</td> <td>    0.413</td> <td>    0.749</td>\n",
       "</tr>\n",
       "</table>\n",
       "<table class=\"simpletable\">\n",
       "<tr>\n",
       "  <th>Omnibus:</th>       <td> 0.130</td> <th>  Durbin-Watson:     </th> <td>   2.311</td>\n",
       "</tr>\n",
       "<tr>\n",
       "  <th>Prob(Omnibus):</th> <td> 0.937</td> <th>  Jarque-Bera (JB):  </th> <td>   0.041</td>\n",
       "</tr>\n",
       "<tr>\n",
       "  <th>Skew:</th>          <td>-0.050</td> <th>  Prob(JB):          </th> <td>   0.980</td>\n",
       "</tr>\n",
       "<tr>\n",
       "  <th>Kurtosis:</th>      <td> 2.984</td> <th>  Cond. No.          </th> <td>    1.23</td>\n",
       "</tr>\n",
       "</table><br/><br/>Warnings:<br/>[1] Standard Errors assume that the covariance matrix of the errors is correctly specified."
      ],
      "text/plain": [
       "<class 'statsmodels.iolib.summary.Summary'>\n",
       "\"\"\"\n",
       "                             OLS Regression Results                             \n",
       "================================================================================\n",
       "Dep. Variable:     partial_resid_lcavol   R-squared:                       0.331\n",
       "Model:                              OLS   Adj. R-squared:                  0.324\n",
       "Method:                   Least Squares   F-statistic:                     46.98\n",
       "Date:                  Tue, 11 Jun 2019   Prob (F-statistic):           7.15e-10\n",
       "Time:                          13:53:07   Log-Likelihood:                -99.268\n",
       "No. Observations:                    97   AIC:                             202.5\n",
       "Df Residuals:                        95   BIC:                             207.7\n",
       "Df Model:                             1                                         \n",
       "Covariance Type:              nonrobust                                         \n",
       "======================================================================================\n",
       "                         coef    std err          t      P>|t|      [0.025      0.975]\n",
       "--------------------------------------------------------------------------------------\n",
       "Intercept           2.116e-15      0.069   3.06e-14      1.000      -0.137       0.137\n",
       "partial_resid_lpsa     0.5810      0.085      6.854      0.000       0.413       0.749\n",
       "==============================================================================\n",
       "Omnibus:                        0.130   Durbin-Watson:                   2.311\n",
       "Prob(Omnibus):                  0.937   Jarque-Bera (JB):                0.041\n",
       "Skew:                          -0.050   Prob(JB):                        0.980\n",
       "Kurtosis:                       2.984   Cond. No.                         1.23\n",
       "==============================================================================\n",
       "\n",
       "Warnings:\n",
       "[1] Standard Errors assume that the covariance matrix of the errors is correctly specified.\n",
       "\"\"\""
      ]
     },
     "execution_count": 23,
     "metadata": {},
     "output_type": "execute_result"
    }
   ],
   "source": [
    "ols(formula_partial_resid, data=partial_resid).fit().summary()"
   ]
  },
  {
   "cell_type": "markdown",
   "metadata": {},
   "source": [
    "## Goodness of fit for multiple regression\n",
    "\n",
    "\n",
    "\n",
    "$$\\begin{aligned}\n",
    "   SSE &= \\sum_{i=1}^n(Y_i - \\widehat{Y}_i)^2 \\\\\n",
    "   SSR &= \\sum_{i=1}^n(\\overline{Y} - \\widehat{Y}_i)^2 \\\\\n",
    "   SST &= \\sum_{i=1}^n(Y_i - \\overline{Y})^2 = SSE + SSR \\\\\n",
    "   R^2 &= \\frac{SSR}{SST}\n",
    "   \\end{aligned}$$ \n",
    "   \n",
    "   $R^2$ is called the *multiple correlation\n",
    "coefficient* of the model, or the *coefficient of multiple\n",
    "determination*.\n",
    "\n",
    "\n",
    "The sums of squares and $R^2$ are defined analogously\n",
    "to those in simple linear regression."
   ]
  },
  {
   "cell_type": "code",
   "execution_count": 24,
   "metadata": {
    "collapsed": true
   },
   "outputs": [],
   "source": [
    "Y = data[\"lpsa\"]\n",
    "n = data.shape[0]"
   ]
  },
  {
   "cell_type": "code",
   "execution_count": 25,
   "metadata": {
    "collapsed": false
   },
   "outputs": [
    {
     "name": "stdout",
     "output_type": "stream",
     "text": [
      "MST:  1.332475613388038\n"
     ]
    }
   ],
   "source": [
    "SST = ((Y - np.mean(Y))**2).sum()\n",
    "MST = SST / (n - 1)\n",
    "print(\"MST: \", MST)"
   ]
  },
  {
   "cell_type": "code",
   "execution_count": 26,
   "metadata": {
    "collapsed": false
   },
   "outputs": [
    {
     "name": "stdout",
     "output_type": "stream",
     "text": [
      "['Intercept', 'lcavol', 'lweight', 'age', 'lbph', 'svi', 'lcp', 'pgg45']\n",
      "MSE:  0.48435458382530416\n"
     ]
    }
   ],
   "source": [
    "# MSE = SSE / (N - p - 1) where p = # of IVs, not counting the constant\n",
    "SSE = (prostate_res.resid**2).sum()\n",
    "print(prostate_res.model.exog_names)\n",
    "MSE = SSE / (n - (len(prostate_res.model.exog_names)-1)  -1)\n",
    "print(\"MSE: \", MSE)"
   ]
  },
  {
   "cell_type": "code",
   "execution_count": 27,
   "metadata": {
    "collapsed": false
   },
   "outputs": [
    {
     "name": "stdout",
     "output_type": "stream",
     "text": [
      "MSE:  0.48435458382530416\n"
     ]
    }
   ],
   "source": [
    "# another method\n",
    "SSE = (prostate_res.resid**2).sum()\n",
    "anotherMSE = SSE / prostate_res.df_resid\n",
    "print(\"MSE: \", anotherMSE)"
   ]
  },
  {
   "cell_type": "code",
   "execution_count": 28,
   "metadata": {
    "collapsed": false
   },
   "outputs": [
    {
     "name": "stdout",
     "output_type": "stream",
     "text": [
      "MSR:  12.115728703542798\n"
     ]
    }
   ],
   "source": [
    "# MSR = SSR / p where p = # of IVs, not counting the constant\n",
    "SSR = SST - SSE\n",
    "MSR = SSR / (len(prostate_res.model.exog_names)-1)\n",
    "print(\"MSR: \", MSR)"
   ]
  },
  {
   "cell_type": "code",
   "execution_count": 29,
   "metadata": {
    "collapsed": false
   },
   "outputs": [
    {
     "name": "stdout",
     "output_type": "stream",
     "text": [
      "MSR:  12.115728703542798\n"
     ]
    }
   ],
   "source": [
    "# another method\n",
    "SSR = SST - SSE\n",
    "anotherMSR = SSR / (n - prostate_res.df_resid - 1 )\n",
    "print(\"MSR: \", anotherMSR)"
   ]
  },
  {
   "cell_type": "code",
   "execution_count": 30,
   "metadata": {
    "collapsed": false
   },
   "outputs": [
    {
     "name": "stdout",
     "output_type": "stream",
     "text": [
      "MST:  1.332475613388038\n",
      "MSE:  0.48435458382530416\n",
      "MSR:  12.115728703542796\n"
     ]
    }
   ],
   "source": [
    "# attributes\n",
    "print(\"MST: \", prostate_res.mse_total)\n",
    "print(\"MSE: \", prostate_res.mse_resid)\n",
    "print(\"MSR: \", prostate_res.mse_model)"
   ]
  },
  {
   "cell_type": "code",
   "execution_count": 31,
   "metadata": {
    "collapsed": false
   },
   "outputs": [
    {
     "data": {
      "text/plain": [
       "25.014171658820654"
      ]
     },
     "execution_count": 31,
     "metadata": {},
     "output_type": "execute_result"
    }
   ],
   "source": [
    "# F = MSR/MSE\n",
    "prostate_res.mse_model / prostate_res.mse_resid"
   ]
  },
  {
   "cell_type": "code",
   "execution_count": 32,
   "metadata": {
    "collapsed": false
   },
   "outputs": [
    {
     "data": {
      "text/plain": [
       "25.014171658820658"
      ]
     },
     "execution_count": 32,
     "metadata": {},
     "output_type": "execute_result"
    }
   ],
   "source": [
    "# F = MSR/MSE\n",
    "MSR/MSE"
   ]
  },
  {
   "cell_type": "code",
   "execution_count": 33,
   "metadata": {
    "collapsed": false
   },
   "outputs": [
    {
     "data": {
      "text/plain": [
       "25.014171658820654"
      ]
     },
     "execution_count": 33,
     "metadata": {},
     "output_type": "execute_result"
    }
   ],
   "source": [
    "# F = MSR/MSE\n",
    "prostate_res.fvalue"
   ]
  },
  {
   "cell_type": "markdown",
   "metadata": {},
   "source": [
    "## Adjusted $R^2$\n",
    "\n",
    "-   As we add more and more variables to the model â€“ even random ones,\n",
    "    $R^2$ will increase to 1.\n",
    "\n",
    "-   Adjusted $R^2$ tries to take this into account by replacing sums of\n",
    "    squares by *mean squares*\n",
    "    $$R^2_a = 1 - \\frac{SSE/(n-p-1)}{SST/(n-1)} = 1 - \\frac{MSE}{MST}.$$\n"
   ]
  },
  {
   "cell_type": "code",
   "execution_count": 34,
   "metadata": {
    "collapsed": false
   },
   "outputs": [
    {
     "data": {
      "text/html": [
       "<table class=\"simpletable\">\n",
       "<caption>OLS Regression Results</caption>\n",
       "<tr>\n",
       "  <th>Dep. Variable:</th>          <td>lpsa</td>       <th>  R-squared:         </th> <td>   0.663</td>\n",
       "</tr>\n",
       "<tr>\n",
       "  <th>Model:</th>                   <td>OLS</td>       <th>  Adj. R-squared:    </th> <td>   0.637</td>\n",
       "</tr>\n",
       "<tr>\n",
       "  <th>Method:</th>             <td>Least Squares</td>  <th>  F-statistic:       </th> <td>   25.01</td>\n",
       "</tr>\n",
       "<tr>\n",
       "  <th>Date:</th>             <td>Tue, 11 Jun 2019</td> <th>  Prob (F-statistic):</th> <td>1.54e-18</td>\n",
       "</tr>\n",
       "<tr>\n",
       "  <th>Time:</th>                 <td>13:53:07</td>     <th>  Log-Likelihood:    </th> <td> -98.303</td>\n",
       "</tr>\n",
       "<tr>\n",
       "  <th>No. Observations:</th>      <td>    97</td>      <th>  AIC:               </th> <td>   212.6</td>\n",
       "</tr>\n",
       "<tr>\n",
       "  <th>Df Residuals:</th>          <td>    89</td>      <th>  BIC:               </th> <td>   233.2</td>\n",
       "</tr>\n",
       "<tr>\n",
       "  <th>Df Model:</th>              <td>     7</td>      <th>                     </th>     <td> </td>   \n",
       "</tr>\n",
       "<tr>\n",
       "  <th>Covariance Type:</th>      <td>nonrobust</td>    <th>                     </th>     <td> </td>   \n",
       "</tr>\n",
       "</table>\n",
       "<table class=\"simpletable\">\n",
       "<tr>\n",
       "      <td></td>         <th>coef</th>     <th>std err</th>      <th>t</th>      <th>P>|t|</th>  <th>[0.025</th>    <th>0.975]</th>  \n",
       "</tr>\n",
       "<tr>\n",
       "  <th>Intercept</th> <td>    0.4942</td> <td>    0.874</td> <td>    0.566</td> <td> 0.573</td> <td>   -1.242</td> <td>    2.230</td>\n",
       "</tr>\n",
       "<tr>\n",
       "  <th>lcavol</th>    <td>    0.5695</td> <td>    0.086</td> <td>    6.634</td> <td> 0.000</td> <td>    0.399</td> <td>    0.740</td>\n",
       "</tr>\n",
       "<tr>\n",
       "  <th>lweight</th>   <td>    0.6144</td> <td>    0.198</td> <td>    3.096</td> <td> 0.003</td> <td>    0.220</td> <td>    1.009</td>\n",
       "</tr>\n",
       "<tr>\n",
       "  <th>age</th>       <td>   -0.0209</td> <td>    0.011</td> <td>   -1.905</td> <td> 0.060</td> <td>   -0.043</td> <td>    0.001</td>\n",
       "</tr>\n",
       "<tr>\n",
       "  <th>lbph</th>      <td>    0.0974</td> <td>    0.058</td> <td>    1.691</td> <td> 0.094</td> <td>   -0.017</td> <td>    0.212</td>\n",
       "</tr>\n",
       "<tr>\n",
       "  <th>svi</th>       <td>    0.7524</td> <td>    0.238</td> <td>    3.159</td> <td> 0.002</td> <td>    0.279</td> <td>    1.226</td>\n",
       "</tr>\n",
       "<tr>\n",
       "  <th>lcp</th>       <td>   -0.1050</td> <td>    0.089</td> <td>   -1.175</td> <td> 0.243</td> <td>   -0.282</td> <td>    0.073</td>\n",
       "</tr>\n",
       "<tr>\n",
       "  <th>pgg45</th>     <td>    0.0053</td> <td>    0.003</td> <td>    1.573</td> <td> 0.119</td> <td>   -0.001</td> <td>    0.012</td>\n",
       "</tr>\n",
       "</table>\n",
       "<table class=\"simpletable\">\n",
       "<tr>\n",
       "  <th>Omnibus:</th>       <td> 0.550</td> <th>  Durbin-Watson:     </th> <td>   1.543</td>\n",
       "</tr>\n",
       "<tr>\n",
       "  <th>Prob(Omnibus):</th> <td> 0.759</td> <th>  Jarque-Bera (JB):  </th> <td>   0.175</td>\n",
       "</tr>\n",
       "<tr>\n",
       "  <th>Skew:</th>          <td> 0.018</td> <th>  Prob(JB):          </th> <td>   0.916</td>\n",
       "</tr>\n",
       "<tr>\n",
       "  <th>Kurtosis:</th>      <td> 3.205</td> <th>  Cond. No.          </th> <td>    875.</td>\n",
       "</tr>\n",
       "</table><br/><br/>Warnings:<br/>[1] Standard Errors assume that the covariance matrix of the errors is correctly specified."
      ],
      "text/plain": [
       "<class 'statsmodels.iolib.summary.Summary'>\n",
       "\"\"\"\n",
       "                            OLS Regression Results                            \n",
       "==============================================================================\n",
       "Dep. Variable:                   lpsa   R-squared:                       0.663\n",
       "Model:                            OLS   Adj. R-squared:                  0.637\n",
       "Method:                 Least Squares   F-statistic:                     25.01\n",
       "Date:                Tue, 11 Jun 2019   Prob (F-statistic):           1.54e-18\n",
       "Time:                        13:53:07   Log-Likelihood:                -98.303\n",
       "No. Observations:                  97   AIC:                             212.6\n",
       "Df Residuals:                      89   BIC:                             233.2\n",
       "Df Model:                           7                                         \n",
       "Covariance Type:            nonrobust                                         \n",
       "==============================================================================\n",
       "                 coef    std err          t      P>|t|      [0.025      0.975]\n",
       "------------------------------------------------------------------------------\n",
       "Intercept      0.4942      0.874      0.566      0.573      -1.242       2.230\n",
       "lcavol         0.5695      0.086      6.634      0.000       0.399       0.740\n",
       "lweight        0.6144      0.198      3.096      0.003       0.220       1.009\n",
       "age           -0.0209      0.011     -1.905      0.060      -0.043       0.001\n",
       "lbph           0.0974      0.058      1.691      0.094      -0.017       0.212\n",
       "svi            0.7524      0.238      3.159      0.002       0.279       1.226\n",
       "lcp           -0.1050      0.089     -1.175      0.243      -0.282       0.073\n",
       "pgg45          0.0053      0.003      1.573      0.119      -0.001       0.012\n",
       "==============================================================================\n",
       "Omnibus:                        0.550   Durbin-Watson:                   1.543\n",
       "Prob(Omnibus):                  0.759   Jarque-Bera (JB):                0.175\n",
       "Skew:                           0.018   Prob(JB):                        0.916\n",
       "Kurtosis:                       3.205   Cond. No.                         875.\n",
       "==============================================================================\n",
       "\n",
       "Warnings:\n",
       "[1] Standard Errors assume that the covariance matrix of the errors is correctly specified.\n",
       "\"\"\""
      ]
     },
     "execution_count": 34,
     "metadata": {},
     "output_type": "execute_result"
    }
   ],
   "source": [
    "prostate_res.summary()"
   ]
  },
  {
   "cell_type": "markdown",
   "metadata": {},
   "source": [
    "## Goodness of fit test\n",
    "\n",
    "\n",
    "-   As in simple linear regression, we measure the goodness of fit of\n",
    "    the regression model by\n",
    "    $$F = \\frac{MSR}{MSE} = \\frac{\\|\\overline{Y}\\cdot {1} - \\widehat{{Y}}\\|^2/p}{\\\\\n",
    "\\|Y - \\widehat{{Y}}\\|^2/(n-p-1)}.$$\n",
    "\n",
    "-   Under $H_0:\\beta_1 = \\dots = \\beta_p=0$, $$F \\sim F_{p, n-p-1}$$ so\n",
    "    reject $H_0$ at level $\\alpha$ if $F > F_{p,n-p-1,1-\\alpha}.$\n"
   ]
  },
  {
   "cell_type": "code",
   "execution_count": 35,
   "metadata": {
    "collapsed": false
   },
   "outputs": [
    {
     "name": "stdout",
     "output_type": "stream",
     "text": [
      "F statistics:  25.014171658820658\n"
     ]
    }
   ],
   "source": [
    "F = MSR / MSE\n",
    "print(\"F statistics: \", F)"
   ]
  },
  {
   "cell_type": "markdown",
   "metadata": {},
   "source": [
    "## $F$-test revisited\n",
    "\n",
    "The $F$ test can be thought of as comparing two models:\n",
    "\n",
    "-   *Full (bigger) model :*\n",
    "\n",
    "    $$Y_i = \\beta_0 + \\beta_1 X_{i1} + \\dots \\beta_p X_{ip} + \\varepsilon_i$$\n",
    "\n",
    "-   *Reduced (smaller) model:*\n",
    "\n",
    "    $$Y_i = \\beta_0  + \\varepsilon_i$$\n",
    "\n",
    "-   The $F$-statistic has the form\n",
    "    $$F=\\frac{(SSE(R) - SSE(F)) / (df_R - df_F)}{SSE(F) / df_F}.$$\n",
    "\n",
    "- **Note: the smaller model should be nested within the bigger model.**"
   ]
  },
  {
   "cell_type": "markdown",
   "metadata": {},
   "source": [
    "## Matrix formulation\n",
    "\n",
    "\n",
    "$${ Y}_{n \\times 1} = {X}_{n \\times (p + 1)} {\\beta}_{(p+1) \\times 1} + {\\varepsilon}_{n \\times 1}$$\n",
    "\n",
    "-   ${X}$ is called the *design matrix* of the model\n",
    "\n",
    "-   ${\\varepsilon} \\sim N(0, \\sigma^2 I_{n \\times n})$ is\n",
    "    multivariate normal\n",
    "\n",
    "## $SSE$ in matrix form\n",
    "\n",
    "$$SSE(\\beta) = ({Y} - {X} {\\beta})'({Y} - {X} {\\beta}) = \\|Y-X\\beta\\|^2_2$$"
   ]
  },
  {
   "cell_type": "markdown",
   "metadata": {},
   "source": [
    "## Design matrix\n",
    "\n",
    "Design matrix\n",
    "\n",
    "-   The design matrix is the $n \\times (p+1)$ matrix with entries\n",
    "    $$X =\n",
    "       \\begin{pmatrix}\n",
    "       1 & X_{11} & X_{12} & \\dots & X_{1,p} \\\\\n",
    "       \\vdots &   \\vdots & \\ddots & \\vdots \\\\\n",
    "       1 & X_{n1} & X_{n2} &\\dots & X_{n,p} \\\\\n",
    "       \\end{pmatrix}$$\n"
   ]
  },
  {
   "cell_type": "code",
   "execution_count": 36,
   "metadata": {
    "collapsed": false
   },
   "outputs": [
    {
     "name": "stderr",
     "output_type": "stream",
     "text": [
      "/home/doojung/anaconda3/lib/python3.6/site-packages/numpy/core/fromnumeric.py:2389: FutureWarning: Method .ptp is deprecated and will be removed in a future version. Use numpy.ptp instead.\n",
      "  return ptp(axis=axis, out=out, **kwargs)\n"
     ]
    },
    {
     "data": {
      "text/html": [
       "<div>\n",
       "<style scoped>\n",
       "    .dataframe tbody tr th:only-of-type {\n",
       "        vertical-align: middle;\n",
       "    }\n",
       "\n",
       "    .dataframe tbody tr th {\n",
       "        vertical-align: top;\n",
       "    }\n",
       "\n",
       "    .dataframe thead th {\n",
       "        text-align: right;\n",
       "    }\n",
       "</style>\n",
       "<table border=\"1\" class=\"dataframe\">\n",
       "  <thead>\n",
       "    <tr style=\"text-align: right;\">\n",
       "      <th></th>\n",
       "      <th>const</th>\n",
       "      <th>lcavol</th>\n",
       "      <th>lweight</th>\n",
       "      <th>age</th>\n",
       "      <th>lbph</th>\n",
       "      <th>svi</th>\n",
       "      <th>lcp</th>\n",
       "      <th>pgg45</th>\n",
       "    </tr>\n",
       "  </thead>\n",
       "  <tbody>\n",
       "    <tr>\n",
       "      <th>1</th>\n",
       "      <td>1.0</td>\n",
       "      <td>-0.579818</td>\n",
       "      <td>2.769459</td>\n",
       "      <td>50</td>\n",
       "      <td>-1.386294</td>\n",
       "      <td>0</td>\n",
       "      <td>-1.386294</td>\n",
       "      <td>0</td>\n",
       "    </tr>\n",
       "    <tr>\n",
       "      <th>2</th>\n",
       "      <td>1.0</td>\n",
       "      <td>-0.994252</td>\n",
       "      <td>3.319626</td>\n",
       "      <td>58</td>\n",
       "      <td>-1.386294</td>\n",
       "      <td>0</td>\n",
       "      <td>-1.386294</td>\n",
       "      <td>0</td>\n",
       "    </tr>\n",
       "    <tr>\n",
       "      <th>3</th>\n",
       "      <td>1.0</td>\n",
       "      <td>-0.510826</td>\n",
       "      <td>2.691243</td>\n",
       "      <td>74</td>\n",
       "      <td>-1.386294</td>\n",
       "      <td>0</td>\n",
       "      <td>-1.386294</td>\n",
       "      <td>20</td>\n",
       "    </tr>\n",
       "    <tr>\n",
       "      <th>4</th>\n",
       "      <td>1.0</td>\n",
       "      <td>-1.203973</td>\n",
       "      <td>3.282789</td>\n",
       "      <td>58</td>\n",
       "      <td>-1.386294</td>\n",
       "      <td>0</td>\n",
       "      <td>-1.386294</td>\n",
       "      <td>0</td>\n",
       "    </tr>\n",
       "    <tr>\n",
       "      <th>5</th>\n",
       "      <td>1.0</td>\n",
       "      <td>0.751416</td>\n",
       "      <td>3.432373</td>\n",
       "      <td>62</td>\n",
       "      <td>-1.386294</td>\n",
       "      <td>0</td>\n",
       "      <td>-1.386294</td>\n",
       "      <td>0</td>\n",
       "    </tr>\n",
       "  </tbody>\n",
       "</table>\n",
       "</div>"
      ],
      "text/plain": [
       "   const    lcavol   lweight  age      lbph  svi       lcp  pgg45\n",
       "1    1.0 -0.579818  2.769459   50 -1.386294    0 -1.386294      0\n",
       "2    1.0 -0.994252  3.319626   58 -1.386294    0 -1.386294      0\n",
       "3    1.0 -0.510826  2.691243   74 -1.386294    0 -1.386294     20\n",
       "4    1.0 -1.203973  3.282789   58 -1.386294    0 -1.386294      0\n",
       "5    1.0  0.751416  3.432373   62 -1.386294    0 -1.386294      0"
      ]
     },
     "execution_count": 36,
     "metadata": {},
     "output_type": "execute_result"
    }
   ],
   "source": [
    "x = sm.add_constant(data[[\"lcavol\", \"lweight\", \"age\", \"lbph\", \"svi\", \"lcp\" ,\"pgg45\"]])\n",
    "x.head()"
   ]
  },
  {
   "cell_type": "code",
   "execution_count": 37,
   "metadata": {
    "collapsed": false
   },
   "outputs": [
    {
     "data": {
      "text/html": [
       "<div>\n",
       "<style scoped>\n",
       "    .dataframe tbody tr th:only-of-type {\n",
       "        vertical-align: middle;\n",
       "    }\n",
       "\n",
       "    .dataframe tbody tr th {\n",
       "        vertical-align: top;\n",
       "    }\n",
       "\n",
       "    .dataframe thead th {\n",
       "        text-align: right;\n",
       "    }\n",
       "</style>\n",
       "<table border=\"1\" class=\"dataframe\">\n",
       "  <thead>\n",
       "    <tr style=\"text-align: right;\">\n",
       "      <th></th>\n",
       "      <th>Intercept</th>\n",
       "      <th>lcavol</th>\n",
       "      <th>lweight</th>\n",
       "      <th>age</th>\n",
       "      <th>lbph</th>\n",
       "      <th>svi</th>\n",
       "      <th>lcp</th>\n",
       "      <th>pgg45</th>\n",
       "    </tr>\n",
       "  </thead>\n",
       "  <tbody>\n",
       "    <tr>\n",
       "      <th>0</th>\n",
       "      <td>1.0</td>\n",
       "      <td>-0.579818</td>\n",
       "      <td>2.769459</td>\n",
       "      <td>50.0</td>\n",
       "      <td>-1.386294</td>\n",
       "      <td>0.0</td>\n",
       "      <td>-1.386294</td>\n",
       "      <td>0.0</td>\n",
       "    </tr>\n",
       "    <tr>\n",
       "      <th>1</th>\n",
       "      <td>1.0</td>\n",
       "      <td>-0.994252</td>\n",
       "      <td>3.319626</td>\n",
       "      <td>58.0</td>\n",
       "      <td>-1.386294</td>\n",
       "      <td>0.0</td>\n",
       "      <td>-1.386294</td>\n",
       "      <td>0.0</td>\n",
       "    </tr>\n",
       "    <tr>\n",
       "      <th>2</th>\n",
       "      <td>1.0</td>\n",
       "      <td>-0.510826</td>\n",
       "      <td>2.691243</td>\n",
       "      <td>74.0</td>\n",
       "      <td>-1.386294</td>\n",
       "      <td>0.0</td>\n",
       "      <td>-1.386294</td>\n",
       "      <td>20.0</td>\n",
       "    </tr>\n",
       "    <tr>\n",
       "      <th>3</th>\n",
       "      <td>1.0</td>\n",
       "      <td>-1.203973</td>\n",
       "      <td>3.282789</td>\n",
       "      <td>58.0</td>\n",
       "      <td>-1.386294</td>\n",
       "      <td>0.0</td>\n",
       "      <td>-1.386294</td>\n",
       "      <td>0.0</td>\n",
       "    </tr>\n",
       "    <tr>\n",
       "      <th>4</th>\n",
       "      <td>1.0</td>\n",
       "      <td>0.751416</td>\n",
       "      <td>3.432373</td>\n",
       "      <td>62.0</td>\n",
       "      <td>-1.386294</td>\n",
       "      <td>0.0</td>\n",
       "      <td>-1.386294</td>\n",
       "      <td>0.0</td>\n",
       "    </tr>\n",
       "  </tbody>\n",
       "</table>\n",
       "</div>"
      ],
      "text/plain": [
       "   Intercept    lcavol   lweight   age      lbph  svi       lcp  pgg45\n",
       "0        1.0 -0.579818  2.769459  50.0 -1.386294  0.0 -1.386294    0.0\n",
       "1        1.0 -0.994252  3.319626  58.0 -1.386294  0.0 -1.386294    0.0\n",
       "2        1.0 -0.510826  2.691243  74.0 -1.386294  0.0 -1.386294   20.0\n",
       "3        1.0 -1.203973  3.282789  58.0 -1.386294  0.0 -1.386294    0.0\n",
       "4        1.0  0.751416  3.432373  62.0 -1.386294  0.0 -1.386294    0.0"
      ]
     },
     "execution_count": 37,
     "metadata": {},
     "output_type": "execute_result"
    }
   ],
   "source": [
    "df = pd.DataFrame(prostate_res.model.exog, columns = prostate_res.model.exog_names)\n",
    "df.head()"
   ]
  },
  {
   "cell_type": "markdown",
   "metadata": {},
   "source": [
    "## Least squares solution\n",
    "\n",
    "\n",
    "-   Normal equations\n",
    "    $$\\frac{\\partial}{\\partial \\beta_j} SSE \\biggl|_{\\beta = \\widehat{\\beta}_{}} = -2 \\left({Y\\\n",
    "} - {X} \\widehat{\\beta}_{} \\right)^T {X}_j = 0, \\qquad 0 \\leq j \\leq p.$$\n",
    "\n",
    "-   Equivalent to $$\\begin{aligned}\n",
    "       ({Y} - {X}{\\widehat{\\beta}_{}})^T{X} &= 0 \\\\\n",
    "       {\\widehat{\\beta}} &= ({X}^T{X})^{-1}{X}^T{Y}\n",
    "       \\end{aligned}$$\n",
    "\n",
    "-   Properties: $$\\widehat{\\beta} \\sim N(\\beta, \\sigma^2 (X^TX)^{-1}).$$\n",
    "\n",
    "## Multivariate Normal\n",
    "\n",
    "To obtain the distribution of $\\hat{\\beta}$ we used the following fact about the \n",
    "multivariate Normal.\n",
    "\n",
    "** Suppose $Z \\sim N(\\mu,\\Sigma)$. Then, for any fixed matrix $A$\n",
    "$$\n",
    "AZ \\sim N(A\\mu, A\\Sigma A^T).\n",
    "$$**\n",
    "\n",
    "(It goes without saying that the dimensions of the matrix must agree with those of $Z$.)\n",
    "\n",
    "### How did we derive the distribution of $\\hat{\\beta}$?\n",
    "\n",
    "Above, we saw that $\\hat{\\beta}$ is equal to a matrix times $Y$. The matrix form of our\n",
    "model is\n",
    "$$\n",
    "Y \\sim N(X\\beta, \\sigma^2 I).\n",
    "$$\n",
    "\n",
    "Therefore,\n",
    "$$\n",
    "\\begin{aligned}\n",
    "\\hat{\\beta} &\\sim N\\left((X^TX)^{-1}X^T (X\\beta), (X^TX)^{-1}X^T X (\\sigma^2 I) (X^TX)^{-1}\\right) \\\\\n",
    "&\\sim N(\\beta, \\sigma^2 (X^TX)^{-1}).\n",
    "\\end{aligned}\n",
    "$$\n",
    "\n",
    "## Least squares solution\n",
    "\n",
    "Let's verify our equations for $\\hat{\\beta}$.\n"
   ]
  },
  {
   "cell_type": "code",
   "execution_count": 38,
   "metadata": {
    "collapsed": false
   },
   "outputs": [
    {
     "data": {
      "text/plain": [
       "array([ 0.49415475,  0.56954603,  0.61441982, -0.02091347,  0.09735253,\n",
       "        0.75239734, -0.10495941,  0.00532447])"
      ]
     },
     "execution_count": 38,
     "metadata": {},
     "output_type": "execute_result"
    }
   ],
   "source": [
    "beta= np.linalg.inv(x.T.values @ x.values) @ x.T.values @ Y.values\n",
    "beta"
   ]
  },
  {
   "cell_type": "code",
   "execution_count": 39,
   "metadata": {
    "collapsed": false
   },
   "outputs": [
    {
     "data": {
      "text/plain": [
       "const      0.494155\n",
       "lcavol     0.569546\n",
       "lweight    0.614420\n",
       "age       -0.020913\n",
       "lbph       0.097353\n",
       "svi        0.752397\n",
       "lcp       -0.104959\n",
       "pgg45      0.005324\n",
       "dtype: float64"
      ]
     },
     "execution_count": 39,
     "metadata": {},
     "output_type": "execute_result"
    }
   ],
   "source": [
    "pd.Series(index=x.columns, data=beta)"
   ]
  },
  {
   "cell_type": "code",
   "execution_count": 40,
   "metadata": {
    "collapsed": false
   },
   "outputs": [
    {
     "data": {
      "text/plain": [
       "Intercept    0.494155\n",
       "lcavol       0.569546\n",
       "lweight      0.614420\n",
       "age         -0.020913\n",
       "lbph         0.097353\n",
       "svi          0.752397\n",
       "lcp         -0.104959\n",
       "pgg45        0.005324\n",
       "dtype: float64"
      ]
     },
     "execution_count": 40,
     "metadata": {},
     "output_type": "execute_result"
    }
   ],
   "source": [
    "prostate_res.params"
   ]
  },
  {
   "cell_type": "markdown",
   "metadata": {},
   "source": [
    "# Inference for multiple regression\n",
    "\n",
    "## Regression function at one point\n",
    "\n",
    "  One thing one might want to *learn* about the regression function in\n",
    "    the prostate example is something about the regression function at\n",
    "    some fixed values of ${X}_{1}, \\dots, {X}_{7}$, i.e. what\n",
    "    can be said about\n",
    "    $$\n",
    " \\begin{aligned}\n",
    "  \\beta_0 + 1.3 \\cdot \\beta_1  &+ 3.6 \\cdot \\beta_2  + 64 \\cdot \\beta_3 + \\\\\n",
    "    0.1 \\cdot \\beta_4 &+ 0.2 \\cdot \\beta_5 - 0.2 \\cdot \\beta_6 + 25 \\cdot \\beta_7  \n",
    "   \\end{aligned}$$\n",
    "    roughly the regression function at \"typical\" values of the\n",
    "    predictors.\n",
    "\n",
    "   The expression above is equivalent to\n",
    "    $$\\sum_{j=0}^7 a_j \\beta_j, \\qquad a=(1,1.3,3.6,64,0.1,0.2,-0.2,25).$$\n",
    "\n",
    "## Confidence interval for $\\sum_{j=0}^p a_j \\beta_j$\n",
    "\n",
    "-   Suppose we want a $(1-\\alpha)\\cdot 100\\%$ CI for\n",
    "    $\\sum_{j=0}^p a_j\\beta_j$.\n",
    "\n",
    "-   Just as in simple linear regression:\n",
    "\n",
    "    $$\\sum_{j=0}^p a_j \\widehat{\\beta}_j \\pm t_{1-\\alpha/2, n-p-1} \\cdot SE\\left(\\sum_{j=0}^p a_j\\widehat{\\beta}_j\\right).$$\n",
    "\n",
    "`R` will form these coefficients for each coefficient separately when using the `confint` function. These linear combinations are of the form\n",
    "$$\n",
    "a_{\\tt lcavol} = (0,1,0,0,0,0,0,0)\n",
    "$$\n",
    "so that\n",
    "$$\n",
    "a_{\\tt lcavol}^T\\widehat{\\beta} = \\widehat{\\beta}_1 = {\\tt coef(prostate.lm)[2]}\n",
    "$$\n"
   ]
  },
  {
   "cell_type": "code",
   "execution_count": 41,
   "metadata": {
    "collapsed": false
   },
   "outputs": [
    {
     "data": {
      "text/html": [
       "<div>\n",
       "<style scoped>\n",
       "    .dataframe tbody tr th:only-of-type {\n",
       "        vertical-align: middle;\n",
       "    }\n",
       "\n",
       "    .dataframe tbody tr th {\n",
       "        vertical-align: top;\n",
       "    }\n",
       "\n",
       "    .dataframe thead th {\n",
       "        text-align: right;\n",
       "    }\n",
       "</style>\n",
       "<table border=\"1\" class=\"dataframe\">\n",
       "  <thead>\n",
       "    <tr style=\"text-align: right;\">\n",
       "      <th></th>\n",
       "      <th>0</th>\n",
       "      <th>1</th>\n",
       "    </tr>\n",
       "  </thead>\n",
       "  <tbody>\n",
       "    <tr>\n",
       "      <th>Intercept</th>\n",
       "      <td>-0.957849</td>\n",
       "      <td>1.946158</td>\n",
       "    </tr>\n",
       "    <tr>\n",
       "      <th>lcavol</th>\n",
       "      <td>0.426855</td>\n",
       "      <td>0.712237</td>\n",
       "    </tr>\n",
       "    <tr>\n",
       "      <th>lweight</th>\n",
       "      <td>0.284566</td>\n",
       "      <td>0.944274</td>\n",
       "    </tr>\n",
       "    <tr>\n",
       "      <th>age</th>\n",
       "      <td>-0.039160</td>\n",
       "      <td>-0.002667</td>\n",
       "    </tr>\n",
       "    <tr>\n",
       "      <th>lbph</th>\n",
       "      <td>0.001639</td>\n",
       "      <td>0.193066</td>\n",
       "    </tr>\n",
       "    <tr>\n",
       "      <th>svi</th>\n",
       "      <td>0.356505</td>\n",
       "      <td>1.148289</td>\n",
       "    </tr>\n",
       "    <tr>\n",
       "      <th>lcp</th>\n",
       "      <td>-0.253468</td>\n",
       "      <td>0.043549</td>\n",
       "    </tr>\n",
       "    <tr>\n",
       "      <th>pgg45</th>\n",
       "      <td>-0.000301</td>\n",
       "      <td>0.010950</td>\n",
       "    </tr>\n",
       "  </tbody>\n",
       "</table>\n",
       "</div>"
      ],
      "text/plain": [
       "                  0         1\n",
       "Intercept -0.957849  1.946158\n",
       "lcavol     0.426855  0.712237\n",
       "lweight    0.284566  0.944274\n",
       "age       -0.039160 -0.002667\n",
       "lbph       0.001639  0.193066\n",
       "svi        0.356505  1.148289\n",
       "lcp       -0.253468  0.043549\n",
       "pgg45     -0.000301  0.010950"
      ]
     },
     "execution_count": 41,
     "metadata": {},
     "output_type": "execute_result"
    }
   ],
   "source": [
    "prostate_res.conf_int(alpha=0.1)"
   ]
  },
  {
   "cell_type": "code",
   "execution_count": 42,
   "metadata": {
    "collapsed": false,
    "scrolled": true
   },
   "outputs": [
    {
     "data": {
      "text/plain": [
       "array([0.83040395, 0.76509061, 0.42620721, 0.62301173, 1.74494923,\n",
       "       0.84495944, 1.91513456, 2.14581994, 1.25424277, 1.30775437,\n",
       "       1.50480906, 0.88933202, 2.04035798, 1.81353873, 2.0406655 ,\n",
       "       1.88294336, 1.29746916, 2.4855443 , 1.33481413, 1.79137615,\n",
       "       2.02522972, 2.67185652, 1.09198848, 2.5505094 , 1.82508253,\n",
       "       1.99064122, 2.03384757, 1.66902634, 2.05048729, 2.27646096,\n",
       "       2.08518778, 1.88760822, 1.87073212, 1.38875884, 1.09624498,\n",
       "       2.81567824, 1.87438469, 0.96581905, 3.9777076 , 1.76332563,\n",
       "       1.95980021, 2.21989802, 2.11650982, 2.43362729, 2.37714589,\n",
       "       2.53599866, 4.03947215, 2.63880362, 2.74894044, 2.13540199,\n",
       "       2.42445706, 3.05051119, 2.19327402, 3.04887962, 3.25385085,\n",
       "       2.89722801, 1.66040186, 2.33065582, 2.20093476, 2.67365629,\n",
       "       2.37991588, 3.52225802, 2.94236377, 3.72529692, 2.5730524 ,\n",
       "       2.6866122 , 3.01476316, 3.05250804, 1.51618851, 2.94244558,\n",
       "       3.30693108, 2.04624218, 2.79396686, 3.4259757 , 3.64777871,\n",
       "       3.62601759, 3.33140463, 3.40910318, 3.47932126, 3.20093532,\n",
       "       2.08042543, 2.98579174, 3.56340088, 3.31584448, 2.64830695,\n",
       "       3.89158492, 3.03193975, 2.99944202, 4.31099941, 3.22265678,\n",
       "       3.4518481 , 4.02961477, 3.86391664, 4.74729187, 3.56134111,\n",
       "       4.19905871, 4.08853371])"
      ]
     },
     "execution_count": 42,
     "metadata": {},
     "output_type": "execute_result"
    }
   ],
   "source": [
    "prostate_res.predict()"
   ]
  },
  {
   "cell_type": "code",
   "execution_count": 43,
   "metadata": {
    "collapsed": false
   },
   "outputs": [
    {
     "data": {
      "text/plain": [
       "0    2.422332\n",
       "dtype: float64"
      ]
     },
     "execution_count": 43,
     "metadata": {},
     "output_type": "execute_result"
    }
   ],
   "source": [
    "new_point = dict(intercept=1, lcavol=1.3, lweight=3.6, age=64, lbph=0.1, svi=0.2, lcp=-0.2, pgg45=25)\n",
    "prostate_res.predict(exog=new_point)"
   ]
  },
  {
   "cell_type": "code",
   "execution_count": 44,
   "metadata": {
    "collapsed": false,
    "scrolled": false
   },
   "outputs": [],
   "source": [
    "from statsmodels.sandbox.regression.predstd import wls_prediction_std\n",
    "#https://github.com/statsmodels/statsmodels/blob/master/statsmodels/sandbox/regression/predstd.py"
   ]
  },
  {
   "cell_type": "code",
   "execution_count": 45,
   "metadata": {
    "collapsed": false
   },
   "outputs": [
    {
     "data": {
      "text/html": [
       "<div>\n",
       "<style scoped>\n",
       "    .dataframe tbody tr th:only-of-type {\n",
       "        vertical-align: middle;\n",
       "    }\n",
       "\n",
       "    .dataframe tbody tr th {\n",
       "        vertical-align: top;\n",
       "    }\n",
       "\n",
       "    .dataframe thead th {\n",
       "        text-align: right;\n",
       "    }\n",
       "</style>\n",
       "<table border=\"1\" class=\"dataframe\">\n",
       "  <thead>\n",
       "    <tr style=\"text-align: right;\">\n",
       "      <th></th>\n",
       "      <th>Intercept</th>\n",
       "      <th>lcavol</th>\n",
       "      <th>lweight</th>\n",
       "      <th>age</th>\n",
       "      <th>lbph</th>\n",
       "      <th>svi</th>\n",
       "      <th>lcp</th>\n",
       "      <th>pgg45</th>\n",
       "    </tr>\n",
       "  </thead>\n",
       "  <tbody>\n",
       "    <tr>\n",
       "      <th>Intercept</th>\n",
       "      <td>0.763119</td>\n",
       "      <td>0.009968</td>\n",
       "      <td>-0.112714</td>\n",
       "      <td>-0.005758</td>\n",
       "      <td>0.024821</td>\n",
       "      <td>0.010342</td>\n",
       "      <td>0.002077</td>\n",
       "      <td>0.000033</td>\n",
       "    </tr>\n",
       "    <tr>\n",
       "      <th>lcavol</th>\n",
       "      <td>0.009968</td>\n",
       "      <td>0.007370</td>\n",
       "      <td>-0.003268</td>\n",
       "      <td>-0.000130</td>\n",
       "      <td>0.000398</td>\n",
       "      <td>-0.002643</td>\n",
       "      <td>-0.003502</td>\n",
       "      <td>0.000007</td>\n",
       "    </tr>\n",
       "    <tr>\n",
       "      <th>lweight</th>\n",
       "      <td>-0.112714</td>\n",
       "      <td>-0.003268</td>\n",
       "      <td>0.039382</td>\n",
       "      <td>-0.000409</td>\n",
       "      <td>-0.004541</td>\n",
       "      <td>-0.004105</td>\n",
       "      <td>0.000062</td>\n",
       "      <td>0.000069</td>\n",
       "    </tr>\n",
       "    <tr>\n",
       "      <th>age</th>\n",
       "      <td>-0.005758</td>\n",
       "      <td>-0.000130</td>\n",
       "      <td>-0.000409</td>\n",
       "      <td>0.000121</td>\n",
       "      <td>-0.000147</td>\n",
       "      <td>-0.000073</td>\n",
       "      <td>0.000143</td>\n",
       "      <td>-0.000009</td>\n",
       "    </tr>\n",
       "    <tr>\n",
       "      <th>lbph</th>\n",
       "      <td>0.024821</td>\n",
       "      <td>0.000398</td>\n",
       "      <td>-0.004541</td>\n",
       "      <td>-0.000147</td>\n",
       "      <td>0.003316</td>\n",
       "      <td>0.002136</td>\n",
       "      <td>-0.000142</td>\n",
       "      <td>-0.000012</td>\n",
       "    </tr>\n",
       "    <tr>\n",
       "      <th>svi</th>\n",
       "      <td>0.010342</td>\n",
       "      <td>-0.002643</td>\n",
       "      <td>-0.004105</td>\n",
       "      <td>-0.000073</td>\n",
       "      <td>0.002136</td>\n",
       "      <td>0.056730</td>\n",
       "      <td>-0.008863</td>\n",
       "      <td>-0.000052</td>\n",
       "    </tr>\n",
       "    <tr>\n",
       "      <th>lcp</th>\n",
       "      <td>0.002077</td>\n",
       "      <td>-0.003502</td>\n",
       "      <td>0.000062</td>\n",
       "      <td>0.000143</td>\n",
       "      <td>-0.000142</td>\n",
       "      <td>-0.008863</td>\n",
       "      <td>0.007983</td>\n",
       "      <td>-0.000137</td>\n",
       "    </tr>\n",
       "    <tr>\n",
       "      <th>pgg45</th>\n",
       "      <td>0.000033</td>\n",
       "      <td>0.000007</td>\n",
       "      <td>0.000069</td>\n",
       "      <td>-0.000009</td>\n",
       "      <td>-0.000012</td>\n",
       "      <td>-0.000052</td>\n",
       "      <td>-0.000137</td>\n",
       "      <td>0.000011</td>\n",
       "    </tr>\n",
       "  </tbody>\n",
       "</table>\n",
       "</div>"
      ],
      "text/plain": [
       "           Intercept    lcavol   lweight       age      lbph       svi  \\\n",
       "Intercept   0.763119  0.009968 -0.112714 -0.005758  0.024821  0.010342   \n",
       "lcavol      0.009968  0.007370 -0.003268 -0.000130  0.000398 -0.002643   \n",
       "lweight    -0.112714 -0.003268  0.039382 -0.000409 -0.004541 -0.004105   \n",
       "age        -0.005758 -0.000130 -0.000409  0.000121 -0.000147 -0.000073   \n",
       "lbph        0.024821  0.000398 -0.004541 -0.000147  0.003316  0.002136   \n",
       "svi         0.010342 -0.002643 -0.004105 -0.000073  0.002136  0.056730   \n",
       "lcp         0.002077 -0.003502  0.000062  0.000143 -0.000142 -0.008863   \n",
       "pgg45       0.000033  0.000007  0.000069 -0.000009 -0.000012 -0.000052   \n",
       "\n",
       "                lcp     pgg45  \n",
       "Intercept  0.002077  0.000033  \n",
       "lcavol    -0.003502  0.000007  \n",
       "lweight    0.000062  0.000069  \n",
       "age        0.000143 -0.000009  \n",
       "lbph      -0.000142 -0.000012  \n",
       "svi       -0.008863 -0.000052  \n",
       "lcp        0.007983 -0.000137  \n",
       "pgg45     -0.000137  0.000011  "
      ]
     },
     "execution_count": 45,
     "metadata": {},
     "output_type": "execute_result"
    }
   ],
   "source": [
    "covb = prostate_res.cov_params()\n",
    "covb"
   ]
  },
  {
   "cell_type": "code",
   "execution_count": 46,
   "metadata": {
    "collapsed": true
   },
   "outputs": [],
   "source": [
    "predicted = prostate_res.model.predict(prostate_res.params, \n",
    "                                      exog=list(new_point.values()))"
   ]
  },
  {
   "cell_type": "code",
   "execution_count": 47,
   "metadata": {
    "collapsed": false
   },
   "outputs": [
    {
     "data": {
      "text/plain": [
       "2.422332304237204"
      ]
     },
     "execution_count": 47,
     "metadata": {},
     "output_type": "execute_result"
    }
   ],
   "source": [
    "predicted"
   ]
  },
  {
   "cell_type": "code",
   "execution_count": 48,
   "metadata": {
    "collapsed": false
   },
   "outputs": [],
   "source": [
    "tppf = stats.t.ppf(1 - (0.10/2.0), prostate_res.df_resid)"
   ]
  },
  {
   "cell_type": "code",
   "execution_count": 49,
   "metadata": {
    "collapsed": false
   },
   "outputs": [
    {
     "data": {
      "text/plain": [
       "1.662155325834565"
      ]
     },
     "execution_count": 49,
     "metadata": {},
     "output_type": "execute_result"
    }
   ],
   "source": [
    "tppf"
   ]
  },
  {
   "cell_type": "code",
   "execution_count": 50,
   "metadata": {
    "collapsed": false
   },
   "outputs": [
    {
     "data": {
      "text/plain": [
       "1.6621553258345656"
      ]
     },
     "execution_count": 50,
     "metadata": {},
     "output_type": "execute_result"
    }
   ],
   "source": [
    "# same as inverse survival func\n",
    "stats.t.isf(0.10/2.0, prostate_res.df_resid)"
   ]
  },
  {
   "cell_type": "code",
   "execution_count": 51,
   "metadata": {
    "collapsed": false
   },
   "outputs": [
    {
     "data": {
      "text/plain": [
       "array([0.69957013])"
      ]
     },
     "execution_count": 51,
     "metadata": {},
     "output_type": "execute_result"
    }
   ],
   "source": [
    "weights = 1.0\n",
    "exog = list(new_point.values())\n",
    "predvar = prostate_res.mse_resid/weights + (np.atleast_2d(exog) * np.dot(covb, np.atleast_2d(exog).T).T).sum(1)\n",
    "predstd = np.sqrt(predvar)\n",
    "predstd"
   ]
  },
  {
   "cell_type": "code",
   "execution_count": 52,
   "metadata": {
    "collapsed": false
   },
   "outputs": [],
   "source": [
    "prstd, iv_l, iv_u = wls_prediction_std(prostate_res, \n",
    "                                       exog=list(new_point.values()),\n",
    "                                       alpha=0.10)"
   ]
  },
  {
   "cell_type": "code",
   "execution_count": 53,
   "metadata": {
    "collapsed": false
   },
   "outputs": [
    {
     "data": {
      "text/plain": [
       "array([0.69957013])"
      ]
     },
     "execution_count": 53,
     "metadata": {},
     "output_type": "execute_result"
    }
   ],
   "source": [
    "prstd"
   ]
  },
  {
   "cell_type": "code",
   "execution_count": 54,
   "metadata": {
    "collapsed": false
   },
   "outputs": [
    {
     "data": {
      "text/plain": [
       "array([1.25953809])"
      ]
     },
     "execution_count": 54,
     "metadata": {},
     "output_type": "execute_result"
    }
   ],
   "source": [
    "iv_l"
   ]
  },
  {
   "cell_type": "code",
   "execution_count": 55,
   "metadata": {
    "collapsed": false
   },
   "outputs": [
    {
     "data": {
      "text/plain": [
       "array([3.58512652])"
      ]
     },
     "execution_count": 55,
     "metadata": {},
     "output_type": "execute_result"
    }
   ],
   "source": [
    "iv_u"
   ]
  },
  {
   "cell_type": "code",
   "execution_count": 56,
   "metadata": {
    "collapsed": false
   },
   "outputs": [
    {
     "data": {
      "text/plain": [
       "array([1.25953809])"
      ]
     },
     "execution_count": 56,
     "metadata": {},
     "output_type": "execute_result"
    }
   ],
   "source": [
    "#obs_ci_lower\n",
    "predicted - tppf * predstd"
   ]
  },
  {
   "cell_type": "code",
   "execution_count": 57,
   "metadata": {
    "collapsed": false
   },
   "outputs": [
    {
     "data": {
      "text/plain": [
       "array([3.58512652])"
      ]
     },
     "execution_count": 57,
     "metadata": {},
     "output_type": "execute_result"
    }
   ],
   "source": [
    "#obs_ci_upper\n",
    "predicted + tppf * predstd"
   ]
  },
  {
   "cell_type": "code",
   "execution_count": 58,
   "metadata": {
    "collapsed": false
   },
   "outputs": [],
   "source": [
    "exogs=pd.DataFrame(data=[new_point.values()], columns=new_point.keys())"
   ]
  },
  {
   "cell_type": "code",
   "execution_count": 59,
   "metadata": {
    "collapsed": false
   },
   "outputs": [
    {
     "data": {
      "text/html": [
       "<div>\n",
       "<style scoped>\n",
       "    .dataframe tbody tr th:only-of-type {\n",
       "        vertical-align: middle;\n",
       "    }\n",
       "\n",
       "    .dataframe tbody tr th {\n",
       "        vertical-align: top;\n",
       "    }\n",
       "\n",
       "    .dataframe thead th {\n",
       "        text-align: right;\n",
       "    }\n",
       "</style>\n",
       "<table border=\"1\" class=\"dataframe\">\n",
       "  <thead>\n",
       "    <tr style=\"text-align: right;\">\n",
       "      <th></th>\n",
       "      <th>intercept</th>\n",
       "      <th>lcavol</th>\n",
       "      <th>lweight</th>\n",
       "      <th>age</th>\n",
       "      <th>lbph</th>\n",
       "      <th>svi</th>\n",
       "      <th>lcp</th>\n",
       "      <th>pgg45</th>\n",
       "    </tr>\n",
       "  </thead>\n",
       "  <tbody>\n",
       "    <tr>\n",
       "      <th>0</th>\n",
       "      <td>1</td>\n",
       "      <td>1.3</td>\n",
       "      <td>3.6</td>\n",
       "      <td>64</td>\n",
       "      <td>0.1</td>\n",
       "      <td>0.2</td>\n",
       "      <td>-0.2</td>\n",
       "      <td>25</td>\n",
       "    </tr>\n",
       "  </tbody>\n",
       "</table>\n",
       "</div>"
      ],
      "text/plain": [
       "   intercept  lcavol  lweight  age  lbph  svi  lcp  pgg45\n",
       "0          1     1.3      3.6   64   0.1  0.2 -0.2     25"
      ]
     },
     "execution_count": 59,
     "metadata": {},
     "output_type": "execute_result"
    }
   ],
   "source": [
    "exogs"
   ]
  },
  {
   "cell_type": "code",
   "execution_count": 60,
   "metadata": {
    "collapsed": false
   },
   "outputs": [],
   "source": [
    "predictions=prostate_res.get_prediction(exog=exogs)"
   ]
  },
  {
   "cell_type": "code",
   "execution_count": 61,
   "metadata": {
    "collapsed": false
   },
   "outputs": [
    {
     "data": {
      "text/html": [
       "<div>\n",
       "<style scoped>\n",
       "    .dataframe tbody tr th:only-of-type {\n",
       "        vertical-align: middle;\n",
       "    }\n",
       "\n",
       "    .dataframe tbody tr th {\n",
       "        vertical-align: top;\n",
       "    }\n",
       "\n",
       "    .dataframe thead th {\n",
       "        text-align: right;\n",
       "    }\n",
       "</style>\n",
       "<table border=\"1\" class=\"dataframe\">\n",
       "  <thead>\n",
       "    <tr style=\"text-align: right;\">\n",
       "      <th></th>\n",
       "      <th>mean</th>\n",
       "      <th>mean_se</th>\n",
       "      <th>mean_ci_lower</th>\n",
       "      <th>mean_ci_upper</th>\n",
       "      <th>obs_ci_lower</th>\n",
       "      <th>obs_ci_upper</th>\n",
       "    </tr>\n",
       "  </thead>\n",
       "  <tbody>\n",
       "    <tr>\n",
       "      <th>0</th>\n",
       "      <td>2.422332</td>\n",
       "      <td>0.07102</td>\n",
       "      <td>2.304287</td>\n",
       "      <td>2.540378</td>\n",
       "      <td>1.259538</td>\n",
       "      <td>3.585127</td>\n",
       "    </tr>\n",
       "  </tbody>\n",
       "</table>\n",
       "</div>"
      ],
      "text/plain": [
       "       mean  mean_se  mean_ci_lower  mean_ci_upper  obs_ci_lower  obs_ci_upper\n",
       "0  2.422332  0.07102       2.304287       2.540378      1.259538      3.585127"
      ]
     },
     "execution_count": 61,
     "metadata": {},
     "output_type": "execute_result"
    }
   ],
   "source": [
    "predictions.summary_frame(alpha=0.10)"
   ]
  },
  {
   "cell_type": "markdown",
   "metadata": {},
   "source": [
    "R produces *mean_ci_lower* and *mean_ci_upper*"
   ]
  },
  {
   "cell_type": "markdown",
   "metadata": {
    "collapsed": true
   },
   "source": [
    "## $T$-statistics revisited\n",
    "\n",
    "Of course, these confidence intervals are based on the standard ingredients of a\n",
    "$T$-statistic.\n",
    "\n",
    "-   Suppose we want to test $$H_0:\\sum_{j=0}^p a_j\\beta_j= h.$$ As in\n",
    "    simple linear regression, it is based on\n",
    "    $$T = \\frac{\\sum_{j=0}^p a_j \\widehat{\\beta}_j - h}{SE(\\sum_{j=0}^p a_j \\widehat{\\beta\\\n",
    "}_j)}.$$\n",
    "\n",
    "-   If $H_0$ is true, then $T \\sim t_{n-p-1}$, so we reject $H_0$ at\n",
    "    level $\\alpha$ if $$\\begin{aligned}\n",
    "       |T| &\\geq t_{1-\\alpha/2,n-p-1}, \\qquad \\text{ OR} \\\\\n",
    "       p-\\text{value} &= {\\tt 2*(1-pt(|T|, n-p-1))} \\leq \\alpha.\n",
    "       \\end{aligned}$$\n",
    "\n",
    "\n",
    "`R` produces these in the `coef` table `summary` of the linear regression model. Again, each of these \n",
    "linear combinations is a vector $a$ with only one non-zero entry like $a_{\\tt lcavol}$ above.\n"
   ]
  },
  {
   "cell_type": "code",
   "execution_count": 62,
   "metadata": {
    "collapsed": false
   },
   "outputs": [
    {
     "data": {
      "text/html": [
       "<table class=\"simpletable\">\n",
       "<tr>\n",
       "      <td></td>         <th>coef</th>     <th>std err</th>      <th>t</th>      <th>P>|t|</th>  <th>[0.025</th>    <th>0.975]</th>  \n",
       "</tr>\n",
       "<tr>\n",
       "  <th>Intercept</th> <td>    0.4942</td> <td>    0.874</td> <td>    0.566</td> <td> 0.573</td> <td>   -1.242</td> <td>    2.230</td>\n",
       "</tr>\n",
       "<tr>\n",
       "  <th>lcavol</th>    <td>    0.5695</td> <td>    0.086</td> <td>    6.634</td> <td> 0.000</td> <td>    0.399</td> <td>    0.740</td>\n",
       "</tr>\n",
       "<tr>\n",
       "  <th>lweight</th>   <td>    0.6144</td> <td>    0.198</td> <td>    3.096</td> <td> 0.003</td> <td>    0.220</td> <td>    1.009</td>\n",
       "</tr>\n",
       "<tr>\n",
       "  <th>age</th>       <td>   -0.0209</td> <td>    0.011</td> <td>   -1.905</td> <td> 0.060</td> <td>   -0.043</td> <td>    0.001</td>\n",
       "</tr>\n",
       "<tr>\n",
       "  <th>lbph</th>      <td>    0.0974</td> <td>    0.058</td> <td>    1.691</td> <td> 0.094</td> <td>   -0.017</td> <td>    0.212</td>\n",
       "</tr>\n",
       "<tr>\n",
       "  <th>svi</th>       <td>    0.7524</td> <td>    0.238</td> <td>    3.159</td> <td> 0.002</td> <td>    0.279</td> <td>    1.226</td>\n",
       "</tr>\n",
       "<tr>\n",
       "  <th>lcp</th>       <td>   -0.1050</td> <td>    0.089</td> <td>   -1.175</td> <td> 0.243</td> <td>   -0.282</td> <td>    0.073</td>\n",
       "</tr>\n",
       "<tr>\n",
       "  <th>pgg45</th>     <td>    0.0053</td> <td>    0.003</td> <td>    1.573</td> <td> 0.119</td> <td>   -0.001</td> <td>    0.012</td>\n",
       "</tr>\n",
       "</table>"
      ],
      "text/plain": [
       "<class 'statsmodels.iolib.table.SimpleTable'>"
      ]
     },
     "execution_count": 62,
     "metadata": {},
     "output_type": "execute_result"
    }
   ],
   "source": [
    "# the second table from summary()\n",
    "prostate_res.summary().tables[1]"
   ]
  },
  {
   "cell_type": "markdown",
   "metadata": {},
   "source": [
    "Let's do a quick calculation to remind ourselves the relationships of the variables\n",
    "in the table above."
   ]
  },
  {
   "cell_type": "code",
   "execution_count": 63,
   "metadata": {
    "collapsed": false
   },
   "outputs": [
    {
     "data": {
      "text/plain": [
       "0.5695460324644493"
      ]
     },
     "execution_count": 63,
     "metadata": {},
     "output_type": "execute_result"
    }
   ],
   "source": [
    "prostate_res.params.lcavol"
   ]
  },
  {
   "cell_type": "code",
   "execution_count": 64,
   "metadata": {
    "collapsed": false
   },
   "outputs": [
    {
     "data": {
      "text/plain": [
       "0.0858470957511072"
      ]
     },
     "execution_count": 64,
     "metadata": {},
     "output_type": "execute_result"
    }
   ],
   "source": [
    "prostate_res.bse.lcavol"
   ]
  },
  {
   "cell_type": "code",
   "execution_count": 65,
   "metadata": {
    "collapsed": false
   },
   "outputs": [
    {
     "data": {
      "text/plain": [
       "6.634424000966901"
      ]
     },
     "execution_count": 65,
     "metadata": {},
     "output_type": "execute_result"
    }
   ],
   "source": [
    "T = prostate_res.params.lcavol / prostate_res.bse.lcavol\n",
    "T"
   ]
  },
  {
   "cell_type": "code",
   "execution_count": 66,
   "metadata": {
    "collapsed": false
   },
   "outputs": [
    {
     "data": {
      "text/plain": [
       "2.4614494886776583e-09"
      ]
     },
     "execution_count": 66,
     "metadata": {},
     "output_type": "execute_result"
    }
   ],
   "source": [
    "P = 2 * (1 - stats.t.cdf(abs(T), 89))\n",
    "P"
   ]
  },
  {
   "cell_type": "markdown",
   "metadata": {},
   "source": [
    "These were indeed the values for `lcavol` in the `summary` table."
   ]
  },
  {
   "cell_type": "markdown",
   "metadata": {},
   "source": [
    "## One-sided tests\n",
    "\n",
    "-   Suppose, instead, we wanted to test the one-sided hypothesis\n",
    "    $$H_0:\\sum_{j=0}^p a_j\\beta_j \\leq  h, \\  \\text{vs.} \\ H_a: \\sum_{j=0}^p a_j\\beta_j > \\\n",
    " h$$\n",
    "\n",
    "-   If $H_0$ is true, then $T$ is no longer exactly $t_{n-p-1}$ but we still have\n",
    "    $$\\mathbb{P}\\left(T > t_{1-\\alpha, n-p-1}\\right) \\leq 1 - \\alpha$$\n",
    "    so we reject $H_0$ at level $\\alpha$ if $$\\begin{aligned}\n",
    "       T &\\geq t_{1-\\alpha,n-p-1}, \\qquad \\text{ OR} \\\\\n",
    "       p-\\text{value} &= {\\tt (1-pt(T, n-p-1))} \\leq \\alpha.\n",
    "       \\end{aligned}$$\n",
    "       \n",
    "- **Note: the decision to do a one-sided $T$ test should be made *before* looking at the $T$ statistic. Otherwise, the probability of a false positive is doubled!**\n",
    "\n",
    "## Standard error of $\\sum_{j=0}^p a_j \\widehat{\\beta}_j$\n",
    "\n",
    "- In order to form these $T$ statistics, we need the $SE$ of our estimate $\\sum_{j=0}^p a_j \\widehat{\\beta}_j$.\n",
    "\n",
    "-   Based on matrix approach to regression\n",
    "    $$SE\\left(\\sum_{j=0}^p a_j\\widehat{\\beta}_j \\right) = SE\\left(a^T\\widehat{\\beta} \\right) = \\sqrt{\\widehat{\\sigma}^2 a^T (X^TX\\\n",
    ")^{-1} a}.$$\n",
    "\n",
    "-   Donâ€™t worry too much about specific implementation â€“ for much of the effects\n",
    "    we want `R` will do this for you in\n",
    "    general."
   ]
  },
  {
   "cell_type": "code",
   "execution_count": 67,
   "metadata": {
    "collapsed": false
   },
   "outputs": [
    {
     "data": {
      "text/plain": [
       "array([0.83040395, 0.76509061, 0.42620721, 0.62301173, 1.74494923,\n",
       "       0.84495944, 1.91513456, 2.14581994, 1.25424277, 1.30775437,\n",
       "       1.50480906, 0.88933202, 2.04035798, 1.81353873, 2.0406655 ,\n",
       "       1.88294336, 1.29746916, 2.4855443 , 1.33481413, 1.79137615,\n",
       "       2.02522972, 2.67185652, 1.09198848, 2.5505094 , 1.82508253,\n",
       "       1.99064122, 2.03384757, 1.66902634, 2.05048729, 2.27646096,\n",
       "       2.08518778, 1.88760822, 1.87073212, 1.38875884, 1.09624498,\n",
       "       2.81567824, 1.87438469, 0.96581905, 3.9777076 , 1.76332563,\n",
       "       1.95980021, 2.21989802, 2.11650982, 2.43362729, 2.37714589,\n",
       "       2.53599866, 4.03947215, 2.63880362, 2.74894044, 2.13540199,\n",
       "       2.42445706, 3.05051119, 2.19327402, 3.04887962, 3.25385085,\n",
       "       2.89722801, 1.66040186, 2.33065582, 2.20093476, 2.67365629,\n",
       "       2.37991588, 3.52225802, 2.94236377, 3.72529692, 2.5730524 ,\n",
       "       2.6866122 , 3.01476316, 3.05250804, 1.51618851, 2.94244558,\n",
       "       3.30693108, 2.04624218, 2.79396686, 3.4259757 , 3.64777871,\n",
       "       3.62601759, 3.33140463, 3.40910318, 3.47932126, 3.20093532,\n",
       "       2.08042543, 2.98579174, 3.56340088, 3.31584448, 2.64830695,\n",
       "       3.89158492, 3.03193975, 2.99944202, 4.31099941, 3.22265678,\n",
       "       3.4518481 , 4.02961477, 3.86391664, 4.74729187, 3.56134111,\n",
       "       4.19905871, 4.08853371])"
      ]
     },
     "execution_count": 67,
     "metadata": {},
     "output_type": "execute_result"
    }
   ],
   "source": [
    "Y_hat = x.values @ beta\n",
    "Y_hat"
   ]
  },
  {
   "cell_type": "code",
   "execution_count": 68,
   "metadata": {
    "collapsed": false
   },
   "outputs": [
    {
     "data": {
      "text/plain": [
       "8"
      ]
     },
     "execution_count": 68,
     "metadata": {},
     "output_type": "execute_result"
    }
   ],
   "source": [
    "len(x.columns)"
   ]
  },
  {
   "cell_type": "code",
   "execution_count": 69,
   "metadata": {
    "collapsed": false
   },
   "outputs": [
    {
     "data": {
      "text/plain": [
       "array([[ 7.63118891e-01,  9.96818456e-03, -1.12714488e-01,\n",
       "        -5.75771100e-03,  2.48213407e-02,  1.03421775e-02,\n",
       "         2.07748454e-03,  3.34769937e-05],\n",
       "       [ 9.96818456e-03,  7.36972385e-03, -3.26792058e-03,\n",
       "        -1.30378747e-04,  3.98164446e-04, -2.64316425e-03,\n",
       "        -3.50225822e-03,  7.07789254e-06],\n",
       "       [-1.12714488e-01, -3.26792058e-03,  3.93822035e-02,\n",
       "        -4.08833079e-04, -4.54091640e-03, -4.10506482e-03,\n",
       "         6.19876003e-05,  6.87625086e-05],\n",
       "       [-5.75771100e-03, -1.30378747e-04, -4.08833079e-04,\n",
       "         1.20510809e-04, -1.47165208e-04, -7.34063630e-05,\n",
       "         1.42919758e-04, -9.14177466e-06],\n",
       "       [ 2.48213407e-02,  3.98164446e-04, -4.54091640e-03,\n",
       "        -1.47165208e-04,  3.31594184e-03,  2.13633121e-03,\n",
       "        -1.41600997e-04, -1.23851382e-05],\n",
       "       [ 1.03421775e-02, -2.64316425e-03, -4.10506482e-03,\n",
       "        -7.34063630e-05,  2.13633121e-03,  5.67296707e-02,\n",
       "        -8.86312723e-03, -5.22725545e-05],\n",
       "       [ 2.07748454e-03, -3.50225822e-03,  6.19876003e-05,\n",
       "         1.42919758e-04, -1.41600997e-04, -8.86312723e-03,\n",
       "         7.98287461e-03, -1.36873661e-04],\n",
       "       [ 3.34769937e-05,  7.07789254e-06,  6.87625086e-05,\n",
       "        -9.14177466e-06, -1.23851382e-05, -5.22725545e-05,\n",
       "        -1.36873661e-04,  1.14550318e-05]])"
      ]
     },
     "execution_count": 69,
     "metadata": {},
     "output_type": "execute_result"
    }
   ],
   "source": [
    "sigma_hat = np.sqrt(((Y.values - Y_hat)**2).sum() / (n - len(x.columns))) \n",
    "cov_beta = sigma_hat**2 * np.linalg.inv (x.T.values @ x.values)\n",
    "cov_beta"
   ]
  },
  {
   "cell_type": "code",
   "execution_count": 70,
   "metadata": {
    "collapsed": false
   },
   "outputs": [
    {
     "data": {
      "text/html": [
       "<div>\n",
       "<style scoped>\n",
       "    .dataframe tbody tr th:only-of-type {\n",
       "        vertical-align: middle;\n",
       "    }\n",
       "\n",
       "    .dataframe tbody tr th {\n",
       "        vertical-align: top;\n",
       "    }\n",
       "\n",
       "    .dataframe thead th {\n",
       "        text-align: right;\n",
       "    }\n",
       "</style>\n",
       "<table border=\"1\" class=\"dataframe\">\n",
       "  <thead>\n",
       "    <tr style=\"text-align: right;\">\n",
       "      <th></th>\n",
       "      <th>const</th>\n",
       "      <th>lcavol</th>\n",
       "      <th>lweight</th>\n",
       "      <th>age</th>\n",
       "      <th>lbph</th>\n",
       "      <th>svi</th>\n",
       "      <th>lcp</th>\n",
       "      <th>pgg45</th>\n",
       "    </tr>\n",
       "  </thead>\n",
       "  <tbody>\n",
       "    <tr>\n",
       "      <th>const</th>\n",
       "      <td>0.763119</td>\n",
       "      <td>0.009968</td>\n",
       "      <td>-0.112714</td>\n",
       "      <td>-0.005758</td>\n",
       "      <td>0.024821</td>\n",
       "      <td>0.010342</td>\n",
       "      <td>0.002077</td>\n",
       "      <td>0.000033</td>\n",
       "    </tr>\n",
       "    <tr>\n",
       "      <th>lcavol</th>\n",
       "      <td>0.009968</td>\n",
       "      <td>0.007370</td>\n",
       "      <td>-0.003268</td>\n",
       "      <td>-0.000130</td>\n",
       "      <td>0.000398</td>\n",
       "      <td>-0.002643</td>\n",
       "      <td>-0.003502</td>\n",
       "      <td>0.000007</td>\n",
       "    </tr>\n",
       "    <tr>\n",
       "      <th>lweight</th>\n",
       "      <td>-0.112714</td>\n",
       "      <td>-0.003268</td>\n",
       "      <td>0.039382</td>\n",
       "      <td>-0.000409</td>\n",
       "      <td>-0.004541</td>\n",
       "      <td>-0.004105</td>\n",
       "      <td>0.000062</td>\n",
       "      <td>0.000069</td>\n",
       "    </tr>\n",
       "    <tr>\n",
       "      <th>age</th>\n",
       "      <td>-0.005758</td>\n",
       "      <td>-0.000130</td>\n",
       "      <td>-0.000409</td>\n",
       "      <td>0.000121</td>\n",
       "      <td>-0.000147</td>\n",
       "      <td>-0.000073</td>\n",
       "      <td>0.000143</td>\n",
       "      <td>-0.000009</td>\n",
       "    </tr>\n",
       "    <tr>\n",
       "      <th>lbph</th>\n",
       "      <td>0.024821</td>\n",
       "      <td>0.000398</td>\n",
       "      <td>-0.004541</td>\n",
       "      <td>-0.000147</td>\n",
       "      <td>0.003316</td>\n",
       "      <td>0.002136</td>\n",
       "      <td>-0.000142</td>\n",
       "      <td>-0.000012</td>\n",
       "    </tr>\n",
       "    <tr>\n",
       "      <th>svi</th>\n",
       "      <td>0.010342</td>\n",
       "      <td>-0.002643</td>\n",
       "      <td>-0.004105</td>\n",
       "      <td>-0.000073</td>\n",
       "      <td>0.002136</td>\n",
       "      <td>0.056730</td>\n",
       "      <td>-0.008863</td>\n",
       "      <td>-0.000052</td>\n",
       "    </tr>\n",
       "    <tr>\n",
       "      <th>lcp</th>\n",
       "      <td>0.002077</td>\n",
       "      <td>-0.003502</td>\n",
       "      <td>0.000062</td>\n",
       "      <td>0.000143</td>\n",
       "      <td>-0.000142</td>\n",
       "      <td>-0.008863</td>\n",
       "      <td>0.007983</td>\n",
       "      <td>-0.000137</td>\n",
       "    </tr>\n",
       "    <tr>\n",
       "      <th>pgg45</th>\n",
       "      <td>0.000033</td>\n",
       "      <td>0.000007</td>\n",
       "      <td>0.000069</td>\n",
       "      <td>-0.000009</td>\n",
       "      <td>-0.000012</td>\n",
       "      <td>-0.000052</td>\n",
       "      <td>-0.000137</td>\n",
       "      <td>0.000011</td>\n",
       "    </tr>\n",
       "  </tbody>\n",
       "</table>\n",
       "</div>"
      ],
      "text/plain": [
       "            const    lcavol   lweight       age      lbph       svi       lcp  \\\n",
       "const    0.763119  0.009968 -0.112714 -0.005758  0.024821  0.010342  0.002077   \n",
       "lcavol   0.009968  0.007370 -0.003268 -0.000130  0.000398 -0.002643 -0.003502   \n",
       "lweight -0.112714 -0.003268  0.039382 -0.000409 -0.004541 -0.004105  0.000062   \n",
       "age     -0.005758 -0.000130 -0.000409  0.000121 -0.000147 -0.000073  0.000143   \n",
       "lbph     0.024821  0.000398 -0.004541 -0.000147  0.003316  0.002136 -0.000142   \n",
       "svi      0.010342 -0.002643 -0.004105 -0.000073  0.002136  0.056730 -0.008863   \n",
       "lcp      0.002077 -0.003502  0.000062  0.000143 -0.000142 -0.008863  0.007983   \n",
       "pgg45    0.000033  0.000007  0.000069 -0.000009 -0.000012 -0.000052 -0.000137   \n",
       "\n",
       "            pgg45  \n",
       "const    0.000033  \n",
       "lcavol   0.000007  \n",
       "lweight  0.000069  \n",
       "age     -0.000009  \n",
       "lbph    -0.000012  \n",
       "svi     -0.000052  \n",
       "lcp     -0.000137  \n",
       "pgg45    0.000011  "
      ]
     },
     "execution_count": 70,
     "metadata": {},
     "output_type": "execute_result"
    }
   ],
   "source": [
    "pd.DataFrame(cov_beta, index=x.columns, columns=x.columns)"
   ]
  },
  {
   "cell_type": "markdown",
   "metadata": {},
   "source": [
    "The standard errors of each coefficient estimate are the square root of the diagonal entries. They appear as the\n",
    "`Std. Error` column in the `coef` table.\n"
   ]
  },
  {
   "cell_type": "code",
   "execution_count": 71,
   "metadata": {
    "collapsed": false
   },
   "outputs": [
    {
     "data": {
      "text/plain": [
       "array([0.87356676, 0.0858471 , 0.1984495 , 0.01097774, 0.05758422,\n",
       "       0.23817991, 0.08934693, 0.00338453])"
      ]
     },
     "execution_count": 71,
     "metadata": {},
     "output_type": "execute_result"
    }
   ],
   "source": [
    "np.sqrt(cov_beta.diagonal())"
   ]
  },
  {
   "cell_type": "code",
   "execution_count": 72,
   "metadata": {
    "collapsed": false
   },
   "outputs": [
    {
     "data": {
      "text/plain": [
       "const      0.873567\n",
       "lcavol     0.085847\n",
       "lweight    0.198449\n",
       "age        0.010978\n",
       "lbph       0.057584\n",
       "svi        0.238180\n",
       "lcp        0.089347\n",
       "pgg45      0.003385\n",
       "dtype: float64"
      ]
     },
     "execution_count": 72,
     "metadata": {},
     "output_type": "execute_result"
    }
   ],
   "source": [
    "pd.Series(np.sqrt(cov_beta.diagonal()), index=x.columns)"
   ]
  },
  {
   "cell_type": "markdown",
   "metadata": {},
   "source": [
    "Generally, we can find our estimate of the covariance function as follows:\n"
   ]
  },
  {
   "cell_type": "code",
   "execution_count": 73,
   "metadata": {
    "collapsed": false
   },
   "outputs": [
    {
     "data": {
      "text/html": [
       "<div>\n",
       "<style scoped>\n",
       "    .dataframe tbody tr th:only-of-type {\n",
       "        vertical-align: middle;\n",
       "    }\n",
       "\n",
       "    .dataframe tbody tr th {\n",
       "        vertical-align: top;\n",
       "    }\n",
       "\n",
       "    .dataframe thead th {\n",
       "        text-align: right;\n",
       "    }\n",
       "</style>\n",
       "<table border=\"1\" class=\"dataframe\">\n",
       "  <thead>\n",
       "    <tr style=\"text-align: right;\">\n",
       "      <th></th>\n",
       "      <th>Intercept</th>\n",
       "      <th>lcavol</th>\n",
       "      <th>lweight</th>\n",
       "      <th>age</th>\n",
       "      <th>lbph</th>\n",
       "      <th>svi</th>\n",
       "      <th>lcp</th>\n",
       "      <th>pgg45</th>\n",
       "    </tr>\n",
       "  </thead>\n",
       "  <tbody>\n",
       "    <tr>\n",
       "      <th>Intercept</th>\n",
       "      <td>0.763119</td>\n",
       "      <td>0.009968</td>\n",
       "      <td>-0.112714</td>\n",
       "      <td>-0.005758</td>\n",
       "      <td>0.024821</td>\n",
       "      <td>0.010342</td>\n",
       "      <td>0.002077</td>\n",
       "      <td>0.000033</td>\n",
       "    </tr>\n",
       "    <tr>\n",
       "      <th>lcavol</th>\n",
       "      <td>0.009968</td>\n",
       "      <td>0.007370</td>\n",
       "      <td>-0.003268</td>\n",
       "      <td>-0.000130</td>\n",
       "      <td>0.000398</td>\n",
       "      <td>-0.002643</td>\n",
       "      <td>-0.003502</td>\n",
       "      <td>0.000007</td>\n",
       "    </tr>\n",
       "    <tr>\n",
       "      <th>lweight</th>\n",
       "      <td>-0.112714</td>\n",
       "      <td>-0.003268</td>\n",
       "      <td>0.039382</td>\n",
       "      <td>-0.000409</td>\n",
       "      <td>-0.004541</td>\n",
       "      <td>-0.004105</td>\n",
       "      <td>0.000062</td>\n",
       "      <td>0.000069</td>\n",
       "    </tr>\n",
       "    <tr>\n",
       "      <th>age</th>\n",
       "      <td>-0.005758</td>\n",
       "      <td>-0.000130</td>\n",
       "      <td>-0.000409</td>\n",
       "      <td>0.000121</td>\n",
       "      <td>-0.000147</td>\n",
       "      <td>-0.000073</td>\n",
       "      <td>0.000143</td>\n",
       "      <td>-0.000009</td>\n",
       "    </tr>\n",
       "    <tr>\n",
       "      <th>lbph</th>\n",
       "      <td>0.024821</td>\n",
       "      <td>0.000398</td>\n",
       "      <td>-0.004541</td>\n",
       "      <td>-0.000147</td>\n",
       "      <td>0.003316</td>\n",
       "      <td>0.002136</td>\n",
       "      <td>-0.000142</td>\n",
       "      <td>-0.000012</td>\n",
       "    </tr>\n",
       "    <tr>\n",
       "      <th>svi</th>\n",
       "      <td>0.010342</td>\n",
       "      <td>-0.002643</td>\n",
       "      <td>-0.004105</td>\n",
       "      <td>-0.000073</td>\n",
       "      <td>0.002136</td>\n",
       "      <td>0.056730</td>\n",
       "      <td>-0.008863</td>\n",
       "      <td>-0.000052</td>\n",
       "    </tr>\n",
       "    <tr>\n",
       "      <th>lcp</th>\n",
       "      <td>0.002077</td>\n",
       "      <td>-0.003502</td>\n",
       "      <td>0.000062</td>\n",
       "      <td>0.000143</td>\n",
       "      <td>-0.000142</td>\n",
       "      <td>-0.008863</td>\n",
       "      <td>0.007983</td>\n",
       "      <td>-0.000137</td>\n",
       "    </tr>\n",
       "    <tr>\n",
       "      <th>pgg45</th>\n",
       "      <td>0.000033</td>\n",
       "      <td>0.000007</td>\n",
       "      <td>0.000069</td>\n",
       "      <td>-0.000009</td>\n",
       "      <td>-0.000012</td>\n",
       "      <td>-0.000052</td>\n",
       "      <td>-0.000137</td>\n",
       "      <td>0.000011</td>\n",
       "    </tr>\n",
       "  </tbody>\n",
       "</table>\n",
       "</div>"
      ],
      "text/plain": [
       "           Intercept    lcavol   lweight       age      lbph       svi  \\\n",
       "Intercept   0.763119  0.009968 -0.112714 -0.005758  0.024821  0.010342   \n",
       "lcavol      0.009968  0.007370 -0.003268 -0.000130  0.000398 -0.002643   \n",
       "lweight    -0.112714 -0.003268  0.039382 -0.000409 -0.004541 -0.004105   \n",
       "age        -0.005758 -0.000130 -0.000409  0.000121 -0.000147 -0.000073   \n",
       "lbph        0.024821  0.000398 -0.004541 -0.000147  0.003316  0.002136   \n",
       "svi         0.010342 -0.002643 -0.004105 -0.000073  0.002136  0.056730   \n",
       "lcp         0.002077 -0.003502  0.000062  0.000143 -0.000142 -0.008863   \n",
       "pgg45       0.000033  0.000007  0.000069 -0.000009 -0.000012 -0.000052   \n",
       "\n",
       "                lcp     pgg45  \n",
       "Intercept  0.002077  0.000033  \n",
       "lcavol    -0.003502  0.000007  \n",
       "lweight    0.000062  0.000069  \n",
       "age        0.000143 -0.000009  \n",
       "lbph      -0.000142 -0.000012  \n",
       "svi       -0.008863 -0.000052  \n",
       "lcp        0.007983 -0.000137  \n",
       "pgg45     -0.000137  0.000011  "
      ]
     },
     "execution_count": 73,
     "metadata": {},
     "output_type": "execute_result"
    }
   ],
   "source": [
    "# same as cov_params()\n",
    "prostate_res.cov_params()"
   ]
  },
  {
   "cell_type": "markdown",
   "metadata": {},
   "source": [
    "## Prediction interval\n",
    "\n",
    "-   Basically identical to simple linear regression.\n",
    "\n",
    "-   Prediction interval at $X_{1,new}, \\dots, X_{p,new}$:\n",
    "    $$\\begin{aligned}\n",
    "       \\widehat{\\beta}_0 + \\sum_{j=1}^p X_{j,new} \\widehat{\\beta}_j\\pm t_{1-\\alpha/2, n-p-1} \\times \\ \\sqrt{\\widehat{\\sigma}^2 + SE\\left(\\widehat{\\beta}_0 + \\sum_{j=1}^p X_{j,new}\\widehat{\\beta}_j\\right)^2}.\n",
    "       \\end{aligned}$$\n",
    "\n",
    "\n",
    "## Forming intervals by hand\n",
    "\n",
    "While `R` computes most of the intervals we need,\n",
    "we could write a function that\n",
    "explicitly computes a confidence interval\n",
    "(and can be used for prediction intervals \n",
    "with the \"extra\" argument).\n",
    "\n",
    "This exercise shows the calculations that R \n",
    "is doing under the hood: the function *predict*\n",
    "is generally going to be fine for our\n",
    "purposes.\n"
   ]
  },
  {
   "cell_type": "code",
   "execution_count": 74,
   "metadata": {
    "collapsed": true
   },
   "outputs": [],
   "source": [
    "# from previous cells\n",
    "def ci_calculator(res, exog, level=0.95, extra=0):\n",
    "    \n",
    "    # the center of the confidence interval\n",
    "    predicted = np.sum(list(new_point.values()) * prostate_res.params.values)\n",
    "\n",
    "    # the estimate of sigma^2\n",
    "    sigma_squared = np.sum(res.resid ** 2) / res.df_resid\n",
    "    \n",
    "    covb = res.cov_params()\n",
    "    # the S.E.\n",
    "    var = extra * sigma_squared + np.sum((exog @ covb.values) * exog) \n",
    "    se = np.sqrt(var)\n",
    "    print(\"se     : \", se)\n",
    "\n",
    "    #https://github.com/statsmodels/statsmodels/blob/master/statsmodels/sandbox/regression/predstd.py\n",
    "    # https://github.com/statsmodels/statsmodels/blob/master/statsmodels/regression/_prediction.py\n",
    "    \n",
    "    # full covariance,  obs==True\n",
    "    predvar = res.mse_resid/1 + np.diag(np.dot(np.atleast_2d(exog), np.dot(covb, np.atleast_2d(exog).T)))\n",
    "    print(\"full predvar: \", predvar.item())\n",
    "    \n",
    "    # prediction variance only, obs==True\n",
    "    predvar = res.mse_resid/1 + (np.atleast_2d(exog) * np.dot(covb, np.atleast_2d(exog).T).T).sum(1)\n",
    "    print(\"prediction predvar: \", predvar.item())\n",
    "    \n",
    "    # statsmodels chose predication variance, obs==True\n",
    "    predstd = np.sqrt(predvar)\n",
    "    print(\"predstd: \", predstd.item())\n",
    "\n",
    "    # se with obs==False \n",
    "    predvar_mean = (np.atleast_2d(exog) * np.dot(covb, np.atleast_2d(exog).T).T).sum(1)\n",
    "    print(\"prediction predvar, obs==False: \", predvar_mean.item())\n",
    "    predstd_mean = np.sqrt(predvar_mean)\n",
    "    print(\"predstd, obs==False: \", predstd_mean.item())\n",
    "    print(\"same as se from above: \", se)\n",
    "    \n",
    "    # t\n",
    "    tppf = stats.t.ppf(1 - (1 - level)/2.0, res.df_resid)\n",
    "    \n",
    "    # mean_ci_upper\n",
    "    mean_ci_upper = predicted + tppf * se\n",
    "    # mean_ci_lower\n",
    "    mean_ci_lower = predicted - tppf * se\n",
    "    # obs_ci_upper\n",
    "    obs_ci_upper = predicted + tppf * predstd.item()\n",
    "    # obs_ci_lower\n",
    "    obs_ci_lower = predicted - tppf * predstd.item()\n",
    "    return predicted, mean_ci_upper, mean_ci_lower, obs_ci_upper, obs_ci_lower"
   ]
  },
  {
   "cell_type": "code",
   "execution_count": 75,
   "metadata": {
    "collapsed": false
   },
   "outputs": [
    {
     "name": "stdout",
     "output_type": "stream",
     "text": [
      "se     :  0.07101959477331972\n",
      "full predvar:  0.4893983666670707\n",
      "prediction predvar:  0.4893983666670707\n",
      "predstd:  0.6995701299134138\n",
      "prediction predvar, obs==False:  0.005043782841766553\n",
      "predstd, obs==False:  0.0710195947733198\n",
      "same as se from above:  0.07101959477331972\n"
     ]
    }
   ],
   "source": [
    "mean, mean_ci_upper, mean_ci_lower, obs_ci_upper, obs_ci_lower = ci_calculator(prostate_res, \n",
    "                                         exog=list(new_point.values()))"
   ]
  },
  {
   "cell_type": "code",
   "execution_count": 76,
   "metadata": {
    "collapsed": false
   },
   "outputs": [
    {
     "data": {
      "text/plain": [
       "2.4223323042372042"
      ]
     },
     "execution_count": 76,
     "metadata": {},
     "output_type": "execute_result"
    }
   ],
   "source": [
    "mean"
   ]
  },
  {
   "cell_type": "code",
   "execution_count": 77,
   "metadata": {
    "collapsed": false
   },
   "outputs": [
    {
     "data": {
      "text/plain": [
       "2.563446726289947"
      ]
     },
     "execution_count": 77,
     "metadata": {},
     "output_type": "execute_result"
    }
   ],
   "source": [
    "mean_ci_upper"
   ]
  },
  {
   "cell_type": "code",
   "execution_count": 78,
   "metadata": {
    "collapsed": false
   },
   "outputs": [
    {
     "data": {
      "text/plain": [
       "2.2812178821844613"
      ]
     },
     "execution_count": 78,
     "metadata": {},
     "output_type": "execute_result"
    }
   ],
   "source": [
    "mean_ci_lower"
   ]
  },
  {
   "cell_type": "code",
   "execution_count": 79,
   "metadata": {
    "collapsed": false
   },
   "outputs": [
    {
     "data": {
      "text/plain": [
       "3.8123632510932968"
      ]
     },
     "execution_count": 79,
     "metadata": {},
     "output_type": "execute_result"
    }
   ],
   "source": [
    "obs_ci_upper"
   ]
  },
  {
   "cell_type": "code",
   "execution_count": 80,
   "metadata": {
    "collapsed": false
   },
   "outputs": [
    {
     "data": {
      "text/plain": [
       "1.0323013573811115"
      ]
     },
     "execution_count": 80,
     "metadata": {},
     "output_type": "execute_result"
    }
   ],
   "source": [
    "obs_ci_lower"
   ]
  },
  {
   "cell_type": "code",
   "execution_count": 81,
   "metadata": {
    "collapsed": false
   },
   "outputs": [
    {
     "data": {
      "text/html": [
       "<div>\n",
       "<style scoped>\n",
       "    .dataframe tbody tr th:only-of-type {\n",
       "        vertical-align: middle;\n",
       "    }\n",
       "\n",
       "    .dataframe tbody tr th {\n",
       "        vertical-align: top;\n",
       "    }\n",
       "\n",
       "    .dataframe thead th {\n",
       "        text-align: right;\n",
       "    }\n",
       "</style>\n",
       "<table border=\"1\" class=\"dataframe\">\n",
       "  <thead>\n",
       "    <tr style=\"text-align: right;\">\n",
       "      <th></th>\n",
       "      <th>mean</th>\n",
       "      <th>mean_se</th>\n",
       "      <th>mean_ci_lower</th>\n",
       "      <th>mean_ci_upper</th>\n",
       "      <th>obs_ci_lower</th>\n",
       "      <th>obs_ci_upper</th>\n",
       "    </tr>\n",
       "  </thead>\n",
       "  <tbody>\n",
       "    <tr>\n",
       "      <th>0</th>\n",
       "      <td>2.422332</td>\n",
       "      <td>0.07102</td>\n",
       "      <td>2.281218</td>\n",
       "      <td>2.563447</td>\n",
       "      <td>1.032301</td>\n",
       "      <td>3.812363</td>\n",
       "    </tr>\n",
       "  </tbody>\n",
       "</table>\n",
       "</div>"
      ],
      "text/plain": [
       "       mean  mean_se  mean_ci_lower  mean_ci_upper  obs_ci_lower  obs_ci_upper\n",
       "0  2.422332  0.07102       2.281218       2.563447      1.032301      3.812363"
      ]
     },
     "execution_count": 81,
     "metadata": {},
     "output_type": "execute_result"
    }
   ],
   "source": [
    "exogs=pd.DataFrame(data=[new_point.values()], columns=new_point.keys())\n",
    "prostate_res.get_prediction(exog=exogs).summary_frame(alpha=0.05)"
   ]
  },
  {
   "cell_type": "markdown",
   "metadata": {},
   "source": [
    "## Arbitrary contrasts\n",
    "\n",
    "If we want, we can set the intercept term to 0. This allows us to construct confidence interval for, say, how much the `lpsa` score will change will increase if we change `age` by 2 years and `svi` by 0.5 units, leaving everything else unchanged. \n",
    "\n",
    "Therefore, what we want is a confidence interval for 2 times the coefficient of `age` + 0.5 times the coefficient of `lbph`:\n",
    "$$\n",
    "2 \\cdot \\beta_{\\tt age} + 0.5  \\cdot \\beta_{\\tt svi}\n",
    "$$\n",
    "\n",
    "Most of the time, *predict* will do what you want so this \n",
    "won't be used too often.\n",
    "\n"
   ]
  },
  {
   "cell_type": "code",
   "execution_count": 82,
   "metadata": {
    "collapsed": false
   },
   "outputs": [
    {
     "data": {
      "text/html": [
       "<div>\n",
       "<style scoped>\n",
       "    .dataframe tbody tr th:only-of-type {\n",
       "        vertical-align: middle;\n",
       "    }\n",
       "\n",
       "    .dataframe tbody tr th {\n",
       "        vertical-align: top;\n",
       "    }\n",
       "\n",
       "    .dataframe thead th {\n",
       "        text-align: right;\n",
       "    }\n",
       "</style>\n",
       "<table border=\"1\" class=\"dataframe\">\n",
       "  <thead>\n",
       "    <tr style=\"text-align: right;\">\n",
       "      <th></th>\n",
       "      <th>mean</th>\n",
       "      <th>mean_se</th>\n",
       "      <th>mean_ci_lower</th>\n",
       "      <th>mean_ci_upper</th>\n",
       "      <th>obs_ci_lower</th>\n",
       "      <th>obs_ci_upper</th>\n",
       "    </tr>\n",
       "  </thead>\n",
       "  <tbody>\n",
       "    <tr>\n",
       "      <th>0</th>\n",
       "      <td>0.828526</td>\n",
       "      <td>0.874613</td>\n",
       "      <td>-0.909311</td>\n",
       "      <td>2.566364</td>\n",
       "      <td>-1.392363</td>\n",
       "      <td>3.049416</td>\n",
       "    </tr>\n",
       "  </tbody>\n",
       "</table>\n",
       "</div>"
      ],
      "text/plain": [
       "       mean   mean_se  mean_ci_lower  mean_ci_upper  obs_ci_lower  \\\n",
       "0  0.828526  0.874613      -0.909311       2.566364     -1.392363   \n",
       "\n",
       "   obs_ci_upper  \n",
       "0      3.049416  "
      ]
     },
     "execution_count": 82,
     "metadata": {},
     "output_type": "execute_result"
    }
   ],
   "source": [
    "new_point_two = dict(intercept=0, lcavol=0, lweight=0, age=2, lbph=0, svi=0.5, lcp=0, pgg45=0)\n",
    "exogs=pd.DataFrame(data=[new_point_two.values()], columns=new_point_two.keys())\n",
    "prostate_res.get_prediction(exog=exogs).summary_frame(alpha=0.05)"
   ]
  },
  {
   "cell_type": "markdown",
   "metadata": {},
   "source": [
    "## Questions about many (combinations) of $\\beta_j$â€™s\n",
    "\n",
    "-   In multiple regression we can ask more complicated questions than in\n",
    "    simple regression.\n",
    "\n",
    "-   For instance, we could ask whether `lcp` and `pgg45` \n",
    "explains little of the variability in the data, and might be dropped\n",
    "from the regression model.\n",
    "\n",
    "-   These questions can be answered answered by $F$-statistics.\n",
    "\n",
    "- **Note: This hypothesis should really be formed *before* looking at the output of\n",
    "`summary`.**\n",
    "\n",
    "- Later we'll see some examples of the messiness when forming a hypothesis after seeing\n",
    "the `summary`...\n"
   ]
  },
  {
   "cell_type": "markdown",
   "metadata": {},
   "source": [
    "## Dropping one or more variables\n",
    "\n",
    "-   Suppose we wanted to test the above hypothesis\n",
    "    Formally, the null hypothesis is: $$ H_0: \\beta_{\\tt lcp} (=\\beta_6) =\\beta_{\\tt pgg45} (=\\beta_7) =0$$\n",
    "    and the alternative is\n",
    "    $$\n",
    "    H_a = \\text{one of $ \\beta_{\\tt lcp},\\beta_{\\tt pgg45}$ is not 0}. \n",
    "    $$\n",
    "\n",
    "-   This test is an $F$-test based on two models $$\\begin{aligned}\n",
    "       Full: Y_i &= \\beta_0 + \\sum_{j=1}^7  X_{ij} \\beta_j + \\varepsilon_i \\\\\n",
    "       Reduced: Y_i &= \\beta_0 + \\sum_{j=1}^5 \\beta_j X_{ij} + \\varepsilon_i \\\\\n",
    "       \\end{aligned}$$\n",
    "\n",
    "-   **Note:    The reduced model $R$ must be a special case of the full model $F$\n",
    "    to use the $F$-test. **"
   ]
  },
  {
   "cell_type": "markdown",
   "metadata": {},
   "source": [
    "## $SSE$ of a model\n",
    "\n",
    "-   In the graphic, a â€œmodelâ€, ${\\cal M}$ is a subspace of\n",
    "    $\\mathbb{R}^n$ (e.g. column space of ${X}$).\n",
    "\n",
    "-   Least squares fit = projection onto the subspace of ${\\cal M}$,\n",
    "    yielding predicted values $\\widehat{Y}_{{\\cal M}}$\n",
    "\n",
    "-   Error sum of squares:\n",
    "    $$SSE({\\cal M}) = \\|Y - \\widehat{Y}_{{\\cal M}}\\|^2.$$\n",
    "\n",
    "\n",
    "\n",
    "## $F$-statistic for $H_0:\\beta_{\\tt lcp}=\\beta_{\\tt pgg45}=0$\n",
    "\n",
    "-   We compute the $F$ statistic the same to compare any models\n",
    "     $$\\begin{aligned}\n",
    "       F &=\\frac{\\frac{SSE(R) - SSE(F)}{2}}{\\frac{SSE(F)}{n-1-p}} \\\\\n",
    "       & \\sim F_{2, n-p-1}       \\qquad   (\\text{if $H_0$ is true})\n",
    "       \\end{aligned}$$\n",
    "\n",
    "-   Reject $H_0$ at level $\\alpha$ if $F > F_{1-\\alpha, 2, n-1-p}$.\n",
    "\n",
    "\n",
    "When comparing two models, one a special case of the other (i.e. \n",
    "one nested in the other), we can test if the smaller\n",
    "model (the special case) is roughly as good as the \n",
    "larger model in describing our outcome. This is typically\n",
    "tested using an *F* test based on comparing\n",
    "the two models. The following function does this."
   ]
  },
  {
   "cell_type": "code",
   "execution_count": 83,
   "metadata": {
    "collapsed": true
   },
   "outputs": [],
   "source": [
    "def f_test_lm (reduced_res, full_res):\n",
    "    SSE_reduced = np.sum((reduced_res.resid**2))\n",
    "    SSE_full = np.sum((full_res.resid**2).sum())\n",
    "    \n",
    "    df_num = reduced_res.df_resid - full_res.df_resid\n",
    "    df_den = full_res.df_resid\n",
    "    \n",
    "    f_stat = ((SSE_reduced - SSE_full) / df_num ) / (SSE_full / df_den)\n",
    "    p_value = 1 - stats.f.cdf(f_stat, df_num, df_den)\n",
    "    \n",
    "    d = {'F-stat':f_stat,'df_num':df_num,'df_den':df_den,'p_value':p_value}\n",
    "    result = pd.DataFrame(d, index = [0], columns= [\"F-stat\", \"df_num\", \"df_den\", \"p_value\"])\n",
    "    return result"
   ]
  },
  {
   "cell_type": "code",
   "execution_count": 84,
   "metadata": {
    "collapsed": false
   },
   "outputs": [
    {
     "name": "stdout",
     "output_type": "stream",
     "text": [
      "     F-stat  df_num  df_den   p_value\n",
      "0  1.372057     2.0    89.0  0.258896\n"
     ]
    }
   ],
   "source": [
    "reduced_formula = 'lpsa ~ lcavol + lbph + lweight + age + svi'\n",
    "prostate_res_reduced = ols(reduced_formula, data=data).fit()\n",
    "print(f_test_lm(prostate_res_reduced, prostate_res))"
   ]
  },
  {
   "cell_type": "code",
   "execution_count": 85,
   "metadata": {
    "collapsed": true
   },
   "outputs": [],
   "source": [
    "from statsmodels.stats.anova import anova_lm"
   ]
  },
  {
   "cell_type": "code",
   "execution_count": 86,
   "metadata": {
    "collapsed": false
   },
   "outputs": [
    {
     "name": "stderr",
     "output_type": "stream",
     "text": [
      "/home/doojung/anaconda3/lib/python3.6/site-packages/scipy/stats/_distn_infrastructure.py:875: RuntimeWarning: invalid value encountered in greater\n",
      "  return (self.a < x) & (x < self.b)\n",
      "/home/doojung/anaconda3/lib/python3.6/site-packages/scipy/stats/_distn_infrastructure.py:875: RuntimeWarning: invalid value encountered in less\n",
      "  return (self.a < x) & (x < self.b)\n",
      "/home/doojung/anaconda3/lib/python3.6/site-packages/scipy/stats/_distn_infrastructure.py:1814: RuntimeWarning: invalid value encountered in less_equal\n",
      "  cond2 = cond0 & (x <= self.a)\n"
     ]
    },
    {
     "data": {
      "text/html": [
       "<div>\n",
       "<style scoped>\n",
       "    .dataframe tbody tr th:only-of-type {\n",
       "        vertical-align: middle;\n",
       "    }\n",
       "\n",
       "    .dataframe tbody tr th {\n",
       "        vertical-align: top;\n",
       "    }\n",
       "\n",
       "    .dataframe thead th {\n",
       "        text-align: right;\n",
       "    }\n",
       "</style>\n",
       "<table border=\"1\" class=\"dataframe\">\n",
       "  <thead>\n",
       "    <tr style=\"text-align: right;\">\n",
       "      <th></th>\n",
       "      <th>df_resid</th>\n",
       "      <th>ssr</th>\n",
       "      <th>df_diff</th>\n",
       "      <th>ss_diff</th>\n",
       "      <th>F</th>\n",
       "      <th>Pr(&gt;F)</th>\n",
       "    </tr>\n",
       "  </thead>\n",
       "  <tbody>\n",
       "    <tr>\n",
       "      <th>0</th>\n",
       "      <td>91.0</td>\n",
       "      <td>44.436682</td>\n",
       "      <td>0.0</td>\n",
       "      <td>NaN</td>\n",
       "      <td>NaN</td>\n",
       "      <td>NaN</td>\n",
       "    </tr>\n",
       "    <tr>\n",
       "      <th>1</th>\n",
       "      <td>89.0</td>\n",
       "      <td>43.107558</td>\n",
       "      <td>2.0</td>\n",
       "      <td>1.329124</td>\n",
       "      <td>1.372057</td>\n",
       "      <td>0.258896</td>\n",
       "    </tr>\n",
       "  </tbody>\n",
       "</table>\n",
       "</div>"
      ],
      "text/plain": [
       "   df_resid        ssr  df_diff   ss_diff         F    Pr(>F)\n",
       "0      91.0  44.436682      0.0       NaN       NaN       NaN\n",
       "1      89.0  43.107558      2.0  1.329124  1.372057  0.258896"
      ]
     },
     "execution_count": 86,
     "metadata": {},
     "output_type": "execute_result"
    }
   ],
   "source": [
    "anova_lm(prostate_res_reduced, prostate_res)"
   ]
  },
  {
   "cell_type": "markdown",
   "metadata": {},
   "source": [
    "## Dropping an arbitrary subset\n",
    "\n",
    "- For an arbitrary model, suppose we want to test\n",
    "   $$    \\begin{aligned}\n",
    "   H_0:&\\beta_{i_1}=\\dots=\\beta_{i_j}=0 \\\\\n",
    "   H_a:& \\text{one or more of $\\beta_{i_1}, \\dots \\beta_{i_j} \\neq 0$}\n",
    "   \\end{aligned}\n",
    "   $$\n",
    "   for some subset $\\{i_1, \\dots, i_j\\} \\subset \\{0, \\dots, p\\}$.\n",
    "   \n",
    "-   You guessed it: it is based on the two models: $$\\begin{aligned}\n",
    "       R: Y_i &= \\sum_{l=0, l \\not \\in \\{i_1, \\dots, i_j\\}}^p \\beta_l X_{il} + \\varepsilon_i \\\\\n",
    "       F: Y_i &=  \\sum_{l=0}^p \\beta_l X_{il} + \\varepsilon_i \\\\\n",
    "       \\end{aligned}$$ where $X_{i0}=1$ for all $i$.\n",
    "\n",
    "- **Note: This hypothesis should really be formed *before* looking at the output of\n",
    "`summary`. Looking at `summary` before deciding which to drop is problematic!**\n",
    "\n",
    " ## Dropping an arbitrary subset\n",
    " \n",
    " - Statistic: $$\n",
    "   \\begin{aligned}\n",
    "   F &=\\frac{\\frac{SSE(R) - SSE(F)}{j}}{\\frac{SSE(F)}{n-p-1}} \\\\\n",
    "   & \\sim F_{j, n-p-1}     \\qquad    (\\text{if $H_0$ is true})\n",
    "   \\end{aligned}\n",
    "   $$\n",
    "   \n",
    " - Reject $H_0$ at level $\\alpha$ if $F > F_{1-\\alpha, j, n-1-p}$.\n"
   ]
  },
  {
   "cell_type": "markdown",
   "metadata": {},
   "source": [
    "## General $F$-tests\n",
    "\n",
    "-   Given two models $R \\subset F$ (i.e. $R$ is a subspace of $F$), we\n",
    "    can consider testing $$  H_0: \\text{$R$ is adequate (i.e. $\\mathbb{E}(Y) \\in R$)} $$ vs. $$ H_a: \\text{$F$ is adequate (i.e. $\\mathbb{E}(Y) \\in F$)}\n",
    "    $$\n",
    "    \n",
    "    - The test statistic is $$  F = \\frac{(SSE(R) - SSE(F)) / (df_R - df_F)}{SSE(F)/df_F} $$\n",
    "\n",
    "-   If $H_0$ is true, $F \\sim F_{df_R-df_F, df_F}$ so we reject $H_0$ at\n",
    "    level $\\alpha$ if $F > F_{1-\\alpha, df_R-df_F, df_F}$.\n",
    "\n",
    "\n",
    "## Constraining $\\beta_{\\tt lcavol}=\\beta_{\\tt svi}$ \n",
    "\n",
    "In this example, we might suppose that the\n",
    "coefficients for `lcavol` and `svi` are the same\n",
    "and want to test this. We do this, again, by\n",
    "comparing a \"full model\" and a \"reduced model\".\n",
    "\n",
    "\n",
    "\n",
    "-   Full model:\n",
    "    $$\\begin{aligned}\n",
    "    Y_i &= \\beta_0 + \\beta_1 X_{i,{\\tt lcavol}}  + \\beta_2 X_{i,{\\tt lweight}} + \\beta_3 X_{i, {\\tt age}} \\\\\n",
    "    & \\qquad+ \\beta_4 X_{i,{\\tt lbph}} + \\beta_5 X_{i, {\\tt svi}} + \\beta_6  X_{i, {\\tt lcp}} + \\beta_7 X_{i, {\\tt pgg45}} + \\varepsilon_i\n",
    "    \\end{aligned}\n",
    "    $$\n",
    "\n",
    "-   Reduced model: \n",
    "$$\\begin{aligned}\n",
    "    Y_i &= \\beta_0 + \\tilde{\\beta}_1 X_{i,{\\tt lcavol}}  + \\beta_2 X_{i,{\\tt lweight}} + \\beta_3 X_{i, {\\tt age}} \\\\\n",
    "    & \\qquad+ \\beta_4 X_{i,{\\tt lbph}} + \\tilde{\\beta}_1 X_{i, {\\tt svi}} + \\beta_6  X_{i, {\\tt lcp}} + \\beta_7 X_{i, {\\tt pgg45}} + \\varepsilon_i\n",
    "    \\end{aligned}\n",
    "    $$"
   ]
  },
  {
   "cell_type": "code",
   "execution_count": 87,
   "metadata": {
    "collapsed": false
   },
   "outputs": [
    {
     "name": "stdout",
     "output_type": "stream",
     "text": [
      "     F-stat  df_num  df_den   p_value\n",
      "0  0.481866     1.0    89.0  0.489386\n"
     ]
    }
   ],
   "source": [
    "data['Z'] = data.lcavol + data.svi\n",
    "\n",
    "# add Z, remove lcavol and svi from the formula\n",
    "formula_equal = 'lpsa ~ Z + lweight + age + lbph + lcp + pgg45'\n",
    "prostate_res_equal = ols(formula_equal, data=data).fit()\n",
    "print(f_test_lm(prostate_res_equal, prostate_res) )"
   ]
  },
  {
   "cell_type": "code",
   "execution_count": 88,
   "metadata": {
    "collapsed": false
   },
   "outputs": [
    {
     "name": "stderr",
     "output_type": "stream",
     "text": [
      "/home/doojung/anaconda3/lib/python3.6/site-packages/scipy/stats/_distn_infrastructure.py:875: RuntimeWarning: invalid value encountered in greater\n",
      "  return (self.a < x) & (x < self.b)\n",
      "/home/doojung/anaconda3/lib/python3.6/site-packages/scipy/stats/_distn_infrastructure.py:875: RuntimeWarning: invalid value encountered in less\n",
      "  return (self.a < x) & (x < self.b)\n",
      "/home/doojung/anaconda3/lib/python3.6/site-packages/scipy/stats/_distn_infrastructure.py:1814: RuntimeWarning: invalid value encountered in less_equal\n",
      "  cond2 = cond0 & (x <= self.a)\n"
     ]
    },
    {
     "data": {
      "text/html": [
       "<div>\n",
       "<style scoped>\n",
       "    .dataframe tbody tr th:only-of-type {\n",
       "        vertical-align: middle;\n",
       "    }\n",
       "\n",
       "    .dataframe tbody tr th {\n",
       "        vertical-align: top;\n",
       "    }\n",
       "\n",
       "    .dataframe thead th {\n",
       "        text-align: right;\n",
       "    }\n",
       "</style>\n",
       "<table border=\"1\" class=\"dataframe\">\n",
       "  <thead>\n",
       "    <tr style=\"text-align: right;\">\n",
       "      <th></th>\n",
       "      <th>df_resid</th>\n",
       "      <th>ssr</th>\n",
       "      <th>df_diff</th>\n",
       "      <th>ss_diff</th>\n",
       "      <th>F</th>\n",
       "      <th>Pr(&gt;F)</th>\n",
       "    </tr>\n",
       "  </thead>\n",
       "  <tbody>\n",
       "    <tr>\n",
       "      <th>0</th>\n",
       "      <td>90.0</td>\n",
       "      <td>43.340952</td>\n",
       "      <td>0.0</td>\n",
       "      <td>NaN</td>\n",
       "      <td>NaN</td>\n",
       "      <td>NaN</td>\n",
       "    </tr>\n",
       "    <tr>\n",
       "      <th>1</th>\n",
       "      <td>89.0</td>\n",
       "      <td>43.107558</td>\n",
       "      <td>1.0</td>\n",
       "      <td>0.233394</td>\n",
       "      <td>0.481866</td>\n",
       "      <td>0.489386</td>\n",
       "    </tr>\n",
       "  </tbody>\n",
       "</table>\n",
       "</div>"
      ],
      "text/plain": [
       "   df_resid        ssr  df_diff   ss_diff         F    Pr(>F)\n",
       "0      90.0  43.340952      0.0       NaN       NaN       NaN\n",
       "1      89.0  43.107558      1.0  0.233394  0.481866  0.489386"
      ]
     },
     "execution_count": 88,
     "metadata": {},
     "output_type": "execute_result"
    }
   ],
   "source": [
    "anova_lm(prostate_res_equal, prostate_res)"
   ]
  },
  {
   "cell_type": "markdown",
   "metadata": {},
   "source": [
    "## Constraining $\\beta_{\\tt lcavol}+\\beta_{\\tt svi}=1$ \n",
    "\n",
    "-   Full model:\n",
    "$$\\begin{aligned}\n",
    "    Y_i &= \\beta_0 + \\beta_1 X_{i,{\\tt lcavol}}  + \\beta_2 X_{i,{\\tt lweight}} + \\beta_3 X_{i, {\\tt age}} \\\\\n",
    "    & \\qquad+ \\beta_4 X_{i,{\\tt lbph}} + \\beta_5 X_{i, {\\tt svi}} + \\beta_6  X_{i, {\\tt lcp}} + \\beta_7 X_{i, {\\tt pgg45}} + \\varepsilon_i\n",
    "    \\end{aligned}\n",
    "    $$\n",
    "\n",
    "-   Reduced model: \n",
    "    $$\\begin{aligned}\n",
    "    Y_i &= \\beta_0 + \\tilde{\\beta}_1 X_{i,{\\tt lcavol}}  + \\beta_2 X_{i,{\\tt lweight}} + \\beta_3 X_{i, {\\tt age}} \\\\\n",
    "    & \\qquad+ \\beta_4 X_{i,{\\tt lbph}} + (1 - \\tilde{\\beta}_1) X_{i, {\\tt svi}} + \\beta_6  X_{i, {\\tt lcp}} + \\beta_7 X_{i, {\\tt pgg45}} + \\varepsilon_i\n",
    "    \\end{aligned}\n",
    "    $$"
   ]
  },
  {
   "cell_type": "code",
   "execution_count": 89,
   "metadata": {
    "collapsed": false
   },
   "outputs": [
    {
     "name": "stdout",
     "output_type": "stream",
     "text": [
      "     F-stat  df_num  df_den  p_value\n",
      "0  1.762322     1.0    89.0  0.18773\n"
     ]
    }
   ],
   "source": [
    "data['Z2'] = data.lcavol - data.svi\n",
    "# in R, offset=svi => substracts this vector from Y before fitting\n",
    "data['lpsa2'] = data.lpsa - data.svi #manually subtracting from Y\n",
    "\n",
    "# add Z, remove lcavol and svi from the formula\n",
    "formula_sum = 'lpsa2 ~ Z2 + lweight + age + lbph + lcp + pgg45'\n",
    "prostate_res_sum = ols(formula_sum, data=data).fit()\n",
    "print(f_test_lm(prostate_res_sum, prostate_res) )"
   ]
  },
  {
   "cell_type": "code",
   "execution_count": 90,
   "metadata": {
    "collapsed": false
   },
   "outputs": [
    {
     "name": "stderr",
     "output_type": "stream",
     "text": [
      "/home/doojung/anaconda3/lib/python3.6/site-packages/scipy/stats/_distn_infrastructure.py:875: RuntimeWarning: invalid value encountered in greater\n",
      "  return (self.a < x) & (x < self.b)\n",
      "/home/doojung/anaconda3/lib/python3.6/site-packages/scipy/stats/_distn_infrastructure.py:875: RuntimeWarning: invalid value encountered in less\n",
      "  return (self.a < x) & (x < self.b)\n",
      "/home/doojung/anaconda3/lib/python3.6/site-packages/scipy/stats/_distn_infrastructure.py:1814: RuntimeWarning: invalid value encountered in less_equal\n",
      "  cond2 = cond0 & (x <= self.a)\n"
     ]
    },
    {
     "data": {
      "text/html": [
       "<div>\n",
       "<style scoped>\n",
       "    .dataframe tbody tr th:only-of-type {\n",
       "        vertical-align: middle;\n",
       "    }\n",
       "\n",
       "    .dataframe tbody tr th {\n",
       "        vertical-align: top;\n",
       "    }\n",
       "\n",
       "    .dataframe thead th {\n",
       "        text-align: right;\n",
       "    }\n",
       "</style>\n",
       "<table border=\"1\" class=\"dataframe\">\n",
       "  <thead>\n",
       "    <tr style=\"text-align: right;\">\n",
       "      <th></th>\n",
       "      <th>df_resid</th>\n",
       "      <th>ssr</th>\n",
       "      <th>df_diff</th>\n",
       "      <th>ss_diff</th>\n",
       "      <th>F</th>\n",
       "      <th>Pr(&gt;F)</th>\n",
       "    </tr>\n",
       "  </thead>\n",
       "  <tbody>\n",
       "    <tr>\n",
       "      <th>0</th>\n",
       "      <td>90.0</td>\n",
       "      <td>43.961146</td>\n",
       "      <td>0.0</td>\n",
       "      <td>NaN</td>\n",
       "      <td>NaN</td>\n",
       "      <td>NaN</td>\n",
       "    </tr>\n",
       "    <tr>\n",
       "      <th>1</th>\n",
       "      <td>89.0</td>\n",
       "      <td>43.107558</td>\n",
       "      <td>1.0</td>\n",
       "      <td>0.853589</td>\n",
       "      <td>1.762322</td>\n",
       "      <td>0.18773</td>\n",
       "    </tr>\n",
       "  </tbody>\n",
       "</table>\n",
       "</div>"
      ],
      "text/plain": [
       "   df_resid        ssr  df_diff   ss_diff         F   Pr(>F)\n",
       "0      90.0  43.961146      0.0       NaN       NaN      NaN\n",
       "1      89.0  43.107558      1.0  0.853589  1.762322  0.18773"
      ]
     },
     "execution_count": 90,
     "metadata": {},
     "output_type": "execute_result"
    }
   ],
   "source": [
    "anova_lm(prostate_res_sum, prostate_res)"
   ]
  },
  {
   "cell_type": "markdown",
   "metadata": {},
   "source": [
    "## General linear hypothesis\n",
    "\n",
    "An alternative version of the $F$ test can be derived that does not require\n",
    "refitting a model.\n",
    "\n",
    "Suppose we want to test $$H_0:C_{q \\times (p+1)}\\beta_{(p+1) \\times 1} = h$$ vs.\n",
    "$$\n",
    "H_a :C_{q \\times (p+1)}\\beta_{(p+1) \\times 1} \\neq h.\n",
    "$$\n",
    "\n",
    "This can be tested via an $F$ test:\n",
    "$$\n",
    "F = \\frac{(C\\hat{\\beta}-h)^T \\left(C(X^TX)^{-1}C^T \\right)^{-1} (C\\hat{\\beta}-h) / q}{SSE(F) / df_F} \\overset{H_0}{\\sim} F_{q, n-p-1}.\n",
    "$$\n",
    "\n",
    "**Note: we are assuming that $\\text{rank}(C(X^TX)^{-1}C^T)=q$.**\n",
    "\n",
    "\n",
    "Here's a function that implements this computation."
   ]
  },
  {
   "cell_type": "code",
   "execution_count": 91,
   "metadata": {
    "collapsed": true
   },
   "outputs": [],
   "source": [
    "def general_linear(model_res, linear_part, null_value=0):\n",
    "    # shorthand\n",
    "    \n",
    "    C = linear_part\n",
    "    b = null_value\n",
    "    \n",
    "    beta_hat = model_res.params\n",
    "    V = C @ beta_hat.values - null_value\n",
    "    covb = model_res.cov_params()\n",
    "    invcovV = np.linalg.inv(C @ covb.values @ C.T) \n",
    "    # the MSE is included in vcov\n",
    "    \n",
    "    df_num = C.shape[0]\n",
    "    df_den = model_res.df_resid\n",
    "    \n",
    "    f_stat = V.T @ invcovV @ V / df_num\n",
    "    \n",
    "    p_value = 1 - stats.f.cdf(f_stat, df_num, df_den)\n",
    "    \n",
    "    d = {'F-stat':f_stat,'df_num':df_num,'df_den':df_den,'p_value':p_value}\n",
    "    result = pd.DataFrame(d, index = [0], columns= [\"F-stat\", \"df_num\", \"df_den\", \"p_value\"])\n",
    "\n",
    "    return result"
   ]
  },
  {
   "cell_type": "markdown",
   "metadata": {},
   "source": [
    "Let's test verify this work with our test for testing $\\beta_{\\tt lcp}=\\beta_{\\tt pgg45}=0$."
   ]
  },
  {
   "cell_type": "code",
   "execution_count": 92,
   "metadata": {
    "collapsed": false
   },
   "outputs": [
    {
     "data": {
      "text/plain": [
       "['Intercept', 'lcavol', 'lweight', 'age', 'lbph', 'svi', 'lcp', 'pgg45']"
      ]
     },
     "execution_count": 92,
     "metadata": {},
     "output_type": "execute_result"
    }
   ],
   "source": [
    "prostate_res.model.exog_names"
   ]
  },
  {
   "cell_type": "code",
   "execution_count": 93,
   "metadata": {
    "collapsed": false
   },
   "outputs": [
    {
     "data": {
      "text/plain": [
       "array([[0., 0., 0., 0., 0., 0., 0., 0.],\n",
       "       [0., 0., 0., 0., 0., 0., 0., 0.]])"
      ]
     },
     "execution_count": 93,
     "metadata": {},
     "output_type": "execute_result"
    }
   ],
   "source": [
    "A = np.zeros((2, len(prostate_res.model.exog_names)))\n",
    "A"
   ]
  },
  {
   "cell_type": "code",
   "execution_count": 94,
   "metadata": {
    "collapsed": false
   },
   "outputs": [
    {
     "data": {
      "text/plain": [
       "array([[0., 0., 0., 0., 0., 0., 1., 0.],\n",
       "       [0., 0., 0., 0., 0., 0., 0., 1.]])"
      ]
     },
     "execution_count": 94,
     "metadata": {},
     "output_type": "execute_result"
    }
   ],
   "source": [
    "A[0,6] = 1\n",
    "A[1,7] = 1\n",
    "A"
   ]
  },
  {
   "cell_type": "code",
   "execution_count": 96,
   "metadata": {
    "collapsed": false
   },
   "outputs": [
    {
     "data": {
      "text/html": [
       "<div>\n",
       "<style scoped>\n",
       "    .dataframe tbody tr th:only-of-type {\n",
       "        vertical-align: middle;\n",
       "    }\n",
       "\n",
       "    .dataframe tbody tr th {\n",
       "        vertical-align: top;\n",
       "    }\n",
       "\n",
       "    .dataframe thead th {\n",
       "        text-align: right;\n",
       "    }\n",
       "</style>\n",
       "<table border=\"1\" class=\"dataframe\">\n",
       "  <thead>\n",
       "    <tr style=\"text-align: right;\">\n",
       "      <th></th>\n",
       "      <th>F-stat</th>\n",
       "      <th>df_num</th>\n",
       "      <th>df_den</th>\n",
       "      <th>p_value</th>\n",
       "    </tr>\n",
       "  </thead>\n",
       "  <tbody>\n",
       "    <tr>\n",
       "      <th>0</th>\n",
       "      <td>1.372057</td>\n",
       "      <td>2</td>\n",
       "      <td>89.0</td>\n",
       "      <td>0.258896</td>\n",
       "    </tr>\n",
       "  </tbody>\n",
       "</table>\n",
       "</div>"
      ],
      "text/plain": [
       "     F-stat  df_num  df_den   p_value\n",
       "0  1.372057       2    89.0  0.258896"
      ]
     },
     "execution_count": 96,
     "metadata": {},
     "output_type": "execute_result"
    }
   ],
   "source": [
    "general_linear(model_res=prostate_res, linear_part=A)"
   ]
  }
 ],
 "metadata": {
  "kernelspec": {
   "display_name": "Python 3",
   "language": "python",
   "name": "python3"
  },
  "language_info": {
   "codemirror_mode": {
    "name": "ipython",
    "version": 3
   },
   "file_extension": ".py",
   "mimetype": "text/x-python",
   "name": "python",
   "nbconvert_exporter": "python",
   "pygments_lexer": "ipython3",
   "version": "3.6.0"
  }
 },
 "nbformat": 4,
 "nbformat_minor": 2
}

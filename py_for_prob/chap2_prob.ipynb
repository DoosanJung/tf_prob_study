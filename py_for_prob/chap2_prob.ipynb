{
 "cells": [
  {
   "cell_type": "markdown",
   "metadata": {},
   "source": [
    "The code example are modified from below source to confirm my understanding.  \n",
    "Source: [José Unpingco, Python for Probability, Statistics, and Machine Learning](https://www.amazon.com/Python-Probability-Statistics-Machine-Learning/dp/3319307150)"
   ]
  },
  {
   "cell_type": "code",
   "execution_count": 1,
   "metadata": {
    "collapsed": false
   },
   "outputs": [],
   "source": [
    "import numpy as np\n",
    "import pandas as pd\n",
    "from collections import defaultdict\n",
    "from matplotlib import pyplot as plt"
   ]
  },
  {
   "cell_type": "markdown",
   "metadata": {
    "collapsed": true
   },
   "source": [
    "# Random Variables"
   ]
  },
  {
   "cell_type": "markdown",
   "metadata": {},
   "source": [
    "Q. what is the probability that the sum of the dice equals seven? (assume that each throw is independent)"
   ]
  },
  {
   "cell_type": "code",
   "execution_count": 2,
   "metadata": {
    "collapsed": false,
    "scrolled": true
   },
   "outputs": [
    {
     "name": "stdout",
     "output_type": "stream",
     "text": [
      "((1, 1), 2)\n",
      "((1, 2), 3)\n",
      "((1, 3), 4)\n",
      "((1, 4), 5)\n",
      "((1, 5), 6)\n",
      "((1, 6), 7)\n",
      "((2, 1), 3)\n",
      "((2, 2), 4)\n",
      "((2, 3), 5)\n",
      "((2, 4), 6)\n",
      "((2, 5), 7)\n",
      "((2, 6), 8)\n",
      "((3, 1), 4)\n",
      "((3, 2), 5)\n",
      "((3, 3), 6)\n",
      "((3, 4), 7)\n",
      "((3, 5), 8)\n",
      "((3, 6), 9)\n",
      "((4, 1), 5)\n",
      "((4, 2), 6)\n"
     ]
    }
   ],
   "source": [
    "d = {(i, j): i+j for i in range(1, 7) for j in range(1, 7)}\n",
    "res = [print(str(item)) for item in list(d.items())[:20]] #((i, j), i + j)"
   ]
  },
  {
   "cell_type": "code",
   "execution_count": 3,
   "metadata": {
    "collapsed": true
   },
   "outputs": [],
   "source": [
    "def make_dinv(d):\n",
    "    dinv = defaultdict(list)\n",
    "    for i,j in d.items():\n",
    "        dinv[j].append(i)\n",
    "    return dinv"
   ]
  },
  {
   "cell_type": "code",
   "execution_count": 4,
   "metadata": {
    "collapsed": true
   },
   "outputs": [],
   "source": [
    "def calc_prob(n_dices, dinv):\n",
    "    \"\"\"\n",
    "    By virtue of the independence claim, the measure of each is the product of the respective measures of each element.\n",
    "    \"\"\"\n",
    "    denom = 6.0 ** n_dices\n",
    "    return {i: len(j)/denom for i,j in dinv.items()}"
   ]
  },
  {
   "cell_type": "code",
   "execution_count": 5,
   "metadata": {
    "collapsed": true
   },
   "outputs": [],
   "source": [
    "dinv = make_dinv(d)"
   ]
  },
  {
   "cell_type": "code",
   "execution_count": 6,
   "metadata": {
    "collapsed": false
   },
   "outputs": [
    {
     "data": {
      "text/plain": [
       "defaultdict(list,\n",
       "            {2: [(1, 1)],\n",
       "             3: [(1, 2), (2, 1)],\n",
       "             4: [(1, 3), (2, 2), (3, 1)],\n",
       "             5: [(1, 4), (2, 3), (3, 2), (4, 1)],\n",
       "             6: [(1, 5), (2, 4), (3, 3), (4, 2), (5, 1)],\n",
       "             7: [(1, 6), (2, 5), (3, 4), (4, 3), (5, 2), (6, 1)],\n",
       "             8: [(2, 6), (3, 5), (4, 4), (5, 3), (6, 2)],\n",
       "             9: [(3, 6), (4, 5), (5, 4), (6, 3)],\n",
       "             10: [(4, 6), (5, 5), (6, 4)],\n",
       "             11: [(5, 6), (6, 5)],\n",
       "             12: [(6, 6)]})"
      ]
     },
     "execution_count": 6,
     "metadata": {},
     "output_type": "execute_result"
    }
   ],
   "source": [
    "dinv"
   ]
  },
  {
   "cell_type": "code",
   "execution_count": 7,
   "metadata": {
    "collapsed": false
   },
   "outputs": [],
   "source": [
    "x = calc_prob(n_dices=2, dinv=dinv)"
   ]
  },
  {
   "cell_type": "code",
   "execution_count": 8,
   "metadata": {
    "collapsed": false
   },
   "outputs": [
    {
     "data": {
      "text/plain": [
       "{2: 0.027777777777777776,\n",
       " 3: 0.05555555555555555,\n",
       " 4: 0.08333333333333333,\n",
       " 5: 0.1111111111111111,\n",
       " 6: 0.1388888888888889,\n",
       " 7: 0.16666666666666666,\n",
       " 8: 0.1388888888888889,\n",
       " 9: 0.1111111111111111,\n",
       " 10: 0.08333333333333333,\n",
       " 11: 0.05555555555555555,\n",
       " 12: 0.027777777777777776}"
      ]
     },
     "execution_count": 8,
     "metadata": {},
     "output_type": "execute_result"
    }
   ],
   "source": [
    "x"
   ]
  },
  {
   "cell_type": "markdown",
   "metadata": {},
   "source": [
    "Q. what is the probability that half the product of three dice will exceed the their sum?"
   ]
  },
  {
   "cell_type": "code",
   "execution_count": 9,
   "metadata": {
    "collapsed": false
   },
   "outputs": [
    {
     "name": "stdout",
     "output_type": "stream",
     "text": [
      "((1, 1, 1), False)\n",
      "((1, 1, 2), False)\n",
      "((1, 1, 3), False)\n",
      "((1, 1, 4), False)\n",
      "((1, 1, 5), False)\n",
      "((1, 1, 6), False)\n",
      "((1, 2, 1), False)\n",
      "((1, 2, 2), False)\n",
      "((1, 2, 3), False)\n",
      "((1, 2, 4), False)\n",
      "((1, 2, 5), False)\n",
      "((1, 2, 6), False)\n",
      "((1, 3, 1), False)\n",
      "((1, 3, 2), False)\n",
      "((1, 3, 3), False)\n",
      "((1, 3, 4), False)\n",
      "((1, 3, 5), False)\n",
      "((1, 3, 6), False)\n",
      "((1, 4, 1), False)\n",
      "((1, 4, 2), False)\n"
     ]
    }
   ],
   "source": [
    "d_three_dices = {(i,j,k):((i * j * k)/2 > i + j + k) for i in range(1,7) for j in range(1,7) for k in range(1,7)}\n",
    "res = [print(str(item)) for item in list(d_three_dices.items())[:20]]"
   ]
  },
  {
   "cell_type": "code",
   "execution_count": 10,
   "metadata": {
    "collapsed": true
   },
   "outputs": [],
   "source": [
    "dinv_three_dices = make_dinv(d_three_dices)"
   ]
  },
  {
   "cell_type": "code",
   "execution_count": 11,
   "metadata": {
    "collapsed": false,
    "scrolled": false
   },
   "outputs": [],
   "source": [
    "y = calc_prob(n_dices=3, dinv=dinv_three_dices)"
   ]
  },
  {
   "cell_type": "code",
   "execution_count": 12,
   "metadata": {
    "collapsed": false
   },
   "outputs": [
    {
     "data": {
      "text/plain": [
       "{False: 0.37037037037037035, True: 0.6296296296296297}"
      ]
     },
     "execution_count": 12,
     "metadata": {},
     "output_type": "execute_result"
    }
   ],
   "source": [
    "y"
   ]
  },
  {
   "cell_type": "markdown",
   "metadata": {},
   "source": [
    "Q. [**one of them is unfair dice!**] what is the probability that the sum of the dice equals seven? (assume that each throw is independent)"
   ]
  },
  {
   "cell_type": "markdown",
   "metadata": {},
   "source": [
    "For the unfair dice:  \n",
    "* P({1}) = P({2}) = P({3}) = 1/9  \n",
    "* P({4}) = P({5}) = P({6}) = 2/9  \n",
    "\n",
    "For the fair dice:\n",
    "* P({1}) = P({2}) = P({3}) = P({4}) = P({5}) = P({6}) = 1/6"
   ]
  },
  {
   "cell_type": "code",
   "execution_count": 13,
   "metadata": {
    "collapsed": false
   },
   "outputs": [],
   "source": [
    "df = pd.DataFrame(index=[(i,j) for i in range(1,7) for j in range(1,7)], \n",
    "            columns=[\"sum\", \"d1\", \"d2\", \"pd1\", \"pd2\", \"p\"])"
   ]
  },
  {
   "cell_type": "code",
   "execution_count": 14,
   "metadata": {
    "collapsed": false
   },
   "outputs": [],
   "source": [
    "df.d1=[i[0] for i in df.index] # the outcome of the first die (unfair) is the d1 column"
   ]
  },
  {
   "cell_type": "code",
   "execution_count": 15,
   "metadata": {
    "collapsed": true
   },
   "outputs": [],
   "source": [
    "df.d2=[i[1] for i in df.index] # the outcome of the second die (fair) is the d2 column"
   ]
  },
  {
   "cell_type": "code",
   "execution_count": 16,
   "metadata": {
    "collapsed": false
   },
   "outputs": [],
   "source": [
    "df[\"sum\"] = df.index.map(lambda x: x[0] + x[1])"
   ]
  },
  {
   "cell_type": "code",
   "execution_count": 17,
   "metadata": {
    "collapsed": false
   },
   "outputs": [
    {
     "data": {
      "text/html": [
       "<div>\n",
       "<table border=\"1\" class=\"dataframe\">\n",
       "  <thead>\n",
       "    <tr style=\"text-align: right;\">\n",
       "      <th></th>\n",
       "      <th>sum</th>\n",
       "      <th>d1</th>\n",
       "      <th>d2</th>\n",
       "      <th>pd1</th>\n",
       "      <th>pd2</th>\n",
       "      <th>p</th>\n",
       "    </tr>\n",
       "  </thead>\n",
       "  <tbody>\n",
       "    <tr>\n",
       "      <th>(1, 1)</th>\n",
       "      <td>2</td>\n",
       "      <td>1</td>\n",
       "      <td>1</td>\n",
       "      <td>NaN</td>\n",
       "      <td>NaN</td>\n",
       "      <td>NaN</td>\n",
       "    </tr>\n",
       "    <tr>\n",
       "      <th>(1, 2)</th>\n",
       "      <td>3</td>\n",
       "      <td>1</td>\n",
       "      <td>2</td>\n",
       "      <td>NaN</td>\n",
       "      <td>NaN</td>\n",
       "      <td>NaN</td>\n",
       "    </tr>\n",
       "    <tr>\n",
       "      <th>(1, 3)</th>\n",
       "      <td>4</td>\n",
       "      <td>1</td>\n",
       "      <td>3</td>\n",
       "      <td>NaN</td>\n",
       "      <td>NaN</td>\n",
       "      <td>NaN</td>\n",
       "    </tr>\n",
       "    <tr>\n",
       "      <th>(1, 4)</th>\n",
       "      <td>5</td>\n",
       "      <td>1</td>\n",
       "      <td>4</td>\n",
       "      <td>NaN</td>\n",
       "      <td>NaN</td>\n",
       "      <td>NaN</td>\n",
       "    </tr>\n",
       "    <tr>\n",
       "      <th>(1, 5)</th>\n",
       "      <td>6</td>\n",
       "      <td>1</td>\n",
       "      <td>5</td>\n",
       "      <td>NaN</td>\n",
       "      <td>NaN</td>\n",
       "      <td>NaN</td>\n",
       "    </tr>\n",
       "  </tbody>\n",
       "</table>\n",
       "</div>"
      ],
      "text/plain": [
       "        sum  d1  d2  pd1  pd2    p\n",
       "(1, 1)    2   1   1  NaN  NaN  NaN\n",
       "(1, 2)    3   1   2  NaN  NaN  NaN\n",
       "(1, 3)    4   1   3  NaN  NaN  NaN\n",
       "(1, 4)    5   1   4  NaN  NaN  NaN\n",
       "(1, 5)    6   1   5  NaN  NaN  NaN"
      ]
     },
     "execution_count": 17,
     "metadata": {},
     "output_type": "execute_result"
    }
   ],
   "source": [
    "df.head()"
   ]
  },
  {
   "cell_type": "code",
   "execution_count": 18,
   "metadata": {
    "collapsed": false
   },
   "outputs": [],
   "source": [
    "# unfair dice\n",
    "df.loc[df.d1 <= 3,\"pd1\"] = 1/9\n",
    "df.loc[df.d1 > 3, \"pd1\"] = 2/9"
   ]
  },
  {
   "cell_type": "code",
   "execution_count": 19,
   "metadata": {
    "collapsed": false
   },
   "outputs": [],
   "source": [
    "# fair dice\n",
    "df[\"pd2\"] = 1/6."
   ]
  },
  {
   "cell_type": "code",
   "execution_count": 20,
   "metadata": {
    "collapsed": false
   },
   "outputs": [
    {
     "data": {
      "text/html": [
       "<div>\n",
       "<table border=\"1\" class=\"dataframe\">\n",
       "  <thead>\n",
       "    <tr style=\"text-align: right;\">\n",
       "      <th></th>\n",
       "      <th>sum</th>\n",
       "      <th>d1</th>\n",
       "      <th>d2</th>\n",
       "      <th>pd1</th>\n",
       "      <th>pd2</th>\n",
       "      <th>p</th>\n",
       "    </tr>\n",
       "  </thead>\n",
       "  <tbody>\n",
       "    <tr>\n",
       "      <th>(1, 1)</th>\n",
       "      <td>2</td>\n",
       "      <td>1</td>\n",
       "      <td>1</td>\n",
       "      <td>0.111111</td>\n",
       "      <td>0.166667</td>\n",
       "      <td>NaN</td>\n",
       "    </tr>\n",
       "    <tr>\n",
       "      <th>(1, 2)</th>\n",
       "      <td>3</td>\n",
       "      <td>1</td>\n",
       "      <td>2</td>\n",
       "      <td>0.111111</td>\n",
       "      <td>0.166667</td>\n",
       "      <td>NaN</td>\n",
       "    </tr>\n",
       "    <tr>\n",
       "      <th>(1, 3)</th>\n",
       "      <td>4</td>\n",
       "      <td>1</td>\n",
       "      <td>3</td>\n",
       "      <td>0.111111</td>\n",
       "      <td>0.166667</td>\n",
       "      <td>NaN</td>\n",
       "    </tr>\n",
       "    <tr>\n",
       "      <th>(1, 4)</th>\n",
       "      <td>5</td>\n",
       "      <td>1</td>\n",
       "      <td>4</td>\n",
       "      <td>0.111111</td>\n",
       "      <td>0.166667</td>\n",
       "      <td>NaN</td>\n",
       "    </tr>\n",
       "    <tr>\n",
       "      <th>(1, 5)</th>\n",
       "      <td>6</td>\n",
       "      <td>1</td>\n",
       "      <td>5</td>\n",
       "      <td>0.111111</td>\n",
       "      <td>0.166667</td>\n",
       "      <td>NaN</td>\n",
       "    </tr>\n",
       "  </tbody>\n",
       "</table>\n",
       "</div>"
      ],
      "text/plain": [
       "        sum  d1  d2       pd1       pd2    p\n",
       "(1, 1)    2   1   1  0.111111  0.166667  NaN\n",
       "(1, 2)    3   1   2  0.111111  0.166667  NaN\n",
       "(1, 3)    4   1   3  0.111111  0.166667  NaN\n",
       "(1, 4)    5   1   4  0.111111  0.166667  NaN\n",
       "(1, 5)    6   1   5  0.111111  0.166667  NaN"
      ]
     },
     "execution_count": 20,
     "metadata": {},
     "output_type": "execute_result"
    }
   ],
   "source": [
    "df.head()"
   ]
  },
  {
   "cell_type": "code",
   "execution_count": 21,
   "metadata": {
    "collapsed": true
   },
   "outputs": [],
   "source": [
    "# compute the joint probabilities for the sum of the shown faces\n",
    "df[\"p\"] = df[\"pd1\"] * df[\"pd2\"]"
   ]
  },
  {
   "cell_type": "code",
   "execution_count": 22,
   "metadata": {
    "collapsed": false
   },
   "outputs": [
    {
     "data": {
      "text/plain": [
       "sum\n",
       "2     0.018519\n",
       "3     0.037037\n",
       "4     0.055556\n",
       "5     0.092593\n",
       "6     0.129630\n",
       "7     0.166667\n",
       "8     0.148148\n",
       "9     0.129630\n",
       "10    0.111111\n",
       "11    0.074074\n",
       "12    0.037037\n",
       "Name: p, dtype: float64"
      ]
     },
     "execution_count": 22,
     "metadata": {},
     "output_type": "execute_result"
    }
   ],
   "source": [
    "df.groupby(\"sum\")[\"p\"].sum()"
   ]
  },
  {
   "cell_type": "markdown",
   "metadata": {},
   "source": [
    "# Classic Broken Rod Example"
   ]
  },
  {
   "cell_type": "markdown",
   "metadata": {},
   "source": [
    "Q. Given a rod of unit-length, broken **independently and randomly at two places**, what is the probability that you can assemble the three remaining pieces into a triangle? [Heron's formula](# https://en.wikipedia.org/wiki/Heron%27s_formula)"
   ]
  },
  {
   "cell_type": "markdown",
   "metadata": {},
   "source": [
    "area = sqrt((s − a)(s − b)(s − c)s)  \n",
    "where s = (a + b + c)/2"
   ]
  },
  {
   "cell_type": "markdown",
   "metadata": {},
   "source": [
    "To be a valid area, each of the terms under the square root needs to be greater than or equal to zero:  \n",
    "* (s - a) > 0\n",
    "* (s - b) > 0\n",
    "* (s - c) > 0\n",
    "* s > 0"
   ]
  },
  {
   "cell_type": "markdown",
   "metadata": {},
   "source": [
    "0----x----y-----1  \n",
    "|--a-|--b--|--c--|  \n",
    "\n",
    "* a = x\n",
    "* b = y - x\n",
    "* c = 1 - y\n",
    "* y > x"
   ]
  },
  {
   "cell_type": "markdown",
   "metadata": {},
   "source": [
    "=> {(s > a) ∧ (s > b) ∧ (s > c) ∧ (y > x)}"
   ]
  },
  {
   "cell_type": "code",
   "execution_count": 23,
   "metadata": {
    "collapsed": false
   },
   "outputs": [],
   "source": [
    "def sim(n=1000):\n",
    "    # reate an array of the given shape and populate it with random samples \n",
    "    # from a uniform distribution over [0, 1).\n",
    "    x, y = np.random.rand(2, n)\n",
    "    (a, b, c) = (x, (y-x), (1-y))\n",
    "    s = (a + b + c) /2\n",
    "    return np.mean((s > a) & (s > b) & (s > c) & (y > x))"
   ]
  },
  {
   "cell_type": "code",
   "execution_count": 24,
   "metadata": {
    "collapsed": false
   },
   "outputs": [
    {
     "data": {
      "text/plain": [
       "0.107"
      ]
     },
     "execution_count": 24,
     "metadata": {},
     "output_type": "execute_result"
    }
   ],
   "source": [
    "sim()"
   ]
  },
  {
   "cell_type": "code",
   "execution_count": 25,
   "metadata": {
    "collapsed": false
   },
   "outputs": [],
   "source": [
    "def repeat_sim(n=10000):\n",
    "    res = [sim() for _ in range(n)]\n",
    "    plt.hist(res, alpha=0.5)\n",
    "    plt.axvline(np.mean(res), color='k', linestyle='dashed', linewidth=1)\n",
    "    plt.show()\n",
    "    half_res = np.mean(res)\n",
    "    print(\"when y > x (half): \", half_res) # approx. 1/8 = 0.125\n",
    "    \n",
    "    #By symmetry, we get the same result for x > y. Thus...\n",
    "    return 2 * half_res # approx. 1/4 = 0.25"
   ]
  },
  {
   "cell_type": "code",
   "execution_count": 26,
   "metadata": {
    "collapsed": false
   },
   "outputs": [
    {
     "data": {
      "image/png": "[encoded data removed]",
      "text/plain": [
       "<matplotlib.figure.Figure at 0x7fea80858518>"
      ]
     },
     "metadata": {},
     "output_type": "display_data"
    },
    {
     "name": "stdout",
     "output_type": "stream",
     "text": [
      "when y > x (half):  0.1250005\n",
      "The answer is:  0.250001\n"
     ]
    }
   ],
   "source": [
    "print(\"The answer is: \", repeat_sim())"
   ]
  },
  {
   "cell_type": "markdown",
   "metadata": {},
   "source": [
    "# Introduction to SymPy"
   ]
  },
  {
   "cell_type": "code",
   "execution_count": 27,
   "metadata": {
    "collapsed": true
   },
   "outputs": [],
   "source": [
    "import sympy as S"
   ]
  },
  {
   "cell_type": "code",
   "execution_count": 28,
   "metadata": {
    "collapsed": false
   },
   "outputs": [
    {
     "data": {
      "text/plain": [
       "x"
      ]
     },
     "execution_count": 28,
     "metadata": {},
     "output_type": "execute_result"
    }
   ],
   "source": [
    "x = S.symbols(\"x\")\n",
    "x"
   ]
  },
  {
   "cell_type": "code",
   "execution_count": 29,
   "metadata": {
    "collapsed": false
   },
   "outputs": [
    {
     "data": {
      "text/plain": [
       "x**2 + x + 1"
      ]
     },
     "execution_count": 29,
     "metadata": {},
     "output_type": "execute_result"
    }
   ],
   "source": [
    "p = sum(x**i for i in range(3)) # 2nd order polynomial\n",
    "p"
   ]
  },
  {
   "cell_type": "code",
   "execution_count": 30,
   "metadata": {
    "collapsed": false
   },
   "outputs": [
    {
     "data": {
      "text/plain": [
       "[-1/2 - sqrt(3)*I/2, -1/2 + sqrt(3)*I/2]"
      ]
     },
     "execution_count": 30,
     "metadata": {},
     "output_type": "execute_result"
    }
   ],
   "source": [
    "# we can find the roots of this polynomial using Sympy functions\n",
    "S.solve(p) # solves p == 0"
   ]
  },
  {
   "cell_type": "code",
   "execution_count": 31,
   "metadata": {
    "collapsed": false
   },
   "outputs": [
    {
     "data": {
      "text/plain": [
       "{-1/2 - sqrt(3)*I/2: 1, -1/2 + sqrt(3)*I/2: 1}"
      ]
     },
     "execution_count": 31,
     "metadata": {},
     "output_type": "execute_result"
    }
   ],
   "source": [
    "# same output but as a dictionary.\n",
    "S.roots(p) "
   ]
  },
  {
   "cell_type": "code",
   "execution_count": 32,
   "metadata": {
    "collapsed": true
   },
   "outputs": [],
   "source": [
    "from sympy.abc import a,b,c # quick way to get common symbols"
   ]
  },
  {
   "cell_type": "code",
   "execution_count": 33,
   "metadata": {
    "collapsed": false
   },
   "outputs": [
    {
     "data": {
      "text/plain": [
       "[(-b + sqrt(-4*a*c + b**2))/(2*a), -(b + sqrt(-4*a*c + b**2))/(2*a)]"
      ]
     },
     "execution_count": 33,
     "metadata": {},
     "output_type": "execute_result"
    }
   ],
   "source": [
    "p = a* x**2 + b*x + c\n",
    "S.solve(p,x) # specific solving for x-variable"
   ]
  },
  {
   "cell_type": "code",
   "execution_count": 34,
   "metadata": {
    "collapsed": false
   },
   "outputs": [
    {
     "data": {
      "text/plain": [
       "exp(I*a)"
      ]
     },
     "execution_count": 34,
     "metadata": {},
     "output_type": "execute_result"
    }
   ],
   "source": [
    "# Euler’s formula: exp(i * x) = cos(x) + i * sin(x)\n",
    "a = S.symbols(\"a\",real=True) #forced additional condition; a is a real number\n",
    "S.exp(S.I * a) #using Sympy exponential"
   ]
  },
  {
   "cell_type": "code",
   "execution_count": 35,
   "metadata": {
    "collapsed": false
   },
   "outputs": [
    {
     "data": {
      "text/plain": [
       "I*sin(a) + cos(a)"
      ]
     },
     "execution_count": 35,
     "metadata": {},
     "output_type": "execute_result"
    }
   ],
   "source": [
    "S.expand_complex(S.exp(S.I * a))"
   ]
  },
  {
   "cell_type": "code",
   "execution_count": 36,
   "metadata": {
    "collapsed": true
   },
   "outputs": [],
   "source": [
    "# evaluate!\n",
    "y = S.tan(x) * x + x**2\n",
    "yf= S.lambdify(x, y, \"numpy\") # Numpy function with lambdify"
   ]
  },
  {
   "cell_type": "code",
   "execution_count": 37,
   "metadata": {
    "collapsed": false
   },
   "outputs": [
    {
     "data": {
      "text/plain": [
       "0.0200334672085451"
      ]
     },
     "execution_count": 37,
     "metadata": {},
     "output_type": "execute_result"
    }
   ],
   "source": [
    "y.subs(x,0.1) # evaluated using Sympy"
   ]
  },
  {
   "cell_type": "code",
   "execution_count": 38,
   "metadata": {
    "collapsed": false
   },
   "outputs": [
    {
     "data": {
      "text/plain": [
       "0.020033467208545055"
      ]
     },
     "execution_count": 38,
     "metadata": {},
     "output_type": "execute_result"
    }
   ],
   "source": [
    "yf(0.1) # evaluated using Numpy"
   ]
  },
  {
   "cell_type": "code",
   "execution_count": 39,
   "metadata": {
    "collapsed": false
   },
   "outputs": [
    {
     "data": {
      "text/plain": [
       "array([ 0.        ,  2.55740772, -0.37007973])"
      ]
     },
     "execution_count": 39,
     "metadata": {},
     "output_type": "execute_result"
    }
   ],
   "source": [
    "yf(np.arange(3)) # input is Numpy array"
   ]
  },
  {
   "cell_type": "code",
   "execution_count": 40,
   "metadata": {
    "collapsed": false
   },
   "outputs": [
    {
     "data": {
      "text/plain": [
       "array([ 0.        ,  2.55740762, -0.37007973], dtype=float32)"
      ]
     },
     "execution_count": 40,
     "metadata": {},
     "output_type": "execute_result"
    }
   ],
   "source": [
    "#for SymPy, need extra work..\n",
    "np.array([y.subs(x, i).evalf() for i in range(3) ], dtype=np.float32)"
   ]
  },
  {
   "cell_type": "markdown",
   "metadata": {},
   "source": [
    "# Conditional Expectation as Projection"
   ]
  },
  {
   "cell_type": "code",
   "execution_count": 41,
   "metadata": {
    "collapsed": true
   },
   "outputs": [],
   "source": [
    "from sympy.abc import y,x\n",
    "from sympy import integrate, simplify"
   ]
  },
  {
   "cell_type": "markdown",
   "metadata": {},
   "source": [
    "Let’s consider the following example with probability density f = x + y\n",
    "where (x, y) ∈ [0, 1]^2 and compute the conditional expectation straight from the definition:"
   ]
  },
  {
   "cell_type": "code",
   "execution_count": 42,
   "metadata": {
    "collapsed": true
   },
   "outputs": [],
   "source": [
    "fxy = x + y # joint density\n",
    "fy = integrate(fxy, (x,0,1)) # marginal density\n",
    "fx = integrate(fxy, (y,0,1)) # marginal density"
   ]
  },
  {
   "cell_type": "markdown",
   "metadata": {},
   "source": [
    "* E(X|Y)   \n",
    "= integrate(x `*` (fxy/fy), (x,0,1))  \n",
    "= integrate(x `*` (x+y)/(y + 0.5), (x,0,1))  \n",
    "= (3`*`y + 2)/(6`*`y + 3)"
   ]
  },
  {
   "cell_type": "code",
   "execution_count": 43,
   "metadata": {
    "collapsed": true
   },
   "outputs": [],
   "source": [
    "EXY = (3*y + 2)/(6*y + 3) # conditional expectation"
   ]
  },
  {
   "cell_type": "markdown",
   "metadata": {},
   "source": [
    "* E(X − E(X|Y))^2 = E(X)^2 − E(E(X|Y))^2"
   ]
  },
  {
   "cell_type": "code",
   "execution_count": 44,
   "metadata": {
    "collapsed": true
   },
   "outputs": [],
   "source": [
    "LHS = integrate((x-EXY)**2*fxy, (x,0,1), (y,0,1))"
   ]
  },
  {
   "cell_type": "code",
   "execution_count": 45,
   "metadata": {
    "collapsed": true
   },
   "outputs": [],
   "source": [
    "RHS = integrate((x)**2*fx, (x,0,1)) - integrate((EXY)**2*fy, (y,0,1))"
   ]
  },
  {
   "cell_type": "code",
   "execution_count": 46,
   "metadata": {
    "collapsed": false
   },
   "outputs": [],
   "source": [
    "assert(simplify(LHS - RHS) == 0)"
   ]
  },
  {
   "cell_type": "markdown",
   "metadata": {},
   "source": [
    "# Conditional Expectation and Mean Squared Error"
   ]
  },
  {
   "cell_type": "markdown",
   "metadata": {
    "collapsed": true
   },
   "source": [
    "We have two fair six-sided die (X and Y) and we want to measure the sum of the two variables as Z = X + Y .\n",
    "\n",
    "Let’s suppose that given Z , we want the best estimate of X in the mean-squared-sense. \n",
    "\n",
    "Thus, we want to minimize the following:  \n",
    "* J(α) = sum((x − αz)^2 * P(x, z))  => E((x - αz)^2)\n",
    "\n",
    "substituting z with x + y,\n",
    "* J(α) = sum((x − α(x + y))^2 * P(x, y))"
   ]
  },
  {
   "cell_type": "code",
   "execution_count": 47,
   "metadata": {
    "collapsed": true
   },
   "outputs": [],
   "source": [
    "from sympy.stats import density, E, Die"
   ]
  },
  {
   "cell_type": "code",
   "execution_count": 48,
   "metadata": {
    "collapsed": false
   },
   "outputs": [
    {
     "data": {
      "text/plain": [
       "D1"
      ]
     },
     "execution_count": 48,
     "metadata": {},
     "output_type": "execute_result"
    }
   ],
   "source": [
    "x = Die(\"D1\", 6) # 1st 6-sided die\n",
    "x"
   ]
  },
  {
   "cell_type": "code",
   "execution_count": 49,
   "metadata": {
    "collapsed": false
   },
   "outputs": [
    {
     "data": {
      "text/plain": [
       "D2"
      ]
     },
     "execution_count": 49,
     "metadata": {},
     "output_type": "execute_result"
    }
   ],
   "source": [
    "y = Die(\"D2\",6) # 2nd 6-sided die\n",
    "y"
   ]
  },
  {
   "cell_type": "code",
   "execution_count": 50,
   "metadata": {
    "collapsed": true
   },
   "outputs": [],
   "source": [
    "z = x + y # sum of 1st and 2nd die"
   ]
  },
  {
   "cell_type": "code",
   "execution_count": 51,
   "metadata": {
    "collapsed": false
   },
   "outputs": [],
   "source": [
    "J = E((x-a*(x+y))**2) # expectation"
   ]
  },
  {
   "cell_type": "code",
   "execution_count": 52,
   "metadata": {
    "collapsed": false
   },
   "outputs": [
    {
     "data": {
      "text/plain": [
       "329*a**2/6 - 329*a/6 + 91/6"
      ]
     },
     "execution_count": 52,
     "metadata": {},
     "output_type": "execute_result"
    }
   ],
   "source": [
    "S.simplify(J) # 329*a**2/6 - 329*a/6 + 91/6"
   ]
  },
  {
   "cell_type": "code",
   "execution_count": 53,
   "metadata": {
    "collapsed": false
   },
   "outputs": [],
   "source": [
    "solution = S.solve(S.diff(J, a), a)"
   ]
  },
  {
   "cell_type": "code",
   "execution_count": 54,
   "metadata": {
    "collapsed": false
   },
   "outputs": [
    {
     "data": {
      "text/plain": [
       "[1/2]"
      ]
     },
     "execution_count": 54,
     "metadata": {},
     "output_type": "execute_result"
    }
   ],
   "source": [
    "solution #=> E(x|z) = z/2"
   ]
  },
  {
   "cell_type": "markdown",
   "metadata": {},
   "source": [
    "Using the conditional expectation operator E(·|z)  \n",
    "\n",
    "E(z|z) = E(x+y|z) = E(x|z) + E(y|z) = z  \n",
    "Because E(x|z) = E(y|z), 2 `*` E(x|z) = z  \n",
    "Thus, E(x|z) = z/2"
   ]
  },
  {
   "cell_type": "code",
   "execution_count": 55,
   "metadata": {
    "collapsed": false
   },
   "outputs": [],
   "source": [
    "from sympy import stats"
   ]
  },
  {
   "cell_type": "markdown",
   "metadata": {},
   "source": [
    "```stats.sample(x, S.Eq(z,7))``` function call samples the x variable subject to a condition on the z variable.\n",
    "\n",
    "In other words, it generates random samples of x die, given that the sum of the outcomes of that die and the y die add up to z==7."
   ]
  },
  {
   "cell_type": "code",
   "execution_count": 56,
   "metadata": {
    "collapsed": false
   },
   "outputs": [],
   "source": [
    "def mse(x, z, estimate, condition, n=1000):\n",
    "    mse = np.mean([(estimate - stats.sample(x, S.Eq(z, condition)))**2 for _ in range(n)])\n",
    "    print(\"MSE for estimate {}: {}\".format(estimate, mse))\n",
    "    return mse"
   ]
  },
  {
   "cell_type": "code",
   "execution_count": 57,
   "metadata": {
    "collapsed": false
   },
   "outputs": [
    {
     "name": "stdout",
     "output_type": "stream",
     "text": [
      "MSE for estimate 6: 9053/1000\n"
     ]
    },
    {
     "data": {
      "text/plain": [
       "9053/1000"
      ]
     },
     "execution_count": 57,
     "metadata": {},
     "output_type": "execute_result"
    }
   ],
   "source": [
    "# MSE using 6 as an estimate\n",
    "z = 7\n",
    "estimate = 6\n",
    "mse(x=x, z=z, estimate=estimate, condition=z, n=1000)"
   ]
  },
  {
   "cell_type": "code",
   "execution_count": 58,
   "metadata": {
    "collapsed": false
   },
   "outputs": [
    {
     "name": "stdout",
     "output_type": "stream",
     "text": [
      "MSE for estimate 3.5: 2.81600000000000\n"
     ]
    },
    {
     "data": {
      "text/plain": [
       "2.81600000000000"
      ]
     },
     "execution_count": 58,
     "metadata": {},
     "output_type": "execute_result"
    }
   ],
   "source": [
    "# MSE using 7/2 as an estimate: 7/2 is the MSE estimate\n",
    "z = 7\n",
    "estimate = 7/2\n",
    "mse(x=x, z=z, estimate=estimate, condition=z, n=1000) #smallest MSE"
   ]
  },
  {
   "cell_type": "code",
   "execution_count": 59,
   "metadata": {
    "collapsed": false
   },
   "outputs": [
    {
     "data": {
      "text/plain": [
       "array([ 1. ,  1.5,  2. ,  2.5,  3. ,  3.5,  4. ,  4.5,  5. ,  5.5,  6. ])"
      ]
     },
     "execution_count": 59,
     "metadata": {},
     "output_type": "execute_result"
    }
   ],
   "source": [
    "lst = np.arange(1,6.5,0.5)\n",
    "lst"
   ]
  },
  {
   "cell_type": "code",
   "execution_count": 60,
   "metadata": {
    "collapsed": false
   },
   "outputs": [
    {
     "name": "stdout",
     "output_type": "stream",
     "text": [
      "MSE for estimate 1.0: 9.43700000000000\n",
      "MSE for estimate 1.5: 6.71800000000000\n",
      "MSE for estimate 2.0: 5.24700000000000\n",
      "MSE for estimate 2.5: 3.97400000000000\n",
      "MSE for estimate 3.0: 3.20600000000000\n",
      "MSE for estimate 3.5: 2.98000000000000\n",
      "MSE for estimate 4.0: 3.21700000000000\n",
      "MSE for estimate 4.5: 4.04600000000000\n",
      "MSE for estimate 5.0: 5.09700000000000\n",
      "MSE for estimate 5.5: 6.73200000000000\n",
      "MSE for estimate 6.0: 9.73200000000000\n"
     ]
    },
    {
     "data": {
      "text/plain": [
       "<matplotlib.lines.Line2D at 0x7fea7cc4f940>"
      ]
     },
     "execution_count": 60,
     "metadata": {},
     "output_type": "execute_result"
    }
   ],
   "source": [
    "plt.plot(lst, [mse(x=x, z=z, estimate=candidate, condition=z, n=1000) for candidate in lst])\n",
    "plt.axvline(3.5, color='k', linestyle='dashed', linewidth=1)"
   ]
  },
  {
   "cell_type": "code",
   "execution_count": 61,
   "metadata": {
    "collapsed": false
   },
   "outputs": [
    {
     "data": {
      "image/png": "[encoded data removed]",
      "text/plain": [
       "<matplotlib.figure.Figure at 0x7fea7cc4ff60>"
      ]
     },
     "metadata": {},
     "output_type": "display_data"
    }
   ],
   "source": [
    "plt.show()"
   ]
  },
  {
   "cell_type": "code",
   "execution_count": 62,
   "metadata": {
    "collapsed": false
   },
   "outputs": [
    {
     "data": {
      "text/plain": [
       "3623/1000"
      ]
     },
     "execution_count": 62,
     "metadata": {},
     "output_type": "execute_result"
    }
   ],
   "source": [
    "np.mean([stats.sample(x, S.Eq(7)) for _ in range(1000)]) # ~ 7/2"
   ]
  }
 ],
 "metadata": {
  "kernelspec": {
   "display_name": "Python 3",
   "language": "python",
   "name": "python3"
  },
  "language_info": {
   "codemirror_mode": {
    "name": "ipython",
    "version": 3
   },
   "file_extension": ".py",
   "mimetype": "text/x-python",
   "name": "python",
   "nbconvert_exporter": "python",
   "pygments_lexer": "ipython3",
   "version": "3.6.0"
  }
 },
 "nbformat": 4,
 "nbformat_minor": 2
}
